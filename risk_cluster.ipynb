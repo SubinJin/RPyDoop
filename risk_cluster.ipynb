{
 "cells": [
  {
   "cell_type": "code",
   "execution_count": 2,
   "metadata": {},
   "outputs": [],
   "source": [
    "library(cluster)\n",
    "library(NbClust)\n",
    "library(kohonen)\n",
    "library(ggplot2)\n",
    "library(gridExtra)\n",
    "library(scales)"
   ]
  },
  {
   "cell_type": "code",
   "execution_count": 7,
   "metadata": {},
   "outputs": [
    {
     "data": {
      "text/html": [
       "<table>\n",
       "<thead><tr><th scope=col>지역</th><th scope=col>소멸비율</th><th scope=col>관광.여가.오락</th><th scope=col>부동산</th><th scope=col>생활서비스</th><th scope=col>학문.교육</th><th scope=col>소멸지역여부</th></tr></thead>\n",
       "<tbody>\n",
       "\t<tr><td>경상북도 의성군 </td><td>0.3139632       </td><td>24              </td><td>13              </td><td>389             </td><td>61              </td><td>소멸위험지역    </td></tr>\n",
       "\t<tr><td>경상북도 의성군 </td><td>0.3156284       </td><td>26              </td><td>14              </td><td>407             </td><td>66              </td><td>소멸위험지역    </td></tr>\n",
       "\t<tr><td>경상북도 의성군 </td><td>0.3180173       </td><td>26              </td><td>15              </td><td>425             </td><td>62              </td><td>소멸위험지역    </td></tr>\n",
       "\t<tr><td>경상북도 의성군 </td><td>0.3230777       </td><td>26              </td><td>15              </td><td>424             </td><td>62              </td><td>소멸위험지역    </td></tr>\n",
       "\t<tr><td>전라남도 고흥군 </td><td>0.3326796       </td><td>34              </td><td>17              </td><td>514             </td><td>96              </td><td>소멸위험지역    </td></tr>\n",
       "\t<tr><td>전라남도 고흥군 </td><td>0.3329543       </td><td>34              </td><td>17              </td><td>514             </td><td>96              </td><td>소멸위험지역    </td></tr>\n",
       "</tbody>\n",
       "</table>\n"
      ],
      "text/latex": [
       "\\begin{tabular}{r|lllllll}\n",
       " 지역 & 소멸비율 & 관광.여가.오락 & 부동산 & 생활서비스 & 학문.교육 & 소멸지역여부\\\\\n",
       "\\hline\n",
       "\t 경상북도 의성군  & 0.3139632        & 24               & 13               & 389              & 61               & 소멸위험지역    \\\\\n",
       "\t 경상북도 의성군  & 0.3156284        & 26               & 14               & 407              & 66               & 소멸위험지역    \\\\\n",
       "\t 경상북도 의성군  & 0.3180173        & 26               & 15               & 425              & 62               & 소멸위험지역    \\\\\n",
       "\t 경상북도 의성군  & 0.3230777        & 26               & 15               & 424              & 62               & 소멸위험지역    \\\\\n",
       "\t 전라남도 고흥군  & 0.3326796        & 34               & 17               & 514              & 96               & 소멸위험지역    \\\\\n",
       "\t 전라남도 고흥군  & 0.3329543        & 34               & 17               & 514              & 96               & 소멸위험지역    \\\\\n",
       "\\end{tabular}\n"
      ],
      "text/markdown": [
       "\n",
       "지역 | 소멸비율 | 관광.여가.오락 | 부동산 | 생활서비스 | 학문.교육 | 소멸지역여부 | \n",
       "|---|---|---|---|---|---|\n",
       "| 경상북도 의성군  | 0.3139632        | 24               | 13               | 389              | 61               | 소멸위험지역     | \n",
       "| 경상북도 의성군  | 0.3156284        | 26               | 14               | 407              | 66               | 소멸위험지역     | \n",
       "| 경상북도 의성군  | 0.3180173        | 26               | 15               | 425              | 62               | 소멸위험지역     | \n",
       "| 경상북도 의성군  | 0.3230777        | 26               | 15               | 424              | 62               | 소멸위험지역     | \n",
       "| 전라남도 고흥군  | 0.3326796        | 34               | 17               | 514              | 96               | 소멸위험지역     | \n",
       "| 전라남도 고흥군  | 0.3329543        | 34               | 17               | 514              | 96               | 소멸위험지역     | \n",
       "\n",
       "\n"
      ],
      "text/plain": [
       "  지역             소멸비율  관광.여가.오락 부동산 생활서비스 학문.교육\n",
       "1 경상북도 의성군  0.3139632 24             13     389        61       \n",
       "2 경상북도 의성군  0.3156284 26             14     407        66       \n",
       "3 경상북도 의성군  0.3180173 26             15     425        62       \n",
       "4 경상북도 의성군  0.3230777 26             15     424        62       \n",
       "5 전라남도 고흥군  0.3326796 34             17     514        96       \n",
       "6 전라남도 고흥군  0.3329543 34             17     514        96       \n",
       "  소멸지역여부\n",
       "1 소멸위험지역\n",
       "2 소멸위험지역\n",
       "3 소멸위험지역\n",
       "4 소멸위험지역\n",
       "5 소멸위험지역\n",
       "6 소멸위험지역"
      ]
     },
     "metadata": {},
     "output_type": "display_data"
    }
   ],
   "source": [
    "lowsig <- read.csv(\"C:/총_지역적인구분석(위험만).csv\")\n",
    "head(lowsig)"
   ]
  },
  {
   "cell_type": "code",
   "execution_count": 28,
   "metadata": {
    "scrolled": true
   },
   "outputs": [
    {
     "name": "stderr",
     "output_type": "stream",
     "text": [
      "Warning message in createDataPartition(y = lowsig$지역, p = 0.7, list = F):\n",
      "\"Some classes have a single record ( 충청남도 보령시  ) and these will be selected for the sample\""
     ]
    },
    {
     "data": {
      "text/html": [
       "<table>\n",
       "<thead><tr><th scope=col>지역</th><th scope=col>소멸비율</th><th scope=col>관광.여가.오락</th><th scope=col>부동산</th><th scope=col>생활서비스</th><th scope=col>학문.교육</th><th scope=col>소멸지역여부</th></tr></thead>\n",
       "<tbody>\n",
       "\t<tr><td>경상북도 의성군 </td><td>0.3139632       </td><td>24              </td><td>13              </td><td>389             </td><td>61              </td><td>소멸위험지역    </td></tr>\n",
       "\t<tr><td>경상북도 의성군 </td><td>0.3156284       </td><td>26              </td><td>14              </td><td>407             </td><td>66              </td><td>소멸위험지역    </td></tr>\n",
       "\t<tr><td>경상북도 의성군 </td><td>0.3180173       </td><td>26              </td><td>15              </td><td>425             </td><td>62              </td><td>소멸위험지역    </td></tr>\n",
       "\t<tr><td>경상북도 의성군 </td><td>0.3230777       </td><td>26              </td><td>15              </td><td>424             </td><td>62              </td><td>소멸위험지역    </td></tr>\n",
       "\t<tr><td>전라남도 고흥군 </td><td>0.3326796       </td><td>34              </td><td>17              </td><td>514             </td><td>96              </td><td>소멸위험지역    </td></tr>\n",
       "\t<tr><td>전라남도 고흥군 </td><td>0.3329543       </td><td>34              </td><td>17              </td><td>514             </td><td>96              </td><td>소멸위험지역    </td></tr>\n",
       "</tbody>\n",
       "</table>\n"
      ],
      "text/latex": [
       "\\begin{tabular}{r|lllllll}\n",
       " 지역 & 소멸비율 & 관광.여가.오락 & 부동산 & 생활서비스 & 학문.교육 & 소멸지역여부\\\\\n",
       "\\hline\n",
       "\t 경상북도 의성군  & 0.3139632        & 24               & 13               & 389              & 61               & 소멸위험지역    \\\\\n",
       "\t 경상북도 의성군  & 0.3156284        & 26               & 14               & 407              & 66               & 소멸위험지역    \\\\\n",
       "\t 경상북도 의성군  & 0.3180173        & 26               & 15               & 425              & 62               & 소멸위험지역    \\\\\n",
       "\t 경상북도 의성군  & 0.3230777        & 26               & 15               & 424              & 62               & 소멸위험지역    \\\\\n",
       "\t 전라남도 고흥군  & 0.3326796        & 34               & 17               & 514              & 96               & 소멸위험지역    \\\\\n",
       "\t 전라남도 고흥군  & 0.3329543        & 34               & 17               & 514              & 96               & 소멸위험지역    \\\\\n",
       "\\end{tabular}\n"
      ],
      "text/markdown": [
       "\n",
       "지역 | 소멸비율 | 관광.여가.오락 | 부동산 | 생활서비스 | 학문.교육 | 소멸지역여부 | \n",
       "|---|---|---|---|---|---|\n",
       "| 경상북도 의성군  | 0.3139632        | 24               | 13               | 389              | 61               | 소멸위험지역     | \n",
       "| 경상북도 의성군  | 0.3156284        | 26               | 14               | 407              | 66               | 소멸위험지역     | \n",
       "| 경상북도 의성군  | 0.3180173        | 26               | 15               | 425              | 62               | 소멸위험지역     | \n",
       "| 경상북도 의성군  | 0.3230777        | 26               | 15               | 424              | 62               | 소멸위험지역     | \n",
       "| 전라남도 고흥군  | 0.3326796        | 34               | 17               | 514              | 96               | 소멸위험지역     | \n",
       "| 전라남도 고흥군  | 0.3329543        | 34               | 17               | 514              | 96               | 소멸위험지역     | \n",
       "\n",
       "\n"
      ],
      "text/plain": [
       "  지역             소멸비율  관광.여가.오락 부동산 생활서비스 학문.교육\n",
       "1 경상북도 의성군  0.3139632 24             13     389        61       \n",
       "2 경상북도 의성군  0.3156284 26             14     407        66       \n",
       "3 경상북도 의성군  0.3180173 26             15     425        62       \n",
       "4 경상북도 의성군  0.3230777 26             15     424        62       \n",
       "5 전라남도 고흥군  0.3326796 34             17     514        96       \n",
       "6 전라남도 고흥군  0.3329543 34             17     514        96       \n",
       "  소멸지역여부\n",
       "1 소멸위험지역\n",
       "2 소멸위험지역\n",
       "3 소멸위험지역\n",
       "4 소멸위험지역\n",
       "5 소멸위험지역\n",
       "6 소멸위험지역"
      ]
     },
     "metadata": {},
     "output_type": "display_data"
    },
    {
     "data": {
      "text/html": [
       "<table>\n",
       "<thead><tr><th></th><th scope=col>지역</th><th scope=col>소멸비율</th><th scope=col>관광.여가.오락</th><th scope=col>부동산</th><th scope=col>생활서비스</th><th scope=col>학문.교육</th><th scope=col>소멸지역여부</th></tr></thead>\n",
       "<tbody>\n",
       "\t<tr><th scope=row>8</th><td>전라남도 고흥군 </td><td>0.3354076       </td><td>29              </td><td>14              </td><td>495             </td><td>89              </td><td>소멸위험지역    </td></tr>\n",
       "\t<tr><th scope=row>12</th><td>경상북도 의성군 </td><td>0.3394598       </td><td>20              </td><td>14              </td><td>395             </td><td>58              </td><td>소멸위험지역    </td></tr>\n",
       "\t<tr><th scope=row>13</th><td>경상북도 의성군 </td><td>0.3437643       </td><td>15              </td><td> 6              </td><td>315             </td><td>52              </td><td>소멸위험지역    </td></tr>\n",
       "\t<tr><th scope=row>14</th><td>경상북도 군위군 </td><td>0.3445397       </td><td>17              </td><td>14              </td><td>146             </td><td>17              </td><td>소멸위험지역    </td></tr>\n",
       "\t<tr><th scope=row>24</th><td>경상북도 군위군 </td><td>0.3559399       </td><td>17              </td><td>14              </td><td>144             </td><td>23              </td><td>소멸위험지역    </td></tr>\n",
       "\t<tr><th scope=row>26</th><td>경상남도 합천군 </td><td>0.3568455       </td><td>43              </td><td>12              </td><td>320             </td><td>75              </td><td>소멸위험지역    </td></tr>\n",
       "</tbody>\n",
       "</table>\n"
      ],
      "text/latex": [
       "\\begin{tabular}{r|lllllll}\n",
       "  & 지역 & 소멸비율 & 관광.여가.오락 & 부동산 & 생활서비스 & 학문.교육 & 소멸지역여부\\\\\n",
       "\\hline\n",
       "\t8 & 전라남도 고흥군  & 0.3354076        & 29               & 14               & 495              & 89               & 소멸위험지역    \\\\\n",
       "\t12 & 경상북도 의성군  & 0.3394598        & 20               & 14               & 395              & 58               & 소멸위험지역    \\\\\n",
       "\t13 & 경상북도 의성군  & 0.3437643        & 15               &  6               & 315              & 52               & 소멸위험지역    \\\\\n",
       "\t14 & 경상북도 군위군  & 0.3445397        & 17               & 14               & 146              & 17               & 소멸위험지역    \\\\\n",
       "\t24 & 경상북도 군위군  & 0.3559399        & 17               & 14               & 144              & 23               & 소멸위험지역    \\\\\n",
       "\t26 & 경상남도 합천군  & 0.3568455        & 43               & 12               & 320              & 75               & 소멸위험지역    \\\\\n",
       "\\end{tabular}\n"
      ],
      "text/markdown": [
       "\n",
       "| <!--/--> | 지역 | 소멸비율 | 관광.여가.오락 | 부동산 | 생활서비스 | 학문.교육 | 소멸지역여부 | \n",
       "|---|---|---|---|---|---|\n",
       "| 8 | 전라남도 고흥군  | 0.3354076        | 29               | 14               | 495              | 89               | 소멸위험지역     | \n",
       "| 12 | 경상북도 의성군  | 0.3394598        | 20               | 14               | 395              | 58               | 소멸위험지역     | \n",
       "| 13 | 경상북도 의성군  | 0.3437643        | 15               |  6               | 315              | 52               | 소멸위험지역     | \n",
       "| 14 | 경상북도 군위군  | 0.3445397        | 17               | 14               | 146              | 17               | 소멸위험지역     | \n",
       "| 24 | 경상북도 군위군  | 0.3559399        | 17               | 14               | 144              | 23               | 소멸위험지역     | \n",
       "| 26 | 경상남도 합천군  | 0.3568455        | 43               | 12               | 320              | 75               | 소멸위험지역     | \n",
       "\n",
       "\n"
      ],
      "text/plain": [
       "   지역             소멸비율  관광.여가.오락 부동산 생활서비스 학문.교육\n",
       "8  전라남도 고흥군  0.3354076 29             14     495        89       \n",
       "12 경상북도 의성군  0.3394598 20             14     395        58       \n",
       "13 경상북도 의성군  0.3437643 15              6     315        52       \n",
       "14 경상북도 군위군  0.3445397 17             14     146        17       \n",
       "24 경상북도 군위군  0.3559399 17             14     144        23       \n",
       "26 경상남도 합천군  0.3568455 43             12     320        75       \n",
       "   소멸지역여부\n",
       "8  소멸위험지역\n",
       "12 소멸위험지역\n",
       "13 소멸위험지역\n",
       "14 소멸위험지역\n",
       "24 소멸위험지역\n",
       "26 소멸위험지역"
      ]
     },
     "metadata": {},
     "output_type": "display_data"
    }
   ],
   "source": [
    "library(caret)\n",
    "set.seed(7829)\n",
    "\n",
    "idx <- createDataPartition(y=lowsig$지역, p=0.7, list = F) \n",
    "# list = T를 하면 안되는데 이유는 나중에 공부하도록 하자\n",
    "train <- lowsig[idx,]\n",
    "test <- lowsig[-idx,]\n",
    "\n",
    "head(train)\n",
    "head(test)"
   ]
  },
  {
   "cell_type": "code",
   "execution_count": 29,
   "metadata": {},
   "outputs": [
    {
     "data": {
      "text/plain": [
       " 관광.여가.오락        부동산          생활서비스        학문.교육      \n",
       " Min.   :-1.5469   Min.   :-1.1537   Min.   :-1.4969   Min.   :-1.0838  \n",
       " 1st Qu.:-0.6944   1st Qu.:-0.6135   1st Qu.:-0.7290   1st Qu.:-0.6158  \n",
       " Median :-0.2208   Median :-0.3819   Median :-0.2061   Median :-0.2881  \n",
       " Mean   : 0.0000   Mean   : 0.0000   Mean   : 0.0000   Mean   : 0.0000  \n",
       " 3rd Qu.: 0.3949   3rd Qu.: 0.3512   3rd Qu.: 0.3310   3rd Qu.: 0.1566  \n",
       " Max.   : 5.0363   Max.   : 4.2485   Max.   : 3.6569   Max.   : 4.4745  "
      ]
     },
     "metadata": {},
     "output_type": "display_data"
    },
    {
     "data": {
      "text/html": [
       "<table>\n",
       "<thead><tr><th></th><th scope=col>관광.여가.오락</th><th scope=col>부동산</th><th scope=col>생활서비스</th><th scope=col>학문.교육</th></tr></thead>\n",
       "<tbody>\n",
       "\t<tr><th scope=row>1</th><td>-0.50492286</td><td>-0.6520434 </td><td>0.09069463 </td><td>-0.44023926</td></tr>\n",
       "\t<tr><th scope=row>2</th><td>-0.41020059</td><td>-0.6134567 </td><td>0.17549313 </td><td>-0.38173045</td></tr>\n",
       "\t<tr><th scope=row>3</th><td>-0.41020059</td><td>-0.5748700 </td><td>0.26029163 </td><td>-0.42853750</td></tr>\n",
       "\t<tr><th scope=row>4</th><td>-0.41020059</td><td>-0.5748700 </td><td>0.25558060 </td><td>-0.42853750</td></tr>\n",
       "\t<tr><th scope=row>5</th><td>-0.03131152</td><td>-0.4976965 </td><td>0.67957310 </td><td>-0.03067759</td></tr>\n",
       "\t<tr><th scope=row>6</th><td>-0.03131152</td><td>-0.4976965 </td><td>0.67957310 </td><td>-0.03067759</td></tr>\n",
       "</tbody>\n",
       "</table>\n"
      ],
      "text/latex": [
       "\\begin{tabular}{r|llll}\n",
       "  & 관광.여가.오락 & 부동산 & 생활서비스 & 학문.교육\\\\\n",
       "\\hline\n",
       "\t1 & -0.50492286 & -0.6520434  & 0.09069463  & -0.44023926\\\\\n",
       "\t2 & -0.41020059 & -0.6134567  & 0.17549313  & -0.38173045\\\\\n",
       "\t3 & -0.41020059 & -0.5748700  & 0.26029163  & -0.42853750\\\\\n",
       "\t4 & -0.41020059 & -0.5748700  & 0.25558060  & -0.42853750\\\\\n",
       "\t5 & -0.03131152 & -0.4976965  & 0.67957310  & -0.03067759\\\\\n",
       "\t6 & -0.03131152 & -0.4976965  & 0.67957310  & -0.03067759\\\\\n",
       "\\end{tabular}\n"
      ],
      "text/markdown": [
       "\n",
       "| <!--/--> | 관광.여가.오락 | 부동산 | 생활서비스 | 학문.교육 | \n",
       "|---|---|---|---|---|---|\n",
       "| 1 | -0.50492286 | -0.6520434  | 0.09069463  | -0.44023926 | \n",
       "| 2 | -0.41020059 | -0.6134567  | 0.17549313  | -0.38173045 | \n",
       "| 3 | -0.41020059 | -0.5748700  | 0.26029163  | -0.42853750 | \n",
       "| 4 | -0.41020059 | -0.5748700  | 0.25558060  | -0.42853750 | \n",
       "| 5 | -0.03131152 | -0.4976965  | 0.67957310  | -0.03067759 | \n",
       "| 6 | -0.03131152 | -0.4976965  | 0.67957310  | -0.03067759 | \n",
       "\n",
       "\n"
      ],
      "text/plain": [
       "  관광.여가.오락 부동산     생활서비스 학문.교육  \n",
       "1 -0.50492286    -0.6520434 0.09069463 -0.44023926\n",
       "2 -0.41020059    -0.6134567 0.17549313 -0.38173045\n",
       "3 -0.41020059    -0.5748700 0.26029163 -0.42853750\n",
       "4 -0.41020059    -0.5748700 0.25558060 -0.42853750\n",
       "5 -0.03131152    -0.4976965 0.67957310 -0.03067759\n",
       "6 -0.03131152    -0.4976965 0.67957310 -0.03067759"
      ]
     },
     "metadata": {},
     "output_type": "display_data"
    }
   ],
   "source": [
    "train.data <- scale(train[, 3:6])\n",
    "summary(train.data)\n",
    "\n",
    "head(train.data)"
   ]
  },
  {
   "cell_type": "code",
   "execution_count": 32,
   "metadata": {},
   "outputs": [
    {
     "data": {
      "text/html": [
       "<table>\n",
       "<thead><tr><th></th><th scope=col>관광.여가.오락</th><th scope=col>부동산</th><th scope=col>생활서비스</th><th scope=col>학문.교육</th></tr></thead>\n",
       "<tbody>\n",
       "\t<tr><th scope=row>1</th><td>-0.6329860</td><td>-0.5684621</td><td>-0.6060273</td><td>-0.5662972</td></tr>\n",
       "\t<tr><th scope=row>2</th><td> 1.9586200</td><td> 1.2586218</td><td> 2.0931094</td><td> 2.0699774</td></tr>\n",
       "\t<tr><th scope=row>3</th><td> 0.3795963</td><td> 0.5593623</td><td> 0.2682871</td><td> 0.2008854</td></tr>\n",
       "</tbody>\n",
       "</table>\n"
      ],
      "text/latex": [
       "\\begin{tabular}{r|llll}\n",
       "  & 관광.여가.오락 & 부동산 & 생활서비스 & 학문.교육\\\\\n",
       "\\hline\n",
       "\t1 & -0.6329860 & -0.5684621 & -0.6060273 & -0.5662972\\\\\n",
       "\t2 &  1.9586200 &  1.2586218 &  2.0931094 &  2.0699774\\\\\n",
       "\t3 &  0.3795963 &  0.5593623 &  0.2682871 &  0.2008854\\\\\n",
       "\\end{tabular}\n"
      ],
      "text/markdown": [
       "\n",
       "| <!--/--> | 관광.여가.오락 | 부동산 | 생활서비스 | 학문.교육 | \n",
       "|---|---|---|\n",
       "| 1 | -0.6329860 | -0.5684621 | -0.6060273 | -0.5662972 | \n",
       "| 2 |  1.9586200 |  1.2586218 |  2.0931094 |  2.0699774 | \n",
       "| 3 |  0.3795963 |  0.5593623 |  0.2682871 |  0.2008854 | \n",
       "\n",
       "\n"
      ],
      "text/plain": [
       "  관광.여가.오락 부동산     생활서비스 학문.교육 \n",
       "1 -0.6329860     -0.5684621 -0.6060273 -0.5662972\n",
       "2  1.9586200      1.2586218  2.0931094  2.0699774\n",
       "3  0.3795963      0.5593623  0.2682871  0.2008854"
      ]
     },
     "metadata": {},
     "output_type": "display_data"
    }
   ],
   "source": [
    "lowsig.km <- kmeans(train.data, centers = 3, iter.max = 10000)\n",
    "lowsig.km$centers"
   ]
  },
  {
   "cell_type": "code",
   "execution_count": 36,
   "metadata": {},
   "outputs": [
    {
     "data": {},
     "metadata": {},
     "output_type": "display_data"
    },
    {
     "data": {
      "text/plain": [
       "                    \n",
       "                     1 2 3\n",
       "  강원도 고성군      7 0 0\n",
       "  강원도 양양군      7 0 0\n",
       "  강원도 영월군      4 0 3\n",
       "  강원도 정선군      1 0 6\n",
       "  강원도 평창군      0 0 7\n",
       "  강원도 홍천군      0 2 0\n",
       "  강원도 횡성군      0 0 7\n",
       "  경상남도 거창군    0 0 7\n",
       "  경상남도 고성군    0 0 7\n",
       "  경상남도 남해군    5 0 2\n",
       "  경상남도 밀양시    0 7 0\n",
       "  경상남도 산청군    7 0 0\n",
       "  경상남도 의령군    7 0 0\n",
       "  경상남도 창녕군    0 0 7\n",
       "  경상남도 하동군    1 0 6\n",
       "  경상남도 함양군    7 0 0\n",
       "  경상남도 합천군    5 0 2\n",
       "  경상북도 고령군    7 0 0\n",
       "  경상북도 군위군    7 0 0\n",
       "  경상북도 문경시    0 6 1\n",
       "  경상북도 봉화군    7 0 0\n",
       "  경상북도 상주시    0 7 0\n",
       "  경상북도 성주군    7 0 0\n",
       "  경상북도 영덕군    4 0 3\n",
       "  경상북도 영양군    7 0 0\n",
       "  경상북도 영주시    0 5 0\n",
       "  경상북도 영천시    0 7 0\n",
       "  경상북도 예천군    7 0 0\n",
       "  경상북도 울릉군    3 0 0\n",
       "  경상북도 울진군    1 0 6\n",
       "  경상북도 의성군    7 0 0\n",
       "  경상북도 청도군    7 0 0\n",
       "  경상북도 청송군    7 0 0\n",
       "  인천광역시 강화군  0 0 7\n",
       "  인천광역시 옹진군  7 0 0\n",
       "  전라남도 강진군    7 0 0\n",
       "  전라남도 고흥군    2 0 5\n",
       "  전라남도 곡성군    7 0 0\n",
       "  전라남도 구례군    7 0 0\n",
       "  전라남도 담양군    7 0 0\n",
       "  전라남도 보성군    7 0 0\n",
       "  전라남도 신안군    7 0 0\n",
       "  전라남도 영광군    3 0 4\n",
       "  전라남도 영암군    2 0 3\n",
       "  전라남도 완도군    7 0 0\n",
       "  전라남도 장성군    7 0 0\n",
       "  전라남도 장흥군    7 0 0\n",
       "  전라남도 진도군    7 0 0\n",
       "  전라남도 함평군    7 0 0\n",
       "  전라남도 해남군    0 0 7\n",
       "  전라남도 화순군    0 0 3\n",
       "  전라북도 고창군    0 0 7\n",
       "  전라북도 김제시    0 7 0\n",
       "  전라북도 남원시    0 6 1\n",
       "  전라북도 무주군    7 0 0\n",
       "  전라북도 부안군    0 0 7\n",
       "  전라북도 순창군    7 0 0\n",
       "  전라북도 임실군    7 0 0\n",
       "  전라북도 장수군    7 0 0\n",
       "  전라북도 정읍시    0 7 0\n",
       "  전라북도 진안군    7 0 0\n",
       "  충청남도 금산군    0 0 7\n",
       "  충청남도 보령시    0 1 0\n",
       "  충청남도 부여군    0 0 7\n",
       "  충청남도 서천군    0 0 7\n",
       "  충청남도 예산군    0 7 0\n",
       "  충청남도 청양군    7 0 0\n",
       "  충청북도 괴산군    7 0 0\n",
       "  충청북도 단양군    7 0 0\n",
       "  충청북도 보은군    7 0 0\n",
       "  충청북도 영동군    1 0 6\n",
       "  충청북도 옥천군    0 0 7"
      ]
     },
     "metadata": {},
     "output_type": "display_data"
    },
    {
     "data": {
      "image/png": "[encoded data removed]",
      "text/plain": [
       "plot without title"
      ]
     },
     "metadata": {},
     "output_type": "display_data"
    }
   ],
   "source": [
    "train$cluster <- as.factor(lowsig.km$cluster)\n",
    "qplot(부동산, 생활서비스, color = cluster, data=train)\n",
    "table(train$지역, train$cluster)"
   ]
  },
  {
   "cell_type": "code",
   "execution_count": 38,
   "metadata": {},
   "outputs": [
    {
     "name": "stdout",
     "output_type": "stream",
     "text": [
      "*** : The Hubert index is a graphical method of determining the number of clusters.\n",
      "                In the plot of Hubert index, we seek a significant knee that corresponds to a \n",
      "                significant increase of the value of the measure i.e the significant peak in Hubert\n",
      "                index second differences plot. \n",
      " \n"
     ]
    },
    {
     "data": {
      "image/png": "[encoded data removed]",
      "text/plain": [
       "plot without title"
      ]
     },
     "metadata": {},
     "output_type": "display_data"
    },
    {
     "name": "stdout",
     "output_type": "stream",
     "text": [
      "*** : The D index is a graphical method of determining the number of clusters. \n",
      "                In the plot of D index, we seek a significant knee (the significant peak in Dindex\n",
      "                second differences plot) that corresponds to a significant increase of the value of\n",
      "                the measure. \n",
      " \n",
      "******************************************************************* \n",
      "* Among all indices:                                                \n",
      "* 10 proposed 2 as the best number of clusters \n",
      "* 2 proposed 3 as the best number of clusters \n",
      "* 2 proposed 4 as the best number of clusters \n",
      "* 1 proposed 5 as the best number of clusters \n",
      "* 3 proposed 6 as the best number of clusters \n",
      "* 1 proposed 7 as the best number of clusters \n",
      "* 3 proposed 13 as the best number of clusters \n",
      "* 2 proposed 15 as the best number of clusters \n",
      "\n",
      "                   ***** Conclusion *****                            \n",
      " \n",
      "* According to the majority rule, the best number of clusters is  2 \n",
      " \n",
      " \n",
      "******************************************************************* \n"
     ]
    },
    {
     "data": {
      "image/png": "[encoded data removed]",
      "text/plain": [
       "plot without title"
      ]
     },
     "metadata": {},
     "output_type": "display_data"
    }
   ],
   "source": [
    "nc <- NbClust(train.data, min.nc = 2, max.nc = 15, method=\"kmeans\")"
   ]
  },
  {
   "cell_type": "code",
   "execution_count": 40,
   "metadata": {},
   "outputs": [
    {
     "data": {
      "image/png": "[encoded data removed]",
      "text/plain": [
       "plot without title"
      ]
     },
     "metadata": {},
     "output_type": "display_data"
    }
   ],
   "source": [
    "par(mfrow=c(1, 1))\n",
    "barplot(table(nc$Best.n[1, ]))"
   ]
  },
  {
   "cell_type": "code",
   "execution_count": 42,
   "metadata": {},
   "outputs": [
    {
     "data": {},
     "metadata": {},
     "output_type": "display_data"
    },
    {
     "data": {
      "text/plain": [
       "                    \n",
       "                     1 2\n",
       "  강원도 고성군      7 0\n",
       "  강원도 양양군      7 0\n",
       "  강원도 영월군      7 0\n",
       "  강원도 정선군      7 0\n",
       "  강원도 평창군      0 7\n",
       "  강원도 홍천군      0 2\n",
       "  강원도 횡성군      1 6\n",
       "  경상남도 거창군    5 2\n",
       "  경상남도 고성군    3 4\n",
       "  경상남도 남해군    7 0\n",
       "  경상남도 밀양시    0 7\n",
       "  경상남도 산청군    7 0\n",
       "  경상남도 의령군    7 0\n",
       "  경상남도 창녕군    4 3\n",
       "  경상남도 하동군    7 0\n",
       "  경상남도 함양군    7 0\n",
       "  경상남도 합천군    7 0\n",
       "  경상북도 고령군    7 0\n",
       "  경상북도 군위군    7 0\n",
       "  경상북도 문경시    0 7\n",
       "  경상북도 봉화군    7 0\n",
       "  경상북도 상주시    0 7\n",
       "  경상북도 성주군    7 0\n",
       "  경상북도 영덕군    7 0\n",
       "  경상북도 영양군    7 0\n",
       "  경상북도 영주시    0 5\n",
       "  경상북도 영천시    0 7\n",
       "  경상북도 예천군    7 0\n",
       "  경상북도 울릉군    3 0\n",
       "  경상북도 울진군    7 0\n",
       "  경상북도 의성군    7 0\n",
       "  경상북도 청도군    7 0\n",
       "  경상북도 청송군    7 0\n",
       "  인천광역시 강화군  1 6\n",
       "  인천광역시 옹진군  7 0\n",
       "  전라남도 강진군    7 0\n",
       "  전라남도 고흥군    7 0\n",
       "  전라남도 곡성군    7 0\n",
       "  전라남도 구례군    7 0\n",
       "  전라남도 담양군    7 0\n",
       "  전라남도 보성군    7 0\n",
       "  전라남도 신안군    7 0\n",
       "  전라남도 영광군    7 0\n",
       "  전라남도 영암군    5 0\n",
       "  전라남도 완도군    7 0\n",
       "  전라남도 장성군    7 0\n",
       "  전라남도 장흥군    7 0\n",
       "  전라남도 진도군    7 0\n",
       "  전라남도 함평군    7 0\n",
       "  전라남도 해남군    5 2\n",
       "  전라남도 화순군    0 3\n",
       "  전라북도 고창군    7 0\n",
       "  전라북도 김제시    0 7\n",
       "  전라북도 남원시    0 7\n",
       "  전라북도 무주군    7 0\n",
       "  전라북도 부안군    5 2\n",
       "  전라북도 순창군    7 0\n",
       "  전라북도 임실군    7 0\n",
       "  전라북도 장수군    7 0\n",
       "  전라북도 정읍시    0 7\n",
       "  전라북도 진안군    7 0\n",
       "  충청남도 금산군    7 0\n",
       "  충청남도 보령시    0 1\n",
       "  충청남도 부여군    5 2\n",
       "  충청남도 서천군    7 0\n",
       "  충청남도 예산군    0 7\n",
       "  충청남도 청양군    7 0\n",
       "  충청북도 괴산군    7 0\n",
       "  충청북도 단양군    7 0\n",
       "  충청북도 보은군    7 0\n",
       "  충청북도 영동군    7 0\n",
       "  충청북도 옥천군    7 0"
      ]
     },
     "metadata": {},
     "output_type": "display_data"
    },
    {
     "data": {
      "image/png": "[encoded data removed]",
      "text/plain": [
       "plot without title"
      ]
     },
     "metadata": {},
     "output_type": "display_data"
    }
   ],
   "source": [
    "lowsig.km <- kmeans(train.data, centers = 2, iter.max = 10000)\n",
    "train$cluster <- as.factor(lowsig.km$cluster)\n",
    "qplot(부동산, 생활서비스, color=cluster, data=train)\n",
    "table(train$지역, train$cluster)"
   ]
  }
 ],
 "metadata": {
  "kernelspec": {
   "display_name": "R",
   "language": "R",
   "name": "ir"
  },
  "language_info": {
   "codemirror_mode": "r",
   "file_extension": ".r",
   "mimetype": "text/x-r-source",
   "name": "R",
   "pygments_lexer": "r",
   "version": "3.4.3"
  }
 },
 "nbformat": 4,
 "nbformat_minor": 2
}
