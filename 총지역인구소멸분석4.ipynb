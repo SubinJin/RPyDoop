{
 "cells": [
  {
   "cell_type": "markdown",
   "metadata": {},
   "source": [
    "# 인구 소멸 데이터 분석 \n",
    "#### 1) R 셋팅 \n",
    "- 패키지 설치\n",
    "\n",
    "#### 2)  인구소멸 관련 데이터셋 준비\n",
    "  - 관련 데이터 셋 불러오기\n",
    " \n",
    "#### 3) 훈련, 테스트셋의 구분\n",
    "  - Train, Test 데이터 셋 지정\n",
    "  \n",
    "#### 4) 인구 소멸관련 적합한 독립변수 선정 \n",
    "  - 선형회귀모형\n",
    "  - 라쏘 모형, 능형회귀\n",
    "  - 나무모형\n",
    "  - 랜덤포레스트 \n",
    "  - 부스팅\n",
    "    \n",
    "#### 5) 모형비교, 최종 모형 선택"
   ]
  },
  {
   "cell_type": "markdown",
   "metadata": {},
   "source": [
    "## 1. R 환경 준비"
   ]
  },
  {
   "cell_type": "code",
   "execution_count": 200,
   "metadata": {},
   "outputs": [],
   "source": [
    "#install.packages('ROCR')\n",
    "#install.packages('gbm')\n",
    "#install.packages('gridExtra')\n",
    "suppressMessages(library(tidyverse))"
   ]
  },
  {
   "cell_type": "code",
   "execution_count": 201,
   "metadata": {},
   "outputs": [],
   "source": [
    "suppressMessages(library(Metrics))\n",
    "suppressMessages(library(dplyr))\n",
    "suppressMessages(library(glmnet))\n",
    "suppressMessages(library(randomForest))\n",
    "suppressMessages(library(gbm))\n",
    "suppressMessages(library(rpart))\n",
    "suppressMessages(library(boot))\n",
    "suppressMessages(library(ROCR))\n",
    "suppressMessages(library(gridExtra))\n",
    "suppressMessages(library(ggplot2))"
   ]
  },
  {
   "cell_type": "markdown",
   "metadata": {},
   "source": [
    "## 2. 인구소멸 관련 데이터셋 준비 \n",
    "- 종속변수 : 소멸비율\n",
    "- 총 10개의 독립 변수 : 관광여가오락, 부동산, 생활서비스, 소매, 숙박, 음식, 의료, 학문교육, 외국인근로자, 결혼이민자\n",
    "- 소멸지역여부 : '소멸위험지역', '소멸위기지역', '소멸안정지역'"
   ]
  },
  {
   "cell_type": "code",
   "execution_count": 203,
   "metadata": {},
   "outputs": [
    {
     "data": {
      "text/html": [
       "<table>\n",
       "<thead><tr><th scope=col>지역</th><th scope=col>소멸비율</th><th scope=col>관광여가오락</th><th scope=col>부동산</th><th scope=col>생활서비스</th><th scope=col>소매</th><th scope=col>숙박</th><th scope=col>음식</th><th scope=col>의료</th><th scope=col>학문교육</th><th scope=col>외국인근로자</th><th scope=col>결혼이민자</th><th scope=col>소멸지역여부</th></tr></thead>\n",
       "<tbody>\n",
       "\t<tr><td>경상북도 의성군</td><td>0.3139632      </td><td>24             </td><td>13             </td><td>389            </td><td> 740           </td><td> 40            </td><td> 728           </td><td>  75           </td><td>61             </td><td>979            </td><td>187            </td><td>소멸위험지역   </td></tr>\n",
       "\t<tr><td>경상북도 의성군</td><td>0.3156284      </td><td>26             </td><td>14             </td><td>407            </td><td> 771           </td><td> 40            </td><td>  21           </td><td> 787           </td><td>66             </td><td>821            </td><td>190            </td><td>소멸위험지역   </td></tr>\n",
       "\t<tr><td>경상북도 의성군</td><td>0.3180173      </td><td>26             </td><td>15             </td><td>425            </td><td> 839           </td><td> 42            </td><td> 816           </td><td>  79           </td><td>62             </td><td>660            </td><td>186            </td><td>소멸위험지역   </td></tr>\n",
       "\t<tr><td>경상북도 의성군</td><td>0.3230777      </td><td>26             </td><td>15             </td><td>424            </td><td> 839           </td><td> 43            </td><td> 816           </td><td>  75           </td><td>62             </td><td>649            </td><td>198            </td><td>소멸위험지역   </td></tr>\n",
       "\t<tr><td>전라남도 고흥군</td><td>0.3326796      </td><td>34             </td><td>17             </td><td>514            </td><td>1681           </td><td>128            </td><td>1253           </td><td> 122           </td><td>96             </td><td>422            </td><td>228            </td><td>소멸위험지역   </td></tr>\n",
       "\t<tr><td>전라남도 고흥군</td><td>0.3329543      </td><td>34             </td><td>17             </td><td>514            </td><td>1673           </td><td>128            </td><td>  22           </td><td>1237           </td><td>96             </td><td>154            </td><td>254            </td><td>소멸위험지역   </td></tr>\n",
       "</tbody>\n",
       "</table>\n"
      ],
      "text/latex": [
       "\\begin{tabular}{r|lllllllllllll}\n",
       " 지역 & 소멸비율 & 관광여가오락 & 부동산 & 생활서비스 & 소매 & 숙박 & 음식 & 의료 & 학문교육 & 외국인근로자 & 결혼이민자 & 소멸지역여부\\\\\n",
       "\\hline\n",
       "\t 경상북도 의성군 & 0.3139632       & 24              & 13              & 389             &  740            &  40             &  728            &   75            & 61              & 979             & 187             & 소멸위험지역   \\\\\n",
       "\t 경상북도 의성군 & 0.3156284       & 26              & 14              & 407             &  771            &  40             &   21            &  787            & 66              & 821             & 190             & 소멸위험지역   \\\\\n",
       "\t 경상북도 의성군 & 0.3180173       & 26              & 15              & 425             &  839            &  42             &  816            &   79            & 62              & 660             & 186             & 소멸위험지역   \\\\\n",
       "\t 경상북도 의성군 & 0.3230777       & 26              & 15              & 424             &  839            &  43             &  816            &   75            & 62              & 649             & 198             & 소멸위험지역   \\\\\n",
       "\t 전라남도 고흥군 & 0.3326796       & 34              & 17              & 514             & 1681            & 128             & 1253            &  122            & 96              & 422             & 228             & 소멸위험지역   \\\\\n",
       "\t 전라남도 고흥군 & 0.3329543       & 34              & 17              & 514             & 1673            & 128             &   22            & 1237            & 96              & 154             & 254             & 소멸위험지역   \\\\\n",
       "\\end{tabular}\n"
      ],
      "text/markdown": [
       "\n",
       "지역 | 소멸비율 | 관광여가오락 | 부동산 | 생활서비스 | 소매 | 숙박 | 음식 | 의료 | 학문교육 | 외국인근로자 | 결혼이민자 | 소멸지역여부 | \n",
       "|---|---|---|---|---|---|\n",
       "| 경상북도 의성군 | 0.3139632       | 24              | 13              | 389             |  740            |  40             |  728            |   75            | 61              | 979             | 187             | 소멸위험지역    | \n",
       "| 경상북도 의성군 | 0.3156284       | 26              | 14              | 407             |  771            |  40             |   21            |  787            | 66              | 821             | 190             | 소멸위험지역    | \n",
       "| 경상북도 의성군 | 0.3180173       | 26              | 15              | 425             |  839            |  42             |  816            |   79            | 62              | 660             | 186             | 소멸위험지역    | \n",
       "| 경상북도 의성군 | 0.3230777       | 26              | 15              | 424             |  839            |  43             |  816            |   75            | 62              | 649             | 198             | 소멸위험지역    | \n",
       "| 전라남도 고흥군 | 0.3326796       | 34              | 17              | 514             | 1681            | 128             | 1253            |  122            | 96              | 422             | 228             | 소멸위험지역    | \n",
       "| 전라남도 고흥군 | 0.3329543       | 34              | 17              | 514             | 1673            | 128             |   22            | 1237            | 96              | 154             | 254             | 소멸위험지역    | \n",
       "\n",
       "\n"
      ],
      "text/plain": [
       "  지역            소멸비율  관광여가오락 부동산 생활서비스 소매 숙박 음식 의료\n",
       "1 경상북도 의성군 0.3139632 24           13     389         740  40   728   75\n",
       "2 경상북도 의성군 0.3156284 26           14     407         771  40    21  787\n",
       "3 경상북도 의성군 0.3180173 26           15     425         839  42   816   79\n",
       "4 경상북도 의성군 0.3230777 26           15     424         839  43   816   75\n",
       "5 전라남도 고흥군 0.3326796 34           17     514        1681 128  1253  122\n",
       "6 전라남도 고흥군 0.3329543 34           17     514        1673 128    22 1237\n",
       "  학문교육 외국인근로자 결혼이민자 소멸지역여부\n",
       "1 61       979          187        소멸위험지역\n",
       "2 66       821          190        소멸위험지역\n",
       "3 62       660          186        소멸위험지역\n",
       "4 62       649          198        소멸위험지역\n",
       "5 96       422          228        소멸위험지역\n",
       "6 96       154          254        소멸위험지역"
      ]
     },
     "metadata": {},
     "output_type": "display_data"
    }
   ],
   "source": [
    "library('readxl')\n",
    "data <- read_excel('C:/Users/test/Desktop/DataScience/총_인구변수_excel.xlsx', sheet=1)\n",
    "head(data)"
   ]
  },
  {
   "cell_type": "code",
   "execution_count": 204,
   "metadata": {},
   "outputs": [
    {
     "name": "stdout",
     "output_type": "stream",
     "text": [
      "Classes 'tbl_df', 'tbl' and 'data.frame':\t1970 obs. of  13 variables:\n",
      " $ 지역        : chr  \"경상북도 의성군\" \"경상북도 의성군\" \"경상북도 의성군\" \"경상북도 의성군\" ...\n",
      " $ 소멸비율    : num  0.314 0.316 0.318 0.323 0.333 ...\n",
      " $ 관광여가오락: num  24 26 26 26 34 34 26 29 20 30 ...\n",
      " $ 부동산      : num  13 14 15 15 17 17 15 14 14 14 ...\n",
      " $ 생활서비스  : num  389 407 425 424 514 514 425 495 388 497 ...\n",
      " $ 소매        : num  740 771 839 839 1681 ...\n",
      " $ 숙박        : num  40 40 42 43 128 128 42 124 40 123 ...\n",
      " $ 음식        : num  728 21 816 816 1253 ...\n",
      " $ 의료        : num  75 787 79 75 122 ...\n",
      " $ 학문교육    : num  61 66 62 62 96 96 61 89 58 89 ...\n",
      " $ 외국인근로자: num  979 821 660 649 422 154 535 133 434 122 ...\n",
      " $ 결혼이민자  : num  187 190 186 198 228 254 195 276 217 285 ...\n",
      " $ 소멸지역여부: chr  \"소멸위험지역\" \"소멸위험지역\" \"소멸위험지역\" \"소멸위험지역\" ...\n"
     ]
    }
   ],
   "source": [
    "str(data)"
   ]
  },
  {
   "cell_type": "markdown",
   "metadata": {},
   "source": [
    "### 독립변수와 종속변수 데이터 셋 설정"
   ]
  },
  {
   "cell_type": "code",
   "execution_count": 205,
   "metadata": {
    "scrolled": true
   },
   "outputs": [
    {
     "name": "stderr",
     "output_type": "stream",
     "text": [
      "The following object is masked _by_ .GlobalEnv:\n",
      "\n",
      "    소멸지역여부\n",
      "\n",
      "The following objects are masked from training (pos = 12):\n",
      "\n",
      "    결혼이민자, 관광여가오락, 부동산, 생활서비스, 소매, 소멸비율, 숙박,\n",
      "    외국인근로자, 음식, 의료, 학문교육\n",
      "\n",
      "The following objects are masked from training (pos = 13):\n",
      "\n",
      "    결혼이민자, 관광여가오락, 부동산, 생활서비스, 소매, 소멸비율, 숙박,\n",
      "    외국인근로자, 음식, 의료, 학문교육\n",
      "\n",
      "The following objects are masked from training (pos = 14):\n",
      "\n",
      "    결혼이민자, 관광여가오락, 부동산, 생활서비스, 소매, 소멸비율, 숙박,\n",
      "    외국인근로자, 음식, 의료, 학문교육\n",
      "\n",
      "The following objects are masked from data (pos = 17):\n",
      "\n",
      "    결혼이민자, 관광여가오락, 부동산, 생활서비스, 소매, 소멸비율,\n",
      "    소멸지역여부, 숙박, 외국인근로자, 음식, 의료, 지역, 학문교육\n",
      "\n",
      "The following objects are masked from data (pos = 35):\n",
      "\n",
      "    결혼이민자, 관광여가오락, 부동산, 생활서비스, 소매, 소멸비율,\n",
      "    소멸지역여부, 숙박, 외국인근로자, 음식, 의료, 지역, 학문교육\n",
      "\n",
      "The following objects are masked from data (pos = 36):\n",
      "\n",
      "    결혼이민자, 관광여가오락, 부동산, 생활서비스, 소매, 소멸비율,\n",
      "    소멸지역여부, 숙박, 외국인근로자, 음식, 의료, 지역, 학문교육\n",
      "\n",
      "The following objects are masked from data (pos = 37):\n",
      "\n",
      "    결혼이민자, 부동산, 생활서비스, 소매, 소멸비율, 소멸지역여부, 숙박,\n",
      "    외국인근로자, 음식, 의료, 지역\n",
      "\n",
      "The following objects are masked from data (pos = 38):\n",
      "\n",
      "    결혼이민자, 부동산, 생활서비스, 소매, 소멸비율, 소멸지역여부, 숙박,\n",
      "    외국인근로자, 음식, 의료, 지역\n",
      "\n"
     ]
    },
    {
     "data": {
      "text/html": [
       "<table>\n",
       "<thead><tr><th scope=col>소멸비율</th><th scope=col>관광여가오락</th><th scope=col>부동산</th><th scope=col>생활서비스</th><th scope=col>소매</th><th scope=col>숙박</th><th scope=col>음식</th><th scope=col>의료</th><th scope=col>학문교육</th><th scope=col>외국인근로자</th><th scope=col>결혼이민자</th></tr></thead>\n",
       "<tbody>\n",
       "\t<tr><td>0.3139632</td><td>24       </td><td>13       </td><td>389      </td><td> 740     </td><td> 40      </td><td> 728     </td><td>  75     </td><td>61       </td><td>979      </td><td>187      </td></tr>\n",
       "\t<tr><td>0.3156284</td><td>26       </td><td>14       </td><td>407      </td><td> 771     </td><td> 40      </td><td>  21     </td><td> 787     </td><td>66       </td><td>821      </td><td>190      </td></tr>\n",
       "\t<tr><td>0.3180173</td><td>26       </td><td>15       </td><td>425      </td><td> 839     </td><td> 42      </td><td> 816     </td><td>  79     </td><td>62       </td><td>660      </td><td>186      </td></tr>\n",
       "\t<tr><td>0.3230777</td><td>26       </td><td>15       </td><td>424      </td><td> 839     </td><td> 43      </td><td> 816     </td><td>  75     </td><td>62       </td><td>649      </td><td>198      </td></tr>\n",
       "\t<tr><td>0.3326796</td><td>34       </td><td>17       </td><td>514      </td><td>1681     </td><td>128      </td><td>1253     </td><td> 122     </td><td>96       </td><td>422      </td><td>228      </td></tr>\n",
       "\t<tr><td>0.3329543</td><td>34       </td><td>17       </td><td>514      </td><td>1673     </td><td>128      </td><td>  22     </td><td>1237     </td><td>96       </td><td>154      </td><td>254      </td></tr>\n",
       "</tbody>\n",
       "</table>\n"
      ],
      "text/latex": [
       "\\begin{tabular}{lllllllllll}\n",
       " 소멸비율 & 관광여가오락 & 부동산 & 생활서비스 & 소매 & 숙박 & 음식 & 의료 & 학문교육 & 외국인근로자 & 결혼이민자\\\\\n",
       "\\hline\n",
       "\t 0.3139632 & 24        & 13        & 389       &  740      &  40       &  728      &   75      & 61        & 979       & 187      \\\\\n",
       "\t 0.3156284 & 26        & 14        & 407       &  771      &  40       &   21      &  787      & 66        & 821       & 190      \\\\\n",
       "\t 0.3180173 & 26        & 15        & 425       &  839      &  42       &  816      &   79      & 62        & 660       & 186      \\\\\n",
       "\t 0.3230777 & 26        & 15        & 424       &  839      &  43       &  816      &   75      & 62        & 649       & 198      \\\\\n",
       "\t 0.3326796 & 34        & 17        & 514       & 1681      & 128       & 1253      &  122      & 96        & 422       & 228      \\\\\n",
       "\t 0.3329543 & 34        & 17        & 514       & 1673      & 128       &   22      & 1237      & 96        & 154       & 254      \\\\\n",
       "\\end{tabular}\n"
      ],
      "text/markdown": [
       "\n",
       "소멸비율 | 관광여가오락 | 부동산 | 생활서비스 | 소매 | 숙박 | 음식 | 의료 | 학문교육 | 외국인근로자 | 결혼이민자 | \n",
       "|---|---|---|---|---|---|\n",
       "| 0.3139632 | 24        | 13        | 389       |  740      |  40       |  728      |   75      | 61        | 979       | 187       | \n",
       "| 0.3156284 | 26        | 14        | 407       |  771      |  40       |   21      |  787      | 66        | 821       | 190       | \n",
       "| 0.3180173 | 26        | 15        | 425       |  839      |  42       |  816      |   79      | 62        | 660       | 186       | \n",
       "| 0.3230777 | 26        | 15        | 424       |  839      |  43       |  816      |   75      | 62        | 649       | 198       | \n",
       "| 0.3326796 | 34        | 17        | 514       | 1681      | 128       | 1253      |  122      | 96        | 422       | 228       | \n",
       "| 0.3329543 | 34        | 17        | 514       | 1673      | 128       |   22      | 1237      | 96        | 154       | 254       | \n",
       "\n",
       "\n"
      ],
      "text/plain": [
       "     소멸비율  관광여가오락 부동산 생활서비스 소매 숙박 음식 의료 학문교육\n",
       "[1,] 0.3139632 24           13     389         740  40   728   75 61      \n",
       "[2,] 0.3156284 26           14     407         771  40    21  787 66      \n",
       "[3,] 0.3180173 26           15     425         839  42   816   79 62      \n",
       "[4,] 0.3230777 26           15     424         839  43   816   75 62      \n",
       "[5,] 0.3326796 34           17     514        1681 128  1253  122 96      \n",
       "[6,] 0.3329543 34           17     514        1673 128    22 1237 96      \n",
       "     외국인근로자 결혼이민자\n",
       "[1,] 979          187       \n",
       "[2,] 821          190       \n",
       "[3,] 660          186       \n",
       "[4,] 649          198       \n",
       "[5,] 422          228       \n",
       "[6,] 154          254       "
      ]
     },
     "metadata": {},
     "output_type": "display_data"
    }
   ],
   "source": [
    "attach(data)\n",
    "\n",
    "haha <- cbind(소멸비율, 관광여가오락, 부동산, 생활서비스, 소매, 숙박, 음식, 의료, 학문교육, 외국인근로자, 결혼이민자)\n",
    "head(haha)"
   ]
  },
  {
   "cell_type": "code",
   "execution_count": 211,
   "metadata": {},
   "outputs": [],
   "source": [
    "haha <- as.data.frame(haha)"
   ]
  },
  {
   "cell_type": "markdown",
   "metadata": {},
   "source": [
    "## 3. 훈련, 검증, 테스트셋의 구분\n",
    "- 원 데이터를 6:2:2 비율로 훈련, 검증, 테스트셋으로 나눔."
   ]
  },
  {
   "cell_type": "code",
   "execution_count": 206,
   "metadata": {},
   "outputs": [],
   "source": [
    "set.seed(9876)\n",
    "n <- nrow(haha)\n",
    "idx <- 1:n\n",
    "training_idx <- sample(idx, n*.60)\n",
    "idx <- setdiff(idx, training_idx)\n",
    "validate_idx <- sample(idx, n*.20)\n",
    "test_idx <- setdiff(idx, validate_idx)\n",
    "training <- haha[training_idx,]\n",
    "validation <- haha[validate_idx,]\n",
    "test <- haha[test_idx,]"
   ]
  },
  {
   "cell_type": "code",
   "execution_count": 207,
   "metadata": {},
   "outputs": [
    {
     "name": "stdout",
     "output_type": "stream",
     "text": [
      " num [1:1182, 1:11] 2.531 0.966 0.5 1.657 1.127 ...\n",
      " - attr(*, \"dimnames\")=List of 2\n",
      "  ..$ : NULL\n",
      "  ..$ : chr [1:11] \"소멸비율\" \"관광여가오락\" \"부동산\" \"생활서비스\" ...\n"
     ]
    }
   ],
   "source": [
    "str(training)\n",
    "training <- as.data.frame(training)\n",
    "validation <- as.data.frame(validation)\n",
    "test <- as.data.frame(test)"
   ]
  },
  {
   "cell_type": "markdown",
   "metadata": {},
   "source": [
    "#### 훈련 : 1182, 검증 : 394, 테스트 : 394 "
   ]
  },
  {
   "cell_type": "code",
   "execution_count": 208,
   "metadata": {},
   "outputs": [
    {
     "data": {
      "text/html": [
       "1182"
      ],
      "text/latex": [
       "1182"
      ],
      "text/markdown": [
       "1182"
      ],
      "text/plain": [
       "[1] 1182"
      ]
     },
     "metadata": {},
     "output_type": "display_data"
    },
    {
     "data": {
      "text/html": [
       "394"
      ],
      "text/latex": [
       "394"
      ],
      "text/markdown": [
       "394"
      ],
      "text/plain": [
       "[1] 394"
      ]
     },
     "metadata": {},
     "output_type": "display_data"
    },
    {
     "data": {
      "text/html": [
       "394"
      ],
      "text/latex": [
       "394"
      ],
      "text/markdown": [
       "394"
      ],
      "text/plain": [
       "[1] 394"
      ]
     },
     "metadata": {},
     "output_type": "display_data"
    }
   ],
   "source": [
    "nrow(training)\n",
    "nrow(validation)\n",
    "nrow(test)"
   ]
  },
  {
   "cell_type": "markdown",
   "metadata": {},
   "source": [
    "# 4. 인구 소멸관련 적합한 독립변수 선정"
   ]
  },
  {
   "cell_type": "markdown",
   "metadata": {},
   "source": [
    "## A-1) 선형회귀모형"
   ]
  },
  {
   "cell_type": "code",
   "execution_count": 209,
   "metadata": {},
   "outputs": [
    {
     "data": {
      "text/plain": [
       "\n",
       "Call:\n",
       "lm(formula = 소멸비율 ~ ., data = training)\n",
       "\n",
       "Residuals:\n",
       "    Min      1Q  Median      3Q     Max \n",
       "-2.1498 -0.4501 -0.1007  0.2899  2.9091 \n",
       "\n",
       "Coefficients:\n",
       "               Estimate Std. Error t value Pr(>|t|)    \n",
       "(Intercept)   9.916e-01  3.359e-02  29.521  < 2e-16 ***\n",
       "관광여가오락  2.536e-05  2.701e-04   0.094  0.92520    \n",
       "부동산        2.767e-04  1.528e-04   1.810  0.07052 .  \n",
       "생활서비스   -4.240e-05  8.289e-05  -0.512  0.60908    \n",
       "소매         -6.482e-05  2.127e-05  -3.048  0.00236 ** \n",
       "숙박         -9.670e-04  1.427e-04  -6.778 1.92e-11 ***\n",
       "음식          1.562e-04  2.676e-05   5.838 6.84e-09 ***\n",
       "의료          1.600e-04  3.184e-05   5.025 5.81e-07 ***\n",
       "학문교육      2.474e-04  7.200e-05   3.437  0.00061 ***\n",
       "외국인근로자  2.812e-05  5.587e-06   5.032 5.61e-07 ***\n",
       "결혼이민자    1.584e-04  5.528e-05   2.866  0.00424 ** \n",
       "---\n",
       "Signif. codes:  0 '***' 0.001 '**' 0.01 '*' 0.05 '.' 0.1 ' ' 1\n",
       "\n",
       "Residual standard error: 0.6417 on 1171 degrees of freedom\n",
       "Multiple R-squared:  0.5257,\tAdjusted R-squared:  0.5217 \n",
       "F-statistic: 129.8 on 10 and 1171 DF,  p-value: < 2.2e-16\n"
      ]
     },
     "metadata": {},
     "output_type": "display_data"
    }
   ],
   "source": [
    "data_lm_full <- lm(소멸비율 ~ ., data=training)\n",
    "summary(data_lm_full)"
   ]
  },
  {
   "cell_type": "markdown",
   "metadata": {},
   "source": [
    "## A-2) 선형회귀분석으로 예측한 종속값과 기존 종속값과의 비교를 통한 검증\n",
    "- 선형회귀모형을 가지고 종속변수 예측값 출력"
   ]
  },
  {
   "cell_type": "code",
   "execution_count": 212,
   "metadata": {},
   "outputs": [
    {
     "data": {
      "text/html": [
       "<dl class=dl-horizontal>\n",
       "\t<dt>1</dt>\n",
       "\t\t<dd>1.09063209192645</dd>\n",
       "\t<dt>2</dt>\n",
       "\t\t<dd>1.08891500338135</dd>\n",
       "\t<dt>3</dt>\n",
       "\t\t<dd>1.08686723412922</dd>\n",
       "\t<dt>4</dt>\n",
       "\t\t<dd>1.08689417206029</dd>\n",
       "\t<dt>5</dt>\n",
       "\t\t<dd>1.02963897918609</dd>\n",
       "\t<dt>6</dt>\n",
       "\t\t<dd>1.01281009620611</dd>\n",
       "</dl>\n"
      ],
      "text/latex": [
       "\\begin{description*}\n",
       "\\item[1] 1.09063209192645\n",
       "\\item[2] 1.08891500338135\n",
       "\\item[3] 1.08686723412922\n",
       "\\item[4] 1.08689417206029\n",
       "\\item[5] 1.02963897918609\n",
       "\\item[6] 1.01281009620611\n",
       "\\end{description*}\n"
      ],
      "text/markdown": [
       "1\n",
       ":   1.090632091926452\n",
       ":   1.088915003381353\n",
       ":   1.086867234129224\n",
       ":   1.086894172060295\n",
       ":   1.029638979186096\n",
       ":   1.01281009620611\n",
       "\n"
      ],
      "text/plain": [
       "       1        2        3        4        5        6 \n",
       "1.090632 1.088915 1.086867 1.086894 1.029639 1.012810 "
      ]
     },
     "metadata": {},
     "output_type": "display_data"
    },
    {
     "data": {
      "text/html": [
       "1970"
      ],
      "text/latex": [
       "1970"
      ],
      "text/markdown": [
       "1970"
      ],
      "text/plain": [
       "[1] 1970"
      ]
     },
     "metadata": {},
     "output_type": "display_data"
    }
   ],
   "source": [
    "pop_lm <- predict(data_lm_full, newdata = haha)\n",
    "head(pop_lm)\n",
    "length(pop_lm)"
   ]
  },
  {
   "cell_type": "markdown",
   "metadata": {},
   "source": [
    "- 출력된 예측값을 0.8 이하는 '소멸위험지역', 0.8 ~ 0.15는 '소멸위기지역', 그 이상은 '소멸안정지역으로' 지정"
   ]
  },
  {
   "cell_type": "code",
   "execution_count": 213,
   "metadata": {},
   "outputs": [
    {
     "data": {
      "text/html": [
       "1970"
      ],
      "text/latex": [
       "1970"
      ],
      "text/markdown": [
       "1970"
      ],
      "text/plain": [
       "[1] 1970"
      ]
     },
     "metadata": {},
     "output_type": "display_data"
    }
   ],
   "source": [
    "pred <- pop_lm \n",
    "pred <- round(pred, digits = 3)\n",
    "\n",
    "a <- pred[pred < 0.8]\n",
    "b<- pred[ 1.5 >= pred & pred >= 0.8]\n",
    "c <- pred[1.5 < pred]\n",
    "\n",
    "a[] <- '소멸위험지역'\n",
    "b[] <- '소멸위기지역'\n",
    "c[] <- '소멸안정지역'\n",
    "pred<-c(a,b,c)\n",
    "length(pred)"
   ]
  },
  {
   "cell_type": "code",
   "execution_count": 215,
   "metadata": {},
   "outputs": [
    {
     "data": {
      "text/html": [
       "<dl class=dl-horizontal>\n",
       "\t<dt>45</dt>\n",
       "\t\t<dd>'소멸위험지역'</dd>\n",
       "\t<dt>346</dt>\n",
       "\t\t<dd>'소멸위험지역'</dd>\n",
       "\t<dt>359</dt>\n",
       "\t\t<dd>'소멸위험지역'</dd>\n",
       "\t<dt>380</dt>\n",
       "\t\t<dd>'소멸위험지역'</dd>\n",
       "\t<dt>407</dt>\n",
       "\t\t<dd>'소멸위험지역'</dd>\n",
       "\t<dt>425</dt>\n",
       "\t\t<dd>'소멸위험지역'</dd>\n",
       "</dl>\n"
      ],
      "text/latex": [
       "\\begin{description*}\n",
       "\\item[45] '소멸위험지역'\n",
       "\\item[346] '소멸위험지역'\n",
       "\\item[359] '소멸위험지역'\n",
       "\\item[380] '소멸위험지역'\n",
       "\\item[407] '소멸위험지역'\n",
       "\\item[425] '소멸위험지역'\n",
       "\\end{description*}\n"
      ],
      "text/markdown": [
       "45\n",
       ":   '소멸위험지역'346\n",
       ":   '소멸위험지역'359\n",
       ":   '소멸위험지역'380\n",
       ":   '소멸위험지역'407\n",
       ":   '소멸위험지역'425\n",
       ":   '소멸위험지역'\n",
       "\n"
      ],
      "text/plain": [
       "            45            346            359            380            407 \n",
       "\"소멸위험지역\" \"소멸위험지역\" \"소멸위험지역\" \"소멸위험지역\" \"소멸위험지역\" \n",
       "           425 \n",
       "\"소멸위험지역\" "
      ]
     },
     "metadata": {},
     "output_type": "display_data"
    }
   ],
   "source": [
    "head(pred)"
   ]
  },
  {
   "cell_type": "markdown",
   "metadata": {},
   "source": [
    "## A-3) 예측값과 실제값의 비교 결과 \n",
    "- 총 1970 중 1229개 예측수를 보임 \n",
    "- 약 65%정도의 예측률로 낮은 예측결과\n",
    "- rmse 오차율은 0.63정도"
   ]
  },
  {
   "cell_type": "code",
   "execution_count": 217,
   "metadata": {},
   "outputs": [
    {
     "data": {
      "text/html": [
       "1970"
      ],
      "text/latex": [
       "1970"
      ],
      "text/markdown": [
       "1970"
      ],
      "text/plain": [
       "[1] 1970"
      ]
     },
     "metadata": {},
     "output_type": "display_data"
    }
   ],
   "source": [
    "result <- as.factor(data$소멸지역여부)\n",
    "length(result)"
   ]
  },
  {
   "cell_type": "code",
   "execution_count": 218,
   "metadata": {},
   "outputs": [
    {
     "data": {
      "text/plain": [
       "              pred\n",
       "result         소멸안정지역 소멸위기지역 소멸위험지역\n",
       "  소멸안정지역          758          155            0\n",
       "  소멸위기지역            0          439            0\n",
       "  소멸위험지역            0          586           32"
      ]
     },
     "metadata": {},
     "output_type": "display_data"
    }
   ],
   "source": [
    "table(result, pred)"
   ]
  },
  {
   "cell_type": "code",
   "execution_count": 219,
   "metadata": {},
   "outputs": [
    {
     "data": {
      "text/html": [
       "0.636045368283115"
      ],
      "text/latex": [
       "0.636045368283115"
      ],
      "text/markdown": [
       "0.636045368283115"
      ],
      "text/plain": [
       "[1] 0.6360454"
      ]
     },
     "metadata": {},
     "output_type": "display_data"
    }
   ],
   "source": [
    "result2 <- data$소멸비율 \n",
    "rmse(result2, pop_lm)"
   ]
  },
  {
   "cell_type": "markdown",
   "metadata": {},
   "source": [
    "- 로지스틱 모형의 예측 정확도 지표는 다음처럼 계산하고 시각화할 수 있다.\n",
    "- 모형이 겹치지 않는게 좋은 결과값이지만 초록색인 소멸위기지역이 안정과 위험에 많이 겹치는 부분이 발생한다.\n",
    "- 즉, 회귀모형에서는 소멸위기지역의 예측률이 가장 낮게 나오게 되었다."
   ]
  },
  {
   "cell_type": "code",
   "execution_count": 151,
   "metadata": {},
   "outputs": [
    {
     "data": {},
     "metadata": {},
     "output_type": "display_data"
    },
    {
     "data": {
      "image/png": "[encoded data removed]",
      "text/plain": [
       "plot without title"
      ]
     },
     "metadata": {},
     "output_type": "display_data"
    }
   ],
   "source": [
    "ggplot(data.frame(result, pop_lm),\n",
    "             aes(pop_lm, fill=factor(result))) +\n",
    "  geom_density(alpha=.5)"
   ]
  },
  {
   "cell_type": "markdown",
   "metadata": {},
   "source": [
    "## B. 라쏘모형적합\n",
    "- 일차 상호작용과 이차 상호작용 두개로 예측력 평가\n",
    "- .^-1에서 ^2-1을 하는 것은 모든 이차상호작용을 포함하기 위함. "
   ]
  },
  {
   "cell_type": "code",
   "execution_count": 221,
   "metadata": {},
   "outputs": [
    {
     "name": "stdout",
     "output_type": "stream",
     "text": [
      " num [1:1182, 1:10] 194 41 52 390 111 36 86 282 252 19 ...\n",
      " - attr(*, \"dimnames\")=List of 2\n",
      "  ..$ : chr [1:1182] \"1668\" \"725\" \"244\" \"1119\" ...\n",
      "  ..$ : chr [1:10] \"관광여가오락\" \"부동산\" \"생활서비스\" \"소매\" ...\n"
     ]
    }
   ],
   "source": [
    "xx <- model.matrix(소멸비율 ~ .-1, haha)\n",
    "x <- xx[training_idx, ]\n",
    "y <- training$소멸비율 \n",
    "# <- xx[]\n",
    "# <- haha$소멸비율\n",
    "glimpse(x)"
   ]
  },
  {
   "cell_type": "code",
   "execution_count": 222,
   "metadata": {},
   "outputs": [],
   "source": [
    "xx1 <- model.matrix(소멸비율 ~ .^2-1, haha)\n",
    "x1 <- xx1[training_idx, ]\n",
    "#x1 <- xx[]\n",
    "y1 <- training$소멸비율 "
   ]
  },
  {
   "cell_type": "markdown",
   "metadata": {},
   "source": [
    "## B-1. 람다 모수의 값에 따른 오차의 값의 변화 추이 비교 (1차 상호작용과 2차상호작용)"
   ]
  },
  {
   "cell_type": "code",
   "execution_count": 223,
   "metadata": {},
   "outputs": [
    {
     "data": {
      "image/png": "[encoded data removed]",
      "text/plain": [
       "plot without title"
      ]
     },
     "metadata": {},
     "output_type": "display_data"
    }
   ],
   "source": [
    "data_cvfit <- cv.glmnet(x,y)\n",
    "plot(data_cvfit)"
   ]
  },
  {
   "cell_type": "code",
   "execution_count": 224,
   "metadata": {},
   "outputs": [
    {
     "data": {
      "image/png": "[encoded data removed]",
      "text/plain": [
       "plot without title"
      ]
     },
     "metadata": {},
     "output_type": "display_data"
    }
   ],
   "source": [
    "data_cvfit2 <- cv.glmnet(x1,y1)\n",
    "plot(data_cvfit2)"
   ]
  },
  {
   "cell_type": "markdown",
   "metadata": {},
   "source": [
    "## B-2) 라쏘모형에서 찾은 적합 변수 \n",
    "- lambda.min에보면 **학문교육, 부동산, 외국인근로자**가 가장 유의수준이 높게 나왔다.\n",
    "- 이차상호작용에서도 비슷하게 나옴"
   ]
  },
  {
   "cell_type": "code",
   "execution_count": 226,
   "metadata": {},
   "outputs": [
    {
     "data": {
      "text/plain": [
       "11 x 1 sparse Matrix of class \"dgCMatrix\"\n",
       "                         1\n",
       "(Intercept)   1.020271e+00\n",
       "관광여가오락  2.909364e-06\n",
       "부동산        4.620091e-04\n",
       "생활서비스    .           \n",
       "소매          .           \n",
       "숙박         -3.534786e-05\n",
       "음식          7.574053e-06\n",
       "의료          .           \n",
       "학문교육      2.616499e-04\n",
       "외국인근로자  1.424933e-05\n",
       "결혼이민자    1.927711e-04"
      ]
     },
     "metadata": {},
     "output_type": "display_data"
    },
    {
     "data": {
      "text/plain": [
       "11 x 1 sparse Matrix of class \"dgCMatrix\"\n",
       "                         1\n",
       "(Intercept)   9.897723e-01\n",
       "관광여가오락  .           \n",
       "부동산        2.534444e-04\n",
       "생활서비스    .           \n",
       "소매         -4.098525e-05\n",
       "숙박         -8.942245e-04\n",
       "음식          1.188774e-04\n",
       "의료          1.185145e-04\n",
       "학문교육      2.301732e-04\n",
       "외국인근로자  2.726557e-05\n",
       "결혼이민자    1.610441e-04"
      ]
     },
     "metadata": {},
     "output_type": "display_data"
    }
   ],
   "source": [
    "coef(data_cvfit, s = c('lambda.1se'))\n",
    "coef(data_cvfit, s = c('lambda.min'))"
   ]
  },
  {
   "cell_type": "code",
   "execution_count": 49,
   "metadata": {},
   "outputs": [
    {
     "data": {
      "text/plain": [
       "56 x 1 sparse Matrix of class \"dgCMatrix\"\n",
       "                                      1\n",
       "(Intercept)                7.636243e-01\n",
       "관광여가오락               .           \n",
       "부동산                     1.464893e-03\n",
       "생활서비스                -1.120297e-04\n",
       "소매                       .           \n",
       "숙박                      -9.129961e-04\n",
       "음식                       8.279079e-05\n",
       "의료                       2.264343e-05\n",
       "학문교육                   9.690570e-04\n",
       "외국인근로자               1.204752e-05\n",
       "결혼이민자                 2.021533e-05\n",
       "관광여가오락:부동산        .           \n",
       "관광여가오락:생활서비스    1.239145e-07\n",
       "관광여가오락:소매          .           \n",
       "관광여가오락:숙박          .           \n",
       "관광여가오락:음식          2.118043e-08\n",
       "관광여가오락:의료          .           \n",
       "관광여가오락:학문교육      .           \n",
       "관광여가오락:외국인근로자  6.892077e-08\n",
       "관광여가오락:결혼이민자    3.118596e-08\n",
       "부동산:생활서비스          3.994997e-08\n",
       "부동산:소매                .           \n",
       "부동산:숙박                .           \n",
       "부동산:음식                .           \n",
       "부동산:의료                .           \n",
       "부동산:학문교육           -2.922176e-07\n",
       "부동산:외국인근로자       -2.576011e-08\n",
       "부동산:결혼이민자          .           \n",
       "생활서비스:소매            .           \n",
       "생활서비스:숙박            .           \n",
       "생활서비스:음식            .           \n",
       "생활서비스:의료            .           \n",
       "생활서비스:학문교육        .           \n",
       "생활서비스:외국인근로자    .           \n",
       "생활서비스:결혼이민자      .           \n",
       "소매:숙박                  .           \n",
       "소매:음식                  .           \n",
       "소매:의료                  .           \n",
       "소매:학문교육             -5.793713e-08\n",
       "소매:외국인근로자          .           \n",
       "소매:결혼이민자            .           \n",
       "숙박:음식                  .           \n",
       "숙박:의료                  3.593623e-08\n",
       "숙박:학문교육              1.242704e-07\n",
       "숙박:외국인근로자          5.011191e-08\n",
       "숙박:결혼이민자            .           \n",
       "음식:의료                 -7.828249e-08\n",
       "음식:학문교육              .           \n",
       "음식:외국인근로자          .           \n",
       "음식:결혼이민자            .           \n",
       "의료:학문교육              .           \n",
       "의료:외국인근로자          .           \n",
       "의료:결혼이민자            5.606384e-09\n",
       "학문교육:외국인근로자      .           \n",
       "학문교육:결혼이민자        .           \n",
       "외국인근로자:결혼이민자   -1.742391e-08"
      ]
     },
     "metadata": {},
     "output_type": "display_data"
    },
    {
     "data": {
      "text/plain": [
       "56 x 1 sparse Matrix of class \"dgCMatrix\"\n",
       "                                      1\n",
       "(Intercept)                7.714141e-01\n",
       "관광여가오락               1.529257e-04\n",
       "부동산                     1.536293e-03\n",
       "생활서비스                -6.175350e-04\n",
       "소매                      -2.887739e-05\n",
       "숙박                      -9.218094e-04\n",
       "음식                       2.433246e-04\n",
       "의료                       1.877419e-04\n",
       "학문교육                   1.333910e-03\n",
       "외국인근로자               2.823261e-05\n",
       "결혼이민자                 5.043716e-05\n",
       "관광여가오락:부동산       -8.735854e-08\n",
       "관광여가오락:생활서비스    1.000350e-08\n",
       "관광여가오락:소매          .           \n",
       "관광여가오락:숙박          .           \n",
       "관광여가오락:음식          7.564439e-09\n",
       "관광여가오락:의료         -1.179256e-07\n",
       "관광여가오락:학문교육      6.027249e-08\n",
       "관광여가오락:외국인근로자  6.847138e-08\n",
       "관광여가오락:결혼이민자    6.302382e-07\n",
       "부동산:생활서비스          2.085656e-07\n",
       "부동산:소매                .           \n",
       "부동산:숙박               -2.072130e-07\n",
       "부동산:음식                1.170347e-08\n",
       "부동산:의료               -1.213948e-08\n",
       "부동산:학문교육           -6.448417e-07\n",
       "부동산:외국인근로자       -6.745053e-08\n",
       "부동산:결혼이민자          2.855124e-07\n",
       "생활서비스:소매            4.564492e-08\n",
       "생활서비스:숙박           -1.330944e-06\n",
       "생활서비스:음식            .           \n",
       "생활서비스:의료            .           \n",
       "생활서비스:학문교육        .           \n",
       "생활서비스:외국인근로자    4.030897e-08\n",
       "생활서비스:결혼이민자      .           \n",
       "소매:숙박                  1.285779e-07\n",
       "소매:음식                 -9.086199e-12\n",
       "소매:의료                  2.488818e-10\n",
       "소매:학문교육             -9.910518e-08\n",
       "소매:외국인근로자          .           \n",
       "소매:결혼이민자           -6.577678e-08\n",
       "숙박:음식                  8.971953e-09\n",
       "숙박:의료                  5.351578e-08\n",
       "숙박:학문교육              1.967330e-06\n",
       "숙박:외국인근로자          5.855081e-08\n",
       "숙박:결혼이민자            .           \n",
       "음식:의료                 -1.331270e-07\n",
       "음식:학문교육              .           \n",
       "음식:외국인근로자         -1.267366e-08\n",
       "음식:결혼이민자           -1.529881e-08\n",
       "의료:학문교육              2.029156e-08\n",
       "의료:외국인근로자         -1.487282e-08\n",
       "의료:결혼이민자            3.922957e-09\n",
       "학문교육:외국인근로자     -6.409294e-09\n",
       "학문교육:결혼이민자        .           \n",
       "외국인근로자:결혼이민자   -3.704230e-08"
      ]
     },
     "metadata": {},
     "output_type": "display_data"
    }
   ],
   "source": [
    "coef(data_cvfit2, s = c('lambda.1se'))\n",
    "coef(data_cvfit2, s = c('lambda.min'))"
   ]
  },
  {
   "cell_type": "markdown",
   "metadata": {},
   "source": [
    "## B-3) 람다, 이차상호작용 람다 모형의 예측값 출력"
   ]
  },
  {
   "cell_type": "code",
   "execution_count": 227,
   "metadata": {},
   "outputs": [
    {
     "data": {
      "text/html": [
       "<table>\n",
       "<thead><tr><th></th><th scope=col>1</th></tr></thead>\n",
       "<tbody>\n",
       "\t<tr><th scope=row>1668</th><td>1.5619861</td></tr>\n",
       "\t<tr><th scope=row>725</th><td>1.1671669</td></tr>\n",
       "\t<tr><th scope=row>244</th><td>1.1019323</td></tr>\n",
       "\t<tr><th scope=row>1119</th><td>1.5530762</td></tr>\n",
       "\t<tr><th scope=row>835</th><td>1.2838100</td></tr>\n",
       "\t<tr><th scope=row>546</th><td>0.9897661</td></tr>\n",
       "\t<tr><th scope=row>910</th><td>1.1874798</td></tr>\n",
       "\t<tr><th scope=row>1185</th><td>1.4990926</td></tr>\n",
       "\t<tr><th scope=row>996</th><td>1.3567580</td></tr>\n",
       "\t<tr><th scope=row>358</th><td>1.0261011</td></tr>\n",
       "</tbody>\n",
       "</table>\n"
      ],
      "text/latex": [
       "\\begin{tabular}{r|l}\n",
       "  & 1\\\\\n",
       "\\hline\n",
       "\t1668 & 1.5619861\\\\\n",
       "\t725 & 1.1671669\\\\\n",
       "\t244 & 1.1019323\\\\\n",
       "\t1119 & 1.5530762\\\\\n",
       "\t835 & 1.2838100\\\\\n",
       "\t546 & 0.9897661\\\\\n",
       "\t910 & 1.1874798\\\\\n",
       "\t1185 & 1.4990926\\\\\n",
       "\t996 & 1.3567580\\\\\n",
       "\t358 & 1.0261011\\\\\n",
       "\\end{tabular}\n"
      ],
      "text/markdown": [
       "\n",
       "| <!--/--> | 1 | \n",
       "|---|---|---|---|---|---|---|---|---|---|\n",
       "| 1668 | 1.5619861 | \n",
       "| 725 | 1.1671669 | \n",
       "| 244 | 1.1019323 | \n",
       "| 1119 | 1.5530762 | \n",
       "| 835 | 1.2838100 | \n",
       "| 546 | 0.9897661 | \n",
       "| 910 | 1.1874798 | \n",
       "| 1185 | 1.4990926 | \n",
       "| 996 | 1.3567580 | \n",
       "| 358 | 1.0261011 | \n",
       "\n",
       "\n"
      ],
      "text/plain": [
       "     1        \n",
       "1668 1.5619861\n",
       "725  1.1671669\n",
       "244  1.1019323\n",
       "1119 1.5530762\n",
       "835  1.2838100\n",
       "546  0.9897661\n",
       "910  1.1874798\n",
       "1185 1.4990926\n",
       "996  1.3567580\n",
       "358  1.0261011"
      ]
     },
     "metadata": {},
     "output_type": "display_data"
    },
    {
     "data": {
      "text/html": [
       "<table>\n",
       "<thead><tr><th></th><th scope=col>1</th></tr></thead>\n",
       "<tbody>\n",
       "\t<tr><th scope=row>1668</th><td>1.8126758</td></tr>\n",
       "\t<tr><th scope=row>725</th><td>1.0543387</td></tr>\n",
       "\t<tr><th scope=row>244</th><td>0.9744665</td></tr>\n",
       "\t<tr><th scope=row>1119</th><td>1.6653136</td></tr>\n",
       "\t<tr><th scope=row>835</th><td>1.0655404</td></tr>\n",
       "\t<tr><th scope=row>546</th><td>0.7642527</td></tr>\n",
       "\t<tr><th scope=row>910</th><td>1.1332534</td></tr>\n",
       "\t<tr><th scope=row>1185</th><td>1.8051716</td></tr>\n",
       "\t<tr><th scope=row>996</th><td>1.1004928</td></tr>\n",
       "\t<tr><th scope=row>358</th><td>0.7656492</td></tr>\n",
       "</tbody>\n",
       "</table>\n"
      ],
      "text/latex": [
       "\\begin{tabular}{r|l}\n",
       "  & 1\\\\\n",
       "\\hline\n",
       "\t1668 & 1.8126758\\\\\n",
       "\t725 & 1.0543387\\\\\n",
       "\t244 & 0.9744665\\\\\n",
       "\t1119 & 1.6653136\\\\\n",
       "\t835 & 1.0655404\\\\\n",
       "\t546 & 0.7642527\\\\\n",
       "\t910 & 1.1332534\\\\\n",
       "\t1185 & 1.8051716\\\\\n",
       "\t996 & 1.1004928\\\\\n",
       "\t358 & 0.7656492\\\\\n",
       "\\end{tabular}\n"
      ],
      "text/markdown": [
       "\n",
       "| <!--/--> | 1 | \n",
       "|---|---|---|---|---|---|---|---|---|---|\n",
       "| 1668 | 1.8126758 | \n",
       "| 725 | 1.0543387 | \n",
       "| 244 | 0.9744665 | \n",
       "| 1119 | 1.6653136 | \n",
       "| 835 | 1.0655404 | \n",
       "| 546 | 0.7642527 | \n",
       "| 910 | 1.1332534 | \n",
       "| 1185 | 1.8051716 | \n",
       "| 996 | 1.1004928 | \n",
       "| 358 | 0.7656492 | \n",
       "\n",
       "\n"
      ],
      "text/plain": [
       "     1        \n",
       "1668 1.8126758\n",
       "725  1.0543387\n",
       "244  0.9744665\n",
       "1119 1.6653136\n",
       "835  1.0655404\n",
       "546  0.7642527\n",
       "910  1.1332534\n",
       "1185 1.8051716\n",
       "996  1.1004928\n",
       "358  0.7656492"
      ]
     },
     "metadata": {},
     "output_type": "display_data"
    }
   ],
   "source": [
    "predict.cv.glmnet(data_cvfit, s= 'lambda.min', newx = x[1:10,])\n",
    "predict.cv.glmnet(data_cvfit2, s= 'lambda.min', newx = x1[1:10,])"
   ]
  },
  {
   "cell_type": "code",
   "execution_count": 228,
   "metadata": {},
   "outputs": [
    {
     "data": {
      "text/html": [
       "1182"
      ],
      "text/latex": [
       "1182"
      ],
      "text/markdown": [
       "1182"
      ],
      "text/plain": [
       "[1] 1182"
      ]
     },
     "metadata": {},
     "output_type": "display_data"
    }
   ],
   "source": [
    "pop_glmnet <- predict.cv.glmnet(data_cvfit, s= 'lambda.min', newx = x)\n",
    "pop_glmnet2 <- predict.cv.glmnet(data_cvfit2, s= 'lambda.min', newx = x1)\n",
    "pred1 <- pop_glmnet\n",
    "pred2 <- pop_glmnet2\n",
    "a <- pred1[pred1 < 0.8]\n",
    "b<- pred1[ 1.5 >= pred1 & pred1 >= 0.8]\n",
    "c <- pred1[1.5 < pred1]\n",
    "a[] <- '소멸위험지역'\n",
    "b[] <- '소멸위기지역'\n",
    "c[] <- '소멸안정지역'\n",
    "pred<-c(a,b,c)\n",
    "length(pred2)"
   ]
  },
  {
   "cell_type": "code",
   "execution_count": 229,
   "metadata": {},
   "outputs": [
    {
     "data": {
      "text/html": [
       "<ol class=list-inline>\n",
       "\t<li>'소멸위험지역'</li>\n",
       "\t<li>'소멸위험지역'</li>\n",
       "\t<li>'소멸위험지역'</li>\n",
       "\t<li>'소멸위험지역'</li>\n",
       "\t<li>'소멸위험지역'</li>\n",
       "\t<li>'소멸위험지역'</li>\n",
       "</ol>\n"
      ],
      "text/latex": [
       "\\begin{enumerate*}\n",
       "\\item '소멸위험지역'\n",
       "\\item '소멸위험지역'\n",
       "\\item '소멸위험지역'\n",
       "\\item '소멸위험지역'\n",
       "\\item '소멸위험지역'\n",
       "\\item '소멸위험지역'\n",
       "\\end{enumerate*}\n"
      ],
      "text/markdown": [
       "1. '소멸위험지역'\n",
       "2. '소멸위험지역'\n",
       "3. '소멸위험지역'\n",
       "4. '소멸위험지역'\n",
       "5. '소멸위험지역'\n",
       "6. '소멸위험지역'\n",
       "\n",
       "\n"
      ],
      "text/plain": [
       "[1] \"소멸위험지역\" \"소멸위험지역\" \"소멸위험지역\" \"소멸위험지역\" \"소멸위험지역\"\n",
       "[6] \"소멸위험지역\""
      ]
     },
     "metadata": {},
     "output_type": "display_data"
    },
    {
     "data": {
      "text/html": [
       "1182"
      ],
      "text/latex": [
       "1182"
      ],
      "text/markdown": [
       "1182"
      ],
      "text/plain": [
       "[1] 1182"
      ]
     },
     "metadata": {},
     "output_type": "display_data"
    }
   ],
   "source": [
    "d <- pred2[pred2 < 0.8]\n",
    "e<- pred2[ 1.5 >= pred2 & pred2 >= 0.8]\n",
    "f <- pred2[1.5 < pred2]\n",
    "d[] <- '소멸위험지역'\n",
    "e[] <- '소멸위기지역'\n",
    "f[] <- '소멸안정지역'\n",
    "pred2 <-c(d,e,f)\n",
    "head(pred2)\n",
    "length(pred2)"
   ]
  },
  {
   "cell_type": "code",
   "execution_count": 231,
   "metadata": {},
   "outputs": [
    {
     "data": {
      "text/html": [
       "<table>\n",
       "<thead><tr><th scope=col>지역</th><th scope=col>소멸비율</th><th scope=col>관광여가오락</th><th scope=col>부동산</th><th scope=col>생활서비스</th><th scope=col>소매</th><th scope=col>숙박</th><th scope=col>음식</th><th scope=col>의료</th><th scope=col>학문교육</th><th scope=col>외국인근로자</th><th scope=col>결혼이민자</th><th scope=col>소멸지역여부</th></tr></thead>\n",
       "<tbody>\n",
       "\t<tr><td>충청남도 아산시</td><td>2.5308015      </td><td>194            </td><td>253            </td><td>1481           </td><td>3059           </td><td>128            </td><td>3413           </td><td> 261           </td><td>679            </td><td>4107           </td><td>267            </td><td>소멸안정지역   </td></tr>\n",
       "\t<tr><td>경상남도 함안군</td><td>0.9663420      </td><td> 41            </td><td> 69            </td><td> 450           </td><td> 947           </td><td> 43            </td><td>1242           </td><td>  68           </td><td>155            </td><td> 126           </td><td>263            </td><td>소멸위기지역   </td></tr>\n",
       "\t<tr><td>경상남도 하동군</td><td>0.5003123      </td><td> 52            </td><td> 52            </td><td> 383           </td><td>1045           </td><td>142            </td><td>1192           </td><td>  56           </td><td>119            </td><td>2474           </td><td>159            </td><td>소멸위험지역   </td></tr>\n",
       "\t<tr><td>대구광역시 동구</td><td>1.6574162      </td><td>390            </td><td>414            </td><td>2449           </td><td>4487           </td><td>142            </td><td>3574           </td><td> 453           </td><td>925            </td><td> 148           </td><td>458            </td><td>소멸안정지역   </td></tr>\n",
       "\t<tr><td>충청북도 음성군</td><td>1.1271693      </td><td>111            </td><td>131            </td><td> 803           </td><td>1854           </td><td> 65            </td><td>  45           </td><td>2131           </td><td>201            </td><td> 388           </td><td>498            </td><td>소멸위기지역   </td></tr>\n",
       "\t<tr><td>경상북도 울진군</td><td>0.7186660      </td><td> 36            </td><td> 18            </td><td> 364           </td><td> 699           </td><td>133            </td><td> 849           </td><td>  41           </td><td> 98            </td><td> 160           </td><td> 64            </td><td>소멸위험지역   </td></tr>\n",
       "</tbody>\n",
       "</table>\n"
      ],
      "text/latex": [
       "\\begin{tabular}{r|lllllllllllll}\n",
       " 지역 & 소멸비율 & 관광여가오락 & 부동산 & 생활서비스 & 소매 & 숙박 & 음식 & 의료 & 학문교육 & 외국인근로자 & 결혼이민자 & 소멸지역여부\\\\\n",
       "\\hline\n",
       "\t 충청남도 아산시 & 2.5308015       & 194             & 253             & 1481            & 3059            & 128             & 3413            &  261            & 679             & 4107            & 267             & 소멸안정지역   \\\\\n",
       "\t 경상남도 함안군 & 0.9663420       &  41             &  69             &  450            &  947            &  43             & 1242            &   68            & 155             &  126            & 263             & 소멸위기지역   \\\\\n",
       "\t 경상남도 하동군 & 0.5003123       &  52             &  52             &  383            & 1045            & 142             & 1192            &   56            & 119             & 2474            & 159             & 소멸위험지역   \\\\\n",
       "\t 대구광역시 동구 & 1.6574162       & 390             & 414             & 2449            & 4487            & 142             & 3574            &  453            & 925             &  148            & 458             & 소멸안정지역   \\\\\n",
       "\t 충청북도 음성군 & 1.1271693       & 111             & 131             &  803            & 1854            &  65             &   45            & 2131            & 201             &  388            & 498             & 소멸위기지역   \\\\\n",
       "\t 경상북도 울진군 & 0.7186660       &  36             &  18             &  364            &  699            & 133             &  849            &   41            &  98             &  160            &  64             & 소멸위험지역   \\\\\n",
       "\\end{tabular}\n"
      ],
      "text/markdown": [
       "\n",
       "지역 | 소멸비율 | 관광여가오락 | 부동산 | 생활서비스 | 소매 | 숙박 | 음식 | 의료 | 학문교육 | 외국인근로자 | 결혼이민자 | 소멸지역여부 | \n",
       "|---|---|---|---|---|---|\n",
       "| 충청남도 아산시 | 2.5308015       | 194             | 253             | 1481            | 3059            | 128             | 3413            |  261            | 679             | 4107            | 267             | 소멸안정지역    | \n",
       "| 경상남도 함안군 | 0.9663420       |  41             |  69             |  450            |  947            |  43             | 1242            |   68            | 155             |  126            | 263             | 소멸위기지역    | \n",
       "| 경상남도 하동군 | 0.5003123       |  52             |  52             |  383            | 1045            | 142             | 1192            |   56            | 119             | 2474            | 159             | 소멸위험지역    | \n",
       "| 대구광역시 동구 | 1.6574162       | 390             | 414             | 2449            | 4487            | 142             | 3574            |  453            | 925             |  148            | 458             | 소멸안정지역    | \n",
       "| 충청북도 음성군 | 1.1271693       | 111             | 131             |  803            | 1854            |  65             |   45            | 2131            | 201             |  388            | 498             | 소멸위기지역    | \n",
       "| 경상북도 울진군 | 0.7186660       |  36             |  18             |  364            |  699            | 133             |  849            |   41            |  98             |  160            |  64             | 소멸위험지역    | \n",
       "\n",
       "\n"
      ],
      "text/plain": [
       "  지역            소멸비율  관광여가오락 부동산 생활서비스 소매 숙박 음식 의료\n",
       "1 충청남도 아산시 2.5308015 194          253    1481       3059 128  3413  261\n",
       "2 경상남도 함안군 0.9663420  41           69     450        947  43  1242   68\n",
       "3 경상남도 하동군 0.5003123  52           52     383       1045 142  1192   56\n",
       "4 대구광역시 동구 1.6574162 390          414    2449       4487 142  3574  453\n",
       "5 충청북도 음성군 1.1271693 111          131     803       1854  65    45 2131\n",
       "6 경상북도 울진군 0.7186660  36           18     364        699 133   849   41\n",
       "  학문교육 외국인근로자 결혼이민자 소멸지역여부\n",
       "1 679      4107         267        소멸안정지역\n",
       "2 155       126         263        소멸위기지역\n",
       "3 119      2474         159        소멸위험지역\n",
       "4 925       148         458        소멸안정지역\n",
       "5 201       388         498        소멸위기지역\n",
       "6  98       160          64        소멸위험지역"
      ]
     },
     "metadata": {},
     "output_type": "display_data"
    },
    {
     "data": {
      "text/html": [
       "1182"
      ],
      "text/latex": [
       "1182"
      ],
      "text/markdown": [
       "1182"
      ],
      "text/plain": [
       "[1] 1182"
      ]
     },
     "metadata": {},
     "output_type": "display_data"
    }
   ],
   "source": [
    "train_data <- data[training_idx,]\n",
    "head(train_data)\n",
    "data_train_result <- train_data$소멸지역여부\n",
    "#train_result<- as.factor(train_data)\n",
    "length(data_train_result)"
   ]
  },
  {
   "cell_type": "markdown",
   "metadata": {},
   "source": [
    "## B-4) 라쏘모형 예측값과 실제값 결과 \n",
    "- 예측값이 형편없게 나옴"
   ]
  },
  {
   "cell_type": "code",
   "execution_count": 232,
   "metadata": {},
   "outputs": [
    {
     "data": {
      "text/plain": [
       "                 pred\n",
       "data_train_result 소멸안정지역 소멸위기지역 소멸위험지역\n",
       "     소멸안정지역          189          336            4\n",
       "     소멸위기지역          108          176            5\n",
       "     소멸위험지역          131          226            7"
      ]
     },
     "metadata": {},
     "output_type": "display_data"
    },
    {
     "data": {
      "text/plain": [
       "                 pred2\n",
       "data_train_result 소멸안정지역 소멸위기지역 소멸위험지역\n",
       "     소멸안정지역          221          219           89\n",
       "     소멸위기지역          121          108           60\n",
       "     소멸위험지역          157          146           61"
      ]
     },
     "metadata": {},
     "output_type": "display_data"
    }
   ],
   "source": [
    "table(data_train_result, pred)\n",
    "table(data_train_result, pred2)"
   ]
  },
  {
   "cell_type": "code",
   "execution_count": 233,
   "metadata": {},
   "outputs": [
    {
     "data": {
      "text/html": [
       "0.639585518402854"
      ],
      "text/latex": [
       "0.639585518402854"
      ],
      "text/markdown": [
       "0.639585518402854"
      ],
      "text/plain": [
       "[1] 0.6395855"
      ]
     },
     "metadata": {},
     "output_type": "display_data"
    }
   ],
   "source": [
    "result2 <- train_data$소멸비율\n",
    "rmse(result2, pop_glmnet)"
   ]
  },
  {
   "cell_type": "code",
   "execution_count": 234,
   "metadata": {},
   "outputs": [
    {
     "data": {
      "text/html": [
       "0.482532991958285"
      ],
      "text/latex": [
       "0.482532991958285"
      ],
      "text/markdown": [
       "0.482532991958285"
      ],
      "text/plain": [
       "[1] 0.482533"
      ]
     },
     "metadata": {},
     "output_type": "display_data"
    }
   ],
   "source": [
    "result2 <- train_data$소멸비율\n",
    "rmse(result2, pop_glmnet2)"
   ]
  },
  {
   "cell_type": "markdown",
   "metadata": {},
   "source": [
    "## C. 나무모형"
   ]
  },
  {
   "cell_type": "code",
   "execution_count": 235,
   "metadata": {},
   "outputs": [
    {
     "data": {
      "text/plain": [
       "n= 1182 \n",
       "\n",
       "node), split, n, deviance, yval\n",
       "      * denotes terminal node\n",
       "\n",
       " 1) root 1182 1016.582000 1.5239010  \n",
       "   2) 학문교육< 481.5 646  141.446100 0.8668033  \n",
       "     4) 학문교육< 161.5 382   20.315690 0.6284290 *\n",
       "     5) 학문교육>=161.5 264   68.016180 1.2117240  \n",
       "      10) 숙박>=40 245   35.477540 1.1161130  \n",
       "        20) 부동산< 112.5 164   11.249410 0.9557789 *\n",
       "        21) 부동산>=112.5 81   11.476130 1.4407410 *\n",
       "      11) 숙박< 40 19    1.419579 2.4445940 *\n",
       "   3) 학문교육>=481.5 536  260.035800 2.3158520  \n",
       "     6) 부동산< 566.5 332  137.970000 2.0618300  \n",
       "      12) 숙박>=128.5 157   38.136530 1.7837760 *\n",
       "      13) 숙박< 128.5 175   76.805470 2.3112830  \n",
       "        26) 생활서비스>=991 165   57.193990 2.2386320 *\n",
       "        27) 생활서비스< 991 10    4.370942 3.5100180 *\n",
       "     7) 부동산>=566.5 204   65.777810 2.7292600 *"
      ]
     },
     "metadata": {},
     "output_type": "display_data"
    }
   ],
   "source": [
    "data_tr <- rpart(소멸비율 ~., data=training)\n",
    "data_tr "
   ]
  },
  {
   "cell_type": "markdown",
   "metadata": {},
   "source": [
    "## C-1) 나무모형 모델링으로 나온 독립변수의 중요도 \n",
    "- 학문교육 > 생활서비스 > 관광여가오락 = 부동산 > 소매 > 결혼이민자 "
   ]
  },
  {
   "cell_type": "code",
   "execution_count": 236,
   "metadata": {},
   "outputs": [
    {
     "name": "stdout",
     "output_type": "stream",
     "text": [
      "\n",
      "Regression tree:\n",
      "rpart(formula = 소멸비율 ~ ., data = training)\n",
      "\n",
      "Variables actually used in tree construction:\n",
      "[1] 부동산     생활서비스 숙박       학문교육  \n",
      "\n",
      "Root node error: 1016.6/1182 = 0.86005\n",
      "\n",
      "n= 1182 \n",
      "\n",
      "        CP nsplit rel error  xerror     xstd\n",
      "1 0.605067      0   1.00000 1.00169 0.037478\n",
      "2 0.055370      1   0.39493 0.39848 0.020817\n",
      "3 0.052248      2   0.33956 0.34748 0.020166\n",
      "4 0.030611      3   0.28732 0.29233 0.018324\n",
      "5 0.022652      4   0.25670 0.26382 0.017407\n",
      "6 0.014992      5   0.23405 0.25271 0.016072\n",
      "7 0.012544      6   0.21906 0.24522 0.015632\n",
      "8 0.010000      7   0.20652 0.23272 0.015333\n",
      "Call:\n",
      "rpart(formula = 소멸비율 ~ ., data = training)\n",
      "  n= 1182 \n",
      "\n",
      "          CP nsplit rel error    xerror       xstd\n",
      "1 0.60506681      0 1.0000000 1.0016895 0.03747814\n",
      "2 0.05536989      1 0.3949332 0.3984845 0.02081679\n",
      "3 0.05224786      2 0.3395633 0.3474769 0.02016567\n",
      "4 0.03061147      3 0.2873154 0.2923285 0.01832441\n",
      "5 0.02265235      4 0.2567040 0.2638231 0.01740740\n",
      "6 0.01499194      5 0.2340516 0.2527092 0.01607151\n",
      "7 0.01254399      6 0.2190597 0.2452239 0.01563172\n",
      "8 0.01000000      7 0.2065157 0.2327160 0.01533278\n",
      "\n",
      "Variable importance\n",
      "    학문교육   생활서비스 관광여가오락       부동산         소매   결혼이민자 \n",
      "          18           17           16           16           15           13 \n",
      "        음식         숙박 \n",
      "           2            1 \n",
      "\n",
      "Node number 1: 1182 observations,    complexity param=0.6050668\n",
      "  mean=1.523901, MSE=0.8600523 \n",
      "  left son=2 (646 obs) right son=3 (536 obs)\n",
      "  Primary splits:\n",
      "      학문교육     < 481.5  to the left,  improve=0.6050668, (0 missing)\n",
      "      부동산       < 122.5  to the left,  improve=0.5790516, (0 missing)\n",
      "      관광여가오락 < 133.5  to the left,  improve=0.5502487, (0 missing)\n",
      "      생활서비스   < 1079   to the left,  improve=0.5128154, (0 missing)\n",
      "      결혼이민자   < 415    to the left,  improve=0.4685833, (0 missing)\n",
      "  Surrogate splits:\n",
      "      생활서비스   < 1079   to the left,  agree=0.949, adj=0.888, (0 split)\n",
      "      관광여가오락 < 142    to the left,  agree=0.942, adj=0.871, (0 split)\n",
      "      부동산       < 189.5  to the left,  agree=0.938, adj=0.864, (0 split)\n",
      "      소매         < 2319.5 to the left,  agree=0.912, adj=0.806, (0 split)\n",
      "      결혼이민자   < 415    to the left,  agree=0.900, adj=0.780, (0 split)\n",
      "\n",
      "Node number 2: 646 observations,    complexity param=0.05224786\n",
      "  mean=0.8668033, MSE=0.2189568 \n",
      "  left son=4 (382 obs) right son=5 (264 obs)\n",
      "  Primary splits:\n",
      "      학문교육     < 161.5  to the left,  improve=0.3755086, (0 missing)\n",
      "      부동산       < 71.5   to the left,  improve=0.3026243, (0 missing)\n",
      "      관광여가오락 < 72.5   to the left,  improve=0.2377762, (0 missing)\n",
      "      생활서비스   < 570    to the left,  improve=0.2374536, (0 missing)\n",
      "      음식         < 1818   to the left,  improve=0.2052712, (0 missing)\n",
      "  Surrogate splits:\n",
      "      생활서비스   < 502.5  to the left,  agree=0.918, adj=0.799, (0 split)\n",
      "      관광여가오락 < 56.5   to the left,  agree=0.906, adj=0.769, (0 split)\n",
      "      소매         < 1224.5 to the left,  agree=0.870, adj=0.682, (0 split)\n",
      "      음식         < 1331   to the left,  agree=0.844, adj=0.617, (0 split)\n",
      "      부동산       < 52.5   to the left,  agree=0.837, adj=0.602, (0 split)\n",
      "\n",
      "Node number 3: 536 observations,    complexity param=0.05536989\n",
      "  mean=2.315852, MSE=0.4851414 \n",
      "  left son=6 (332 obs) right son=7 (204 obs)\n",
      "  Primary splits:\n",
      "      부동산       < 566.5  to the left,  improve=0.21646260, (0 missing)\n",
      "      학문교육     < 1511.5 to the left,  improve=0.17061960, (0 missing)\n",
      "      관광여가오락 < 471    to the left,  improve=0.15804170, (0 missing)\n",
      "      생활서비스   < 3163   to the left,  improve=0.11700770, (0 missing)\n",
      "      결혼이민자   < 816.5  to the left,  improve=0.07983235, (0 missing)\n",
      "  Surrogate splits:\n",
      "      생활서비스   < 2664   to the left,  agree=0.866, adj=0.647, (0 split)\n",
      "      관광여가오락 < 528.5  to the left,  agree=0.856, adj=0.623, (0 split)\n",
      "      학문교육     < 1504   to the left,  agree=0.843, adj=0.588, (0 split)\n",
      "      소매         < 5445.5 to the left,  agree=0.832, adj=0.559, (0 split)\n",
      "      음식         < 5374.5 to the left,  agree=0.821, adj=0.529, (0 split)\n",
      "\n",
      "Node number 4: 382 observations\n",
      "  mean=0.628429, MSE=0.05318244 \n",
      "\n",
      "Node number 5: 264 observations,    complexity param=0.03061147\n",
      "  mean=1.211724, MSE=0.257637 \n",
      "  left son=10 (245 obs) right son=11 (19 obs)\n",
      "  Primary splits:\n",
      "      숙박         < 40     to the right, improve=0.4575244, (0 missing)\n",
      "      관광여가오락 < 38     to the right, improve=0.2413171, (0 missing)\n",
      "      생활서비스   < 379.5  to the right, improve=0.2413171, (0 missing)\n",
      "      결혼이민자   < 80.5   to the right, improve=0.2347683, (0 missing)\n",
      "      부동산       < 112.5  to the left,  improve=0.2001900, (0 missing)\n",
      "  Surrogate splits:\n",
      "      관광여가오락 < 38     to the right, agree=0.973, adj=0.632, (0 split)\n",
      "      생활서비스   < 379.5  to the right, agree=0.973, adj=0.632, (0 split)\n",
      "      결혼이민자   < 80.5   to the right, agree=0.970, adj=0.579, (0 split)\n",
      "      소매         < 974.5  to the right, agree=0.966, adj=0.526, (0 split)\n",
      "      의료         < 68     to the right, agree=0.951, adj=0.316, (0 split)\n",
      "\n",
      "Node number 6: 332 observations,    complexity param=0.02265235\n",
      "  mean=2.06183, MSE=0.4155722 \n",
      "  left son=12 (157 obs) right son=13 (175 obs)\n",
      "  Primary splits:\n",
      "      숙박         < 128.5  to the right, improve=0.16690560, (0 missing)\n",
      "      생활서비스   < 991    to the right, improve=0.15672840, (0 missing)\n",
      "      소매         < 2027   to the right, improve=0.15089430, (0 missing)\n",
      "      의료         < 294    to the right, improve=0.07613884, (0 missing)\n",
      "      외국인근로자 < 1128.5 to the left,  improve=0.06636583, (0 missing)\n",
      "  Surrogate splits:\n",
      "      소매         < 4572.5 to the right, agree=0.771, adj=0.516, (0 split)\n",
      "      음식         < 3932   to the right, agree=0.738, adj=0.446, (0 split)\n",
      "      생활서비스   < 2223   to the right, agree=0.729, adj=0.427, (0 split)\n",
      "      관광여가오락 < 319    to the right, agree=0.684, adj=0.331, (0 split)\n",
      "      학문교육     < 886.5  to the right, agree=0.633, adj=0.223, (0 split)\n",
      "\n",
      "Node number 7: 204 observations\n",
      "  mean=2.72926, MSE=0.3224402 \n",
      "\n",
      "Node number 10: 245 observations,    complexity param=0.01254399\n",
      "  mean=1.116113, MSE=0.1448063 \n",
      "  left son=20 (164 obs) right son=21 (81 obs)\n",
      "  Primary splits:\n",
      "      부동산       < 112.5  to the left,  improve=0.3594386, (0 missing)\n",
      "      관광여가오락 < 89.5   to the left,  improve=0.2564324, (0 missing)\n",
      "      학문교육     < 292    to the left,  improve=0.2147562, (0 missing)\n",
      "      음식         < 1920   to the left,  improve=0.2136985, (0 missing)\n",
      "      생활서비스   < 775    to the left,  improve=0.1088061, (0 missing)\n",
      "  Surrogate splits:\n",
      "      관광여가오락 < 102.5  to the left,  agree=0.767, adj=0.296, (0 split)\n",
      "      생활서비스   < 1185.5 to the left,  agree=0.767, adj=0.296, (0 split)\n",
      "      음식         < 2423   to the left,  agree=0.763, adj=0.284, (0 split)\n",
      "      결혼이민자   < 445    to the left,  agree=0.759, adj=0.272, (0 split)\n",
      "      의료         < 227    to the left,  agree=0.739, adj=0.210, (0 split)\n",
      "\n",
      "Node number 11: 19 observations\n",
      "  mean=2.444594, MSE=0.0747147 \n",
      "\n",
      "Node number 12: 157 observations\n",
      "  mean=1.783776, MSE=0.2429079 \n",
      "\n",
      "Node number 13: 175 observations,    complexity param=0.01499194\n",
      "  mean=2.311283, MSE=0.4388884 \n",
      "  left son=26 (165 obs) right son=27 (10 obs)\n",
      "  Primary splits:\n",
      "      생활서비스   < 991    to the right, improve=0.19843040, (0 missing)\n",
      "      소매         < 2033   to the right, improve=0.19721100, (0 missing)\n",
      "      의료         < 205.5  to the right, improve=0.17013920, (0 missing)\n",
      "      부동산       < 156    to the right, improve=0.13288480, (0 missing)\n",
      "      외국인근로자 < 1128.5 to the left,  improve=0.08312353, (0 missing)\n",
      "  Surrogate splits:\n",
      "      소매         < 2033   to the right, agree=0.989, adj=0.8, (0 split)\n",
      "      부동산       < 140    to the right, agree=0.971, adj=0.5, (0 split)\n",
      "      관광여가오락 < 120.5  to the right, agree=0.954, adj=0.2, (0 split)\n",
      "      의료         < 159.5  to the right, agree=0.949, adj=0.1, (0 split)\n",
      "\n",
      "Node number 20: 164 observations\n",
      "  mean=0.9557789, MSE=0.06859395 \n",
      "\n",
      "Node number 21: 81 observations\n",
      "  mean=1.440741, MSE=0.1416807 \n",
      "\n",
      "Node number 26: 165 observations\n",
      "  mean=2.238632, MSE=0.3466302 \n",
      "\n",
      "Node number 27: 10 observations\n",
      "  mean=3.510018, MSE=0.4370942 \n",
      "\n"
     ]
    }
   ],
   "source": [
    "printcp(data_tr)\n",
    "summary(data_tr)"
   ]
  },
  {
   "cell_type": "markdown",
   "metadata": {},
   "source": [
    "## C-2) 나무모형 결과 \n",
    "- 학문교육에 의해 소멸비율이 높고 낮음에 결정에 영향을 많이 미친다.\n",
    "- 학문교육이 높고 부동산이 높을 경우에 인구소멸과는 멀어짐을 보여준다"
   ]
  },
  {
   "cell_type": "code",
   "execution_count": 237,
   "metadata": {},
   "outputs": [
    {
     "data": {
      "image/png": "[encoded data removed]",
      "text/plain": [
       "plot without title"
      ]
     },
     "metadata": {},
     "output_type": "display_data"
    }
   ],
   "source": [
    "opar <- par(mfrow = c(1,1), xpd = NA)\n",
    "plot(data_tr)\n",
    "text(data_tr, use.n=TRUE)\n",
    "par(opar)"
   ]
  },
  {
   "cell_type": "markdown",
   "metadata": {},
   "source": [
    "## C-4) 나무모형 예측 결과 \n",
    "- 1970 중 1913개의 예측수를 보여준다.\n",
    "- 0.4 rmse로 위에 모델보다 낮은 오차율을 보여준다."
   ]
  },
  {
   "cell_type": "code",
   "execution_count": 238,
   "metadata": {},
   "outputs": [],
   "source": [
    "yhat_tr <- predict(data_tr, haha)"
   ]
  },
  {
   "cell_type": "code",
   "execution_count": 240,
   "metadata": {
    "scrolled": true
   },
   "outputs": [
    {
     "data": {
      "text/html": [
       "<dl class=dl-horizontal>\n",
       "\t<dt>1</dt>\n",
       "\t\t<dd>'소멸위험지역'</dd>\n",
       "\t<dt>2</dt>\n",
       "\t\t<dd>'소멸위험지역'</dd>\n",
       "\t<dt>3</dt>\n",
       "\t\t<dd>'소멸위험지역'</dd>\n",
       "\t<dt>4</dt>\n",
       "\t\t<dd>'소멸위험지역'</dd>\n",
       "\t<dt>5</dt>\n",
       "\t\t<dd>'소멸위험지역'</dd>\n",
       "\t<dt>6</dt>\n",
       "\t\t<dd>'소멸위험지역'</dd>\n",
       "</dl>\n"
      ],
      "text/latex": [
       "\\begin{description*}\n",
       "\\item[1] '소멸위험지역'\n",
       "\\item[2] '소멸위험지역'\n",
       "\\item[3] '소멸위험지역'\n",
       "\\item[4] '소멸위험지역'\n",
       "\\item[5] '소멸위험지역'\n",
       "\\item[6] '소멸위험지역'\n",
       "\\end{description*}\n"
      ],
      "text/markdown": [
       "1\n",
       ":   '소멸위험지역'2\n",
       ":   '소멸위험지역'3\n",
       ":   '소멸위험지역'4\n",
       ":   '소멸위험지역'5\n",
       ":   '소멸위험지역'6\n",
       ":   '소멸위험지역'\n",
       "\n"
      ],
      "text/plain": [
       "             1              2              3              4              5 \n",
       "\"소멸위험지역\" \"소멸위험지역\" \"소멸위험지역\" \"소멸위험지역\" \"소멸위험지역\" \n",
       "             6 \n",
       "\"소멸위험지역\" "
      ]
     },
     "metadata": {},
     "output_type": "display_data"
    },
    {
     "data": {
      "text/html": [
       "1970"
      ],
      "text/latex": [
       "1970"
      ],
      "text/markdown": [
       "1970"
      ],
      "text/plain": [
       "[1] 1970"
      ]
     },
     "metadata": {},
     "output_type": "display_data"
    }
   ],
   "source": [
    "a <- yhat_tr[yhat_tr < 0.8]\n",
    "b<- yhat_tr[ 1.5 >= yhat_tr & yhat_tr >= 0.8]\n",
    "c <- yhat_tr[1.5 < yhat_tr]\n",
    "a[] <- '소멸위험지역'\n",
    "b[] <- '소멸위기지역'\n",
    "c[] <- '소멸안정지역'\n",
    "pred<-c(a,b,c)\n",
    "head(pred)\n",
    "length(pred)"
   ]
  },
  {
   "cell_type": "code",
   "execution_count": 241,
   "metadata": {},
   "outputs": [
    {
     "data": {
      "text/plain": [
       "              pred\n",
       "result         소멸안정지역 소멸위기지역 소멸위험지역\n",
       "  소멸안정지역          913            0            0\n",
       "  소멸위기지역           44          382           13\n",
       "  소멸위험지역            0            0          618"
      ]
     },
     "metadata": {},
     "output_type": "display_data"
    }
   ],
   "source": [
    "table(result, pred)"
   ]
  },
  {
   "cell_type": "code",
   "execution_count": 242,
   "metadata": {},
   "outputs": [
    {
     "data": {
      "text/html": [
       "0.424991365673728"
      ],
      "text/latex": [
       "0.424991365673728"
      ],
      "text/markdown": [
       "0.424991365673728"
      ],
      "text/plain": [
       "[1] 0.4249914"
      ]
     },
     "metadata": {},
     "output_type": "display_data"
    }
   ],
   "source": [
    "result3 <- haha$소멸비율\n",
    "rmse(result3, yhat_tr)"
   ]
  },
  {
   "cell_type": "markdown",
   "metadata": {},
   "source": [
    "## D. 랜덤포레스트"
   ]
  },
  {
   "cell_type": "code",
   "execution_count": 243,
   "metadata": {},
   "outputs": [
    {
     "data": {
      "text/plain": [
       "\n",
       "Call:\n",
       " randomForest(formula = 소멸비율 ~ ., data = training) \n",
       "               Type of random forest: regression\n",
       "                     Number of trees: 500\n",
       "No. of variables tried at each split: 3\n",
       "\n",
       "          Mean of squared residuals: 0.06878827\n",
       "                    % Var explained: 92"
      ]
     },
     "metadata": {},
     "output_type": "display_data"
    }
   ],
   "source": [
    "set.seed(9876)\n",
    "data_rf <- randomForest(소멸비율 ~., training)\n",
    "data_rf"
   ]
  },
  {
   "cell_type": "markdown",
   "metadata": {},
   "source": [
    "#### 에러는 tree수가 많을 수록 적게 발생됨을 보여준다."
   ]
  },
  {
   "cell_type": "code",
   "execution_count": 244,
   "metadata": {},
   "outputs": [
    {
     "data": {
      "image/png": "[encoded data removed]",
      "text/plain": [
       "Plot with title \"data_rf\""
      ]
     },
     "metadata": {},
     "output_type": "display_data"
    }
   ],
   "source": [
    "plot(data_rf)"
   ]
  },
  {
   "cell_type": "markdown",
   "metadata": {},
   "source": [
    "## D-1) 랜덤포레스트 모델링으로 나온 독립변수의 중요도 \n",
    "- 학문교육 >  부동산 > 관광여가오락 > 생활서비스 "
   ]
  },
  {
   "cell_type": "code",
   "execution_count": 245,
   "metadata": {},
   "outputs": [
    {
     "data": {
      "image/png": "[encoded data removed]",
      "text/plain": [
       "Plot with title \"data_rf\""
      ]
     },
     "metadata": {},
     "output_type": "display_data"
    }
   ],
   "source": [
    "varImpPlot(data_rf)"
   ]
  },
  {
   "cell_type": "code",
   "execution_count": 246,
   "metadata": {},
   "outputs": [],
   "source": [
    "yhat_rf <- predict(data_rf, newdata= haha)"
   ]
  },
  {
   "cell_type": "code",
   "execution_count": 247,
   "metadata": {},
   "outputs": [
    {
     "data": {
      "text/html": [
       "<dl class=dl-horizontal>\n",
       "\t<dt>1</dt>\n",
       "\t\t<dd>'소멸위험지역'</dd>\n",
       "\t<dt>2</dt>\n",
       "\t\t<dd>'소멸위험지역'</dd>\n",
       "\t<dt>3</dt>\n",
       "\t\t<dd>'소멸위험지역'</dd>\n",
       "\t<dt>4</dt>\n",
       "\t\t<dd>'소멸위험지역'</dd>\n",
       "\t<dt>5</dt>\n",
       "\t\t<dd>'소멸위험지역'</dd>\n",
       "\t<dt>6</dt>\n",
       "\t\t<dd>'소멸위험지역'</dd>\n",
       "</dl>\n"
      ],
      "text/latex": [
       "\\begin{description*}\n",
       "\\item[1] '소멸위험지역'\n",
       "\\item[2] '소멸위험지역'\n",
       "\\item[3] '소멸위험지역'\n",
       "\\item[4] '소멸위험지역'\n",
       "\\item[5] '소멸위험지역'\n",
       "\\item[6] '소멸위험지역'\n",
       "\\end{description*}\n"
      ],
      "text/markdown": [
       "1\n",
       ":   '소멸위험지역'2\n",
       ":   '소멸위험지역'3\n",
       ":   '소멸위험지역'4\n",
       ":   '소멸위험지역'5\n",
       ":   '소멸위험지역'6\n",
       ":   '소멸위험지역'\n",
       "\n"
      ],
      "text/plain": [
       "             1              2              3              4              5 \n",
       "\"소멸위험지역\" \"소멸위험지역\" \"소멸위험지역\" \"소멸위험지역\" \"소멸위험지역\" \n",
       "             6 \n",
       "\"소멸위험지역\" "
      ]
     },
     "metadata": {},
     "output_type": "display_data"
    }
   ],
   "source": [
    "a <- yhat_rf[yhat_rf < 0.8]\n",
    "b<- yhat_rf[ 1.5 >= yhat_rf & yhat_rf >= 0.8]\n",
    "c <- yhat_rf[1.5 < yhat_rf]\n",
    "a[] <- '소멸위험지역'\n",
    "b[] <- '소멸위기지역'\n",
    "c[] <- '소멸안정지역'\n",
    "pred<-c(a,b,c)\n",
    "head(pred)"
   ]
  },
  {
   "cell_type": "markdown",
   "metadata": {},
   "source": [
    "## D-2) 랜덤포레스트 예측 결과\n",
    "- 1970개 중 1912개의 예측값\n",
    "- rmse는 0.2로 가장 낮을 오차율을 보여준다."
   ]
  },
  {
   "cell_type": "code",
   "execution_count": 251,
   "metadata": {},
   "outputs": [
    {
     "data": {
      "text/plain": [
       "              pred\n",
       "result         소멸안정지역 소멸위기지역 소멸위험지역\n",
       "  소멸안정지역          913            0            0\n",
       "  소멸위기지역           34          405            0\n",
       "  소멸위험지역            0           24          594"
      ]
     },
     "metadata": {},
     "output_type": "display_data"
    }
   ],
   "source": [
    "table(result, pred)"
   ]
  },
  {
   "cell_type": "markdown",
   "metadata": {},
   "source": [
    "- 실제 소멸비율과 예측된 소멸비율 비교해보기"
   ]
  },
  {
   "cell_type": "code",
   "execution_count": 252,
   "metadata": {},
   "outputs": [
    {
     "data": {
      "text/html": [
       "<ol>\n",
       "\t<li>0.313963231</li>\n",
       "\t<li>0.315628394</li>\n",
       "\t<li>0.318017348</li>\n",
       "\t<li>0.323077688</li>\n",
       "\t<li>0.332679636</li>\n",
       "\t<li>0.332954323</li>\n",
       "</ol>\n"
      ],
      "text/latex": [
       "\\begin{enumerate}\n",
       "\\item 0.313963231\n",
       "\\item 0.315628394\n",
       "\\item 0.318017348\n",
       "\\item 0.323077688\n",
       "\\item 0.332679636\n",
       "\\item 0.332954323\n",
       "\\end{enumerate}\n"
      ],
      "text/markdown": [
       "1. 0.313963231\n",
       "2. 0.315628394\n",
       "3. 0.318017348\n",
       "4. 0.323077688\n",
       "5. 0.332679636\n",
       "6. 0.332954323\n",
       "\n",
       "\n"
      ],
      "text/plain": [
       "[[1]]\n",
       "[1] 0.3139632\n",
       "\n",
       "[[2]]\n",
       "[1] 0.3156284\n",
       "\n",
       "[[3]]\n",
       "[1] 0.3180173\n",
       "\n",
       "[[4]]\n",
       "[1] 0.3230777\n",
       "\n",
       "[[5]]\n",
       "[1] 0.3326796\n",
       "\n",
       "[[6]]\n",
       "[1] 0.3329543\n"
      ]
     },
     "metadata": {},
     "output_type": "display_data"
    },
    {
     "data": {
      "text/html": [
       "<dl class=dl-horizontal>\n",
       "\t<dt>1</dt>\n",
       "\t\t<dd>0.359175270980834</dd>\n",
       "\t<dt>2</dt>\n",
       "\t\t<dd>0.362523652985566</dd>\n",
       "\t<dt>3</dt>\n",
       "\t\t<dd>0.344030786151967</dd>\n",
       "\t<dt>4</dt>\n",
       "\t\t<dd>0.355518065783934</dd>\n",
       "\t<dt>5</dt>\n",
       "\t\t<dd>0.385151687201233</dd>\n",
       "\t<dt>6</dt>\n",
       "\t\t<dd>0.3896280275994</dd>\n",
       "</dl>\n"
      ],
      "text/latex": [
       "\\begin{description*}\n",
       "\\item[1] 0.359175270980834\n",
       "\\item[2] 0.362523652985566\n",
       "\\item[3] 0.344030786151967\n",
       "\\item[4] 0.355518065783934\n",
       "\\item[5] 0.385151687201233\n",
       "\\item[6] 0.3896280275994\n",
       "\\end{description*}\n"
      ],
      "text/markdown": [
       "1\n",
       ":   0.3591752709808342\n",
       ":   0.3625236529855663\n",
       ":   0.3440307861519674\n",
       ":   0.3555180657839345\n",
       ":   0.3851516872012336\n",
       ":   0.3896280275994\n",
       "\n"
      ],
      "text/plain": [
       "        1         2         3         4         5         6 \n",
       "0.3591753 0.3625237 0.3440308 0.3555181 0.3851517 0.3896280 "
      ]
     },
     "metadata": {},
     "output_type": "display_data"
    }
   ],
   "source": [
    "result_rate <- as.list(data$소멸비율)\n",
    "head(result_rate)\n",
    "head(yhat_rf)"
   ]
  },
  {
   "cell_type": "code",
   "execution_count": 250,
   "metadata": {},
   "outputs": [
    {
     "data": {
      "text/html": [
       "0.183507383061405"
      ],
      "text/latex": [
       "0.183507383061405"
      ],
      "text/markdown": [
       "0.183507383061405"
      ],
      "text/plain": [
       "[1] 0.1835074"
      ]
     },
     "metadata": {},
     "output_type": "display_data"
    }
   ],
   "source": [
    "rmse(result3, yhat_rf)"
   ]
  },
  {
   "cell_type": "markdown",
   "metadata": {},
   "source": [
    "## E. 부스팅 "
   ]
  },
  {
   "cell_type": "code",
   "execution_count": 253,
   "metadata": {},
   "outputs": [
    {
     "name": "stdout",
     "output_type": "stream",
     "text": [
      "Distribution not specified, assuming gaussian ...\n",
      "Iter   TrainDeviance   ValidDeviance   StepSize   Improve\n",
      "     1        0.8591             nan     0.0010    0.0009\n",
      "     2        0.8581             nan     0.0010    0.0010\n",
      "     3        0.8570             nan     0.0010    0.0010\n",
      "     4        0.8560             nan     0.0010    0.0010\n",
      "     5        0.8550             nan     0.0010    0.0010\n",
      "     6        0.8539             nan     0.0010    0.0010\n",
      "     7        0.8529             nan     0.0010    0.0010\n",
      "     8        0.8518             nan     0.0010    0.0010\n",
      "     9        0.8509             nan     0.0010    0.0010\n",
      "    10        0.8499             nan     0.0010    0.0010\n",
      "    20        0.8399             nan     0.0010    0.0010\n",
      "    40        0.8201             nan     0.0010    0.0010\n",
      "    60        0.8014             nan     0.0010    0.0009\n",
      "    80        0.7833             nan     0.0010    0.0009\n",
      "   100        0.7659             nan     0.0010    0.0008\n",
      "   120        0.7491             nan     0.0010    0.0008\n",
      "   140        0.7330             nan     0.0010    0.0008\n",
      "   160        0.7176             nan     0.0010    0.0007\n",
      "   180        0.7026             nan     0.0010    0.0007\n",
      "   200        0.6883             nan     0.0010    0.0007\n",
      "   220        0.6744             nan     0.0010    0.0007\n",
      "   240        0.6611             nan     0.0010    0.0007\n",
      "   260        0.6482             nan     0.0010    0.0006\n",
      "   280        0.6357             nan     0.0010    0.0006\n",
      "   300        0.6237             nan     0.0010    0.0006\n",
      "   320        0.6122             nan     0.0010    0.0006\n",
      "   340        0.6010             nan     0.0010    0.0005\n",
      "   360        0.5902             nan     0.0010    0.0005\n",
      "   380        0.5798             nan     0.0010    0.0005\n",
      "   400        0.5699             nan     0.0010    0.0005\n",
      "   420        0.5601             nan     0.0010    0.0005\n",
      "   440        0.5508             nan     0.0010    0.0005\n",
      "   460        0.5418             nan     0.0010    0.0004\n",
      "   480        0.5329             nan     0.0010    0.0004\n",
      "   500        0.5245             nan     0.0010    0.0004\n",
      "   520        0.5165             nan     0.0010    0.0004\n",
      "   540        0.5086             nan     0.0010    0.0004\n",
      "   560        0.5010             nan     0.0010    0.0004\n",
      "   580        0.4937             nan     0.0010    0.0003\n",
      "   600        0.4865             nan     0.0010    0.0003\n",
      "   620        0.4797             nan     0.0010    0.0003\n",
      "   640        0.4730             nan     0.0010    0.0003\n",
      "   660        0.4666             nan     0.0010    0.0003\n",
      "   680        0.4604             nan     0.0010    0.0003\n",
      "   700        0.4544             nan     0.0010    0.0003\n",
      "   720        0.4486             nan     0.0010    0.0003\n",
      "   740        0.4429             nan     0.0010    0.0003\n",
      "   760        0.4373             nan     0.0010    0.0003\n",
      "   780        0.4321             nan     0.0010    0.0003\n",
      "   800        0.4269             nan     0.0010    0.0002\n",
      "   820        0.4218             nan     0.0010    0.0002\n",
      "   840        0.4168             nan     0.0010    0.0002\n",
      "   860        0.4120             nan     0.0010    0.0002\n",
      "   880        0.4073             nan     0.0010    0.0002\n",
      "   900        0.4029             nan     0.0010    0.0002\n",
      "   920        0.3985             nan     0.0010    0.0002\n",
      "   940        0.3942             nan     0.0010    0.0002\n",
      "   960        0.3900             nan     0.0010    0.0002\n",
      "   980        0.3859             nan     0.0010    0.0002\n",
      "  1000        0.3818             nan     0.0010    0.0002\n",
      "  1020        0.3780             nan     0.0010    0.0002\n",
      "  1040        0.3742             nan     0.0010    0.0002\n",
      "  1060        0.3706             nan     0.0010    0.0002\n",
      "  1080        0.3670             nan     0.0010    0.0002\n",
      "  1100        0.3635             nan     0.0010    0.0002\n",
      "  1120        0.3601             nan     0.0010    0.0002\n",
      "  1140        0.3567             nan     0.0010    0.0002\n",
      "  1160        0.3535             nan     0.0010    0.0001\n",
      "  1180        0.3503             nan     0.0010    0.0001\n",
      "  1200        0.3473             nan     0.0010    0.0001\n",
      "  1220        0.3444             nan     0.0010    0.0001\n",
      "  1240        0.3415             nan     0.0010    0.0001\n",
      "  1260        0.3387             nan     0.0010    0.0001\n",
      "  1280        0.3359             nan     0.0010    0.0001\n",
      "  1300        0.3332             nan     0.0010    0.0001\n",
      "  1320        0.3305             nan     0.0010    0.0001\n",
      "  1340        0.3280             nan     0.0010    0.0001\n",
      "  1360        0.3255             nan     0.0010    0.0001\n",
      "  1380        0.3231             nan     0.0010    0.0001\n",
      "  1400        0.3208             nan     0.0010    0.0001\n",
      "  1420        0.3185             nan     0.0010    0.0001\n",
      "  1440        0.3163             nan     0.0010    0.0001\n",
      "  1460        0.3141             nan     0.0010    0.0001\n",
      "  1480        0.3119             nan     0.0010    0.0001\n",
      "  1500        0.3098             nan     0.0010    0.0001\n",
      "  1520        0.3078             nan     0.0010    0.0001\n",
      "  1540        0.3058             nan     0.0010    0.0001\n",
      "  1560        0.3039             nan     0.0010    0.0001\n",
      "  1580        0.3020             nan     0.0010    0.0001\n",
      "  1600        0.3001             nan     0.0010    0.0001\n",
      "  1620        0.2984             nan     0.0010    0.0001\n",
      "  1640        0.2966             nan     0.0010    0.0001\n",
      "  1660        0.2949             nan     0.0010    0.0001\n",
      "  1680        0.2932             nan     0.0010    0.0001\n",
      "  1700        0.2916             nan     0.0010    0.0001\n",
      "  1720        0.2900             nan     0.0010    0.0001\n",
      "  1740        0.2885             nan     0.0010    0.0001\n",
      "  1760        0.2870             nan     0.0010    0.0001\n",
      "  1780        0.2855             nan     0.0010    0.0001\n",
      "  1800        0.2841             nan     0.0010    0.0001\n",
      "  1820        0.2827             nan     0.0010    0.0001\n",
      "  1840        0.2813             nan     0.0010    0.0001\n",
      "  1860        0.2800             nan     0.0010    0.0001\n",
      "  1880        0.2786             nan     0.0010    0.0001\n",
      "  1900        0.2774             nan     0.0010    0.0001\n",
      "  1920        0.2761             nan     0.0010    0.0001\n",
      "  1940        0.2749             nan     0.0010    0.0000\n",
      "  1960        0.2737             nan     0.0010    0.0001\n",
      "  1980        0.2726             nan     0.0010    0.0000\n",
      "  2000        0.2715             nan     0.0010    0.0000\n",
      "  2020        0.2704             nan     0.0010    0.0000\n",
      "  2040        0.2693             nan     0.0010    0.0000\n",
      "  2060        0.2683             nan     0.0010    0.0001\n",
      "  2080        0.2673             nan     0.0010    0.0000\n",
      "  2100        0.2663             nan     0.0010    0.0000\n",
      "  2120        0.2653             nan     0.0010    0.0000\n",
      "  2140        0.2643             nan     0.0010    0.0000\n",
      "  2160        0.2634             nan     0.0010    0.0000\n",
      "  2180        0.2625             nan     0.0010    0.0000\n",
      "  2200        0.2617             nan     0.0010    0.0000\n",
      "  2220        0.2608             nan     0.0010    0.0000\n",
      "  2240        0.2600             nan     0.0010    0.0000\n",
      "  2260        0.2592             nan     0.0010    0.0000\n",
      "  2280        0.2584             nan     0.0010    0.0000\n",
      "  2300        0.2576             nan     0.0010    0.0000\n",
      "  2320        0.2568             nan     0.0010    0.0000\n",
      "  2340        0.2561             nan     0.0010    0.0000\n",
      "  2360        0.2554             nan     0.0010    0.0000\n",
      "  2380        0.2547             nan     0.0010    0.0000\n",
      "  2400        0.2540             nan     0.0010    0.0000\n",
      "  2420        0.2533             nan     0.0010    0.0000\n",
      "  2440        0.2526             nan     0.0010    0.0000\n",
      "  2460        0.2520             nan     0.0010    0.0000\n",
      "  2480        0.2513             nan     0.0010    0.0000\n",
      "  2500        0.2507             nan     0.0010    0.0000\n",
      "  2520        0.2501             nan     0.0010    0.0000\n",
      "  2540        0.2495             nan     0.0010    0.0000\n",
      "  2560        0.2489             nan     0.0010    0.0000\n",
      "  2580        0.2483             nan     0.0010    0.0000\n",
      "  2600        0.2478             nan     0.0010    0.0000\n",
      "  2620        0.2472             nan     0.0010    0.0000\n",
      "  2640        0.2467             nan     0.0010    0.0000\n",
      "  2660        0.2462             nan     0.0010    0.0000\n",
      "  2680        0.2456             nan     0.0010    0.0000\n",
      "  2700        0.2451             nan     0.0010    0.0000\n",
      "  2720        0.2447             nan     0.0010    0.0000\n",
      "  2740        0.2442             nan     0.0010    0.0000\n",
      "  2760        0.2437             nan     0.0010    0.0000\n",
      "  2780        0.2432             nan     0.0010    0.0000\n",
      "  2800        0.2427             nan     0.0010    0.0000\n",
      "  2820        0.2423             nan     0.0010    0.0000\n",
      "  2840        0.2419             nan     0.0010    0.0000\n",
      "  2860        0.2415             nan     0.0010    0.0000\n",
      "  2880        0.2410             nan     0.0010    0.0000\n",
      "  2900        0.2406             nan     0.0010    0.0000\n",
      "  2920        0.2403             nan     0.0010    0.0000\n",
      "  2940        0.2398             nan     0.0010    0.0000\n",
      "  2960        0.2395             nan     0.0010    0.0000\n",
      "  2980        0.2391             nan     0.0010    0.0000\n",
      "  3000        0.2387             nan     0.0010    0.0000\n",
      "  3020        0.2383             nan     0.0010    0.0000\n",
      "  3040        0.2380             nan     0.0010    0.0000\n",
      "  3060        0.2376             nan     0.0010    0.0000\n",
      "  3080        0.2372             nan     0.0010    0.0000\n",
      "  3100        0.2369             nan     0.0010    0.0000\n",
      "  3120        0.2366             nan     0.0010    0.0000\n",
      "  3140        0.2362             nan     0.0010    0.0000\n",
      "  3160        0.2359             nan     0.0010    0.0000\n",
      "  3180        0.2356             nan     0.0010    0.0000\n",
      "  3200        0.2353             nan     0.0010    0.0000\n",
      "  3220        0.2350             nan     0.0010    0.0000\n",
      "  3240        0.2347             nan     0.0010    0.0000\n",
      "  3260        0.2344             nan     0.0010    0.0000\n",
      "  3280        0.2341             nan     0.0010    0.0000\n",
      "  3300        0.2337             nan     0.0010    0.0000\n",
      "  3320        0.2334             nan     0.0010    0.0000\n",
      "  3340        0.2331             nan     0.0010    0.0000\n",
      "  3360        0.2328             nan     0.0010    0.0000\n",
      "  3380        0.2325             nan     0.0010    0.0000\n",
      "  3400        0.2322             nan     0.0010    0.0000\n",
      "  3420        0.2319             nan     0.0010    0.0000\n",
      "  3440        0.2316             nan     0.0010    0.0000\n",
      "  3460        0.2313             nan     0.0010    0.0000\n",
      "  3480        0.2310             nan     0.0010    0.0000\n",
      "  3500        0.2308             nan     0.0010    0.0000\n",
      "  3520        0.2305             nan     0.0010    0.0000\n",
      "  3540        0.2302             nan     0.0010    0.0000\n",
      "  3560        0.2299             nan     0.0010    0.0000\n",
      "  3580        0.2296             nan     0.0010    0.0000\n",
      "  3600        0.2293             nan     0.0010    0.0000\n",
      "  3620        0.2291             nan     0.0010    0.0000\n",
      "  3640        0.2288             nan     0.0010    0.0000\n",
      "  3660        0.2285             nan     0.0010    0.0000\n",
      "  3680        0.2282             nan     0.0010    0.0000\n",
      "  3700        0.2280             nan     0.0010    0.0000\n",
      "  3720        0.2277             nan     0.0010    0.0000\n",
      "  3740        0.2275             nan     0.0010    0.0000\n",
      "  3760        0.2272             nan     0.0010    0.0000\n",
      "  3780        0.2269             nan     0.0010    0.0000\n",
      "  3800        0.2267             nan     0.0010    0.0000\n",
      "  3820        0.2264             nan     0.0010    0.0000\n",
      "  3840        0.2261             nan     0.0010    0.0000\n",
      "  3860        0.2259             nan     0.0010    0.0000\n",
      "  3880        0.2256             nan     0.0010    0.0000\n",
      "  3900        0.2254             nan     0.0010    0.0000\n",
      "  3920        0.2251             nan     0.0010    0.0000\n",
      "  3940        0.2249             nan     0.0010    0.0000\n",
      "  3960        0.2246             nan     0.0010    0.0000\n",
      "  3980        0.2244             nan     0.0010    0.0000\n",
      "  4000        0.2242             nan     0.0010    0.0000\n",
      "\n"
     ]
    }
   ],
   "source": [
    "set.seed(9876)\n",
    "data_gbm <- gbm(소멸비율~., data=training,\n",
    "               n.trees=4000, cv.folds=3, verbose=TRUE)"
   ]
  },
  {
   "cell_type": "code",
   "execution_count": 254,
   "metadata": {},
   "outputs": [
    {
     "data": {
      "text/html": [
       "4000"
      ],
      "text/latex": [
       "4000"
      ],
      "text/markdown": [
       "4000"
      ],
      "text/plain": [
       "[1] 4000"
      ]
     },
     "metadata": {},
     "output_type": "display_data"
    },
    {
     "data": {
      "image/png": "[encoded data removed]",
      "text/plain": [
       "plot without title"
      ]
     },
     "metadata": {},
     "output_type": "display_data"
    }
   ],
   "source": [
    "(best.iter = gbm.perf(data_gbm, method='cv'))"
   ]
  },
  {
   "cell_type": "markdown",
   "metadata": {},
   "source": [
    "## E-1) 오차율은 1.17로 모델링 중 가장 높게 나왔다"
   ]
  },
  {
   "cell_type": "code",
   "execution_count": 255,
   "metadata": {},
   "outputs": [
    {
     "data": {
      "text/html": [
       "1.17358336813599"
      ],
      "text/latex": [
       "1.17358336813599"
      ],
      "text/markdown": [
       "1.17358336813599"
      ],
      "text/plain": [
       "[1] 1.173583"
      ]
     },
     "metadata": {},
     "output_type": "display_data"
    }
   ],
   "source": [
    "yhat_gbm <- predict(data_gbm, n.trees=best.iter, newdata=validation)\n",
    "rmse(result2, yhat_gbm)"
   ]
  },
  {
   "cell_type": "markdown",
   "metadata": {},
   "source": [
    "# 5. 최종 모형선택\n",
    "### 랜덤포레스트 > 나무모형 > 선형회귀 > 부스팅"
   ]
  },
  {
   "cell_type": "code",
   "execution_count": 256,
   "metadata": {},
   "outputs": [
    {
     "name": "stderr",
     "output_type": "stream",
     "text": [
      "No id variables; using all as measure variables\n"
     ]
    },
    {
     "data": {
      "text/html": [
       "<table>\n",
       "<thead><tr><th scope=col>method</th><th scope=col>rmse</th></tr></thead>\n",
       "<tbody>\n",
       "\t<tr><td>lm       </td><td>0.6360454</td></tr>\n",
       "\t<tr><td>rf       </td><td>0.1835074</td></tr>\n",
       "\t<tr><td>tr       </td><td>0.4249914</td></tr>\n",
       "\t<tr><td>gbm      </td><td>1.1740801</td></tr>\n",
       "</tbody>\n",
       "</table>\n"
      ],
      "text/latex": [
       "\\begin{tabular}{r|ll}\n",
       " method & rmse\\\\\n",
       "\\hline\n",
       "\t lm        & 0.6360454\\\\\n",
       "\t rf        & 0.1835074\\\\\n",
       "\t tr        & 0.4249914\\\\\n",
       "\t gbm       & 1.1740801\\\\\n",
       "\\end{tabular}\n"
      ],
      "text/markdown": [
       "\n",
       "method | rmse | \n",
       "|---|---|---|---|\n",
       "| lm        | 0.6360454 | \n",
       "| rf        | 0.1835074 | \n",
       "| tr        | 0.4249914 | \n",
       "| gbm       | 1.1740801 | \n",
       "\n",
       "\n"
      ],
      "text/plain": [
       "  method rmse     \n",
       "1 lm     0.6360454\n",
       "2 rf     0.1835074\n",
       "3 tr     0.4249914\n",
       "4 gbm    1.1740801"
      ]
     },
     "metadata": {},
     "output_type": "display_data"
    }
   ],
   "source": [
    "data.frame(lm = rmse(result3, pop_lm),\n",
    "          rf = rmse(result3, yhat_rf),\n",
    "          tr = rmse(result3, yhat_tr),\n",
    "          gbm = rmse(result3, yhat_gbm)) %>%\n",
    "reshape2::melt(value.name = 'rmse', variable.name='method')"
   ]
  },
  {
   "cell_type": "code",
   "execution_count": 257,
   "metadata": {},
   "outputs": [
    {
     "data": {
      "image/png": "[encoded data removed]",
      "text/plain": [
       "plot without title"
      ]
     },
     "metadata": {},
     "output_type": "display_data"
    }
   ],
   "source": [
    "boxplot(list(lm = result3 - pop_lm,\n",
    "            rf = result3 - yhat_rf,\n",
    "            tr = result3 - yhat_tr,\n",
    "            gbm = result3 - yhat_gbm), ylab='Error in Validation Set')\n",
    "abline(h=0, lty=2, col='red')"
   ]
  },
  {
   "cell_type": "markdown",
   "metadata": {},
   "source": [
    "# 5-1) 다음과 같은 시각화로 각 예측모형들의 예측확률들의 관계 알기"
   ]
  },
  {
   "cell_type": "markdown",
   "metadata": {},
   "source": [
    "> 결과\n",
    "- 선형회귀 모형과 랜덤포레스트 모형도 상관관계가 높다. \n",
    "- 반응변수의 관측치와 가장 상관관계가 높은, 즉 예측력이 높은 방법은 랜덤포레스트이다."
   ]
  },
  {
   "cell_type": "code",
   "execution_count": 150,
   "metadata": {},
   "outputs": [
    {
     "data": {
      "image/png": "[encoded data removed]",
      "text/plain": [
       "plot without title"
      ]
     },
     "metadata": {},
     "output_type": "display_data"
    }
   ],
   "source": [
    "pairs(data.frame(y_obs=result3,\n",
    "                 yhat_lm=pop_lm,\n",
    "                 yhat_tr=yhat_tr,\n",
    "                 yhat_rf=yhat_rf),\n",
    "      lower.panel=function(x,y){ points(x,y); abline(0, 1, col='red')},\n",
    "      upper.panel = panel.cor)"
   ]
  },
  {
   "cell_type": "markdown",
   "metadata": {},
   "source": [
    "## 6. 랜덤포레스트 분석 모델링 사용\n",
    "- 각 변수간 갖는 정확도와 오류값 등의 정보 제공\n",
    "- 종속변수를 소멸비율이 아닌 소멸위험지역으로 할 때의 경우도 살펴봄"
   ]
  },
  {
   "cell_type": "code",
   "execution_count": 260,
   "metadata": {},
   "outputs": [],
   "source": [
    "#install.packages('ROCR')\n",
    "#install.packages('pROC')\n",
    "#install.packages('MASS')\n",
    "#library(ROCR)\n",
    "#library(MASS)\n",
    "#library(pROC)"
   ]
  },
  {
   "cell_type": "code",
   "execution_count": 261,
   "metadata": {},
   "outputs": [
    {
     "data": {
      "text/html": [
       "<table>\n",
       "<thead><tr><th scope=col>소멸비율</th><th scope=col>관광여가오락</th><th scope=col>부동산</th><th scope=col>생활서비스</th><th scope=col>소매</th><th scope=col>숙박</th><th scope=col>음식</th><th scope=col>의료</th><th scope=col>학문교육</th><th scope=col>외국인근로자</th><th scope=col>결혼이민자</th><th scope=col>소멸지역여부</th></tr></thead>\n",
       "<tbody>\n",
       "\t<tr><td>2.5308015   </td><td>194         </td><td>253         </td><td>1481        </td><td>3059        </td><td>128         </td><td>3413        </td><td> 261        </td><td>679         </td><td>4107        </td><td>267         </td><td>소멸안정지역</td></tr>\n",
       "\t<tr><td>0.9663420   </td><td> 41         </td><td> 69         </td><td> 450        </td><td> 947        </td><td> 43         </td><td>1242        </td><td>  68        </td><td>155         </td><td> 126        </td><td>263         </td><td>소멸위기지역</td></tr>\n",
       "\t<tr><td>0.5003123   </td><td> 52         </td><td> 52         </td><td> 383        </td><td>1045        </td><td>142         </td><td>1192        </td><td>  56        </td><td>119         </td><td>2474        </td><td>159         </td><td>소멸위험지역</td></tr>\n",
       "\t<tr><td>1.6574162   </td><td>390         </td><td>414         </td><td>2449        </td><td>4487        </td><td>142         </td><td>3574        </td><td> 453        </td><td>925         </td><td> 148        </td><td>458         </td><td>소멸안정지역</td></tr>\n",
       "\t<tr><td>1.1271693   </td><td>111         </td><td>131         </td><td> 803        </td><td>1854        </td><td> 65         </td><td>  45        </td><td>2131        </td><td>201         </td><td> 388        </td><td>498         </td><td>소멸위기지역</td></tr>\n",
       "\t<tr><td>0.7186660   </td><td> 36         </td><td> 18         </td><td> 364        </td><td> 699        </td><td>133         </td><td> 849        </td><td>  41        </td><td> 98         </td><td> 160        </td><td> 64         </td><td>소멸위험지역</td></tr>\n",
       "</tbody>\n",
       "</table>\n"
      ],
      "text/latex": [
       "\\begin{tabular}{r|llllllllllll}\n",
       " 소멸비율 & 관광여가오락 & 부동산 & 생활서비스 & 소매 & 숙박 & 음식 & 의료 & 학문교육 & 외국인근로자 & 결혼이민자 & 소멸지역여부\\\\\n",
       "\\hline\n",
       "\t 2.5308015    & 194          & 253          & 1481         & 3059         & 128          & 3413         &  261         & 679          & 4107         & 267          & 소멸안정지역\\\\\n",
       "\t 0.9663420    &  41          &  69          &  450         &  947         &  43          & 1242         &   68         & 155          &  126         & 263          & 소멸위기지역\\\\\n",
       "\t 0.5003123    &  52          &  52          &  383         & 1045         & 142          & 1192         &   56         & 119          & 2474         & 159          & 소멸위험지역\\\\\n",
       "\t 1.6574162    & 390          & 414          & 2449         & 4487         & 142          & 3574         &  453         & 925          &  148         & 458          & 소멸안정지역\\\\\n",
       "\t 1.1271693    & 111          & 131          &  803         & 1854         &  65          &   45         & 2131         & 201          &  388         & 498          & 소멸위기지역\\\\\n",
       "\t 0.7186660    &  36          &  18          &  364         &  699         & 133          &  849         &   41         &  98          &  160         &  64          & 소멸위험지역\\\\\n",
       "\\end{tabular}\n"
      ],
      "text/markdown": [
       "\n",
       "소멸비율 | 관광여가오락 | 부동산 | 생활서비스 | 소매 | 숙박 | 음식 | 의료 | 학문교육 | 외국인근로자 | 결혼이민자 | 소멸지역여부 | \n",
       "|---|---|---|---|---|---|\n",
       "| 2.5308015    | 194          | 253          | 1481         | 3059         | 128          | 3413         |  261         | 679          | 4107         | 267          | 소멸안정지역 | \n",
       "| 0.9663420    |  41          |  69          |  450         |  947         |  43          | 1242         |   68         | 155          |  126         | 263          | 소멸위기지역 | \n",
       "| 0.5003123    |  52          |  52          |  383         | 1045         | 142          | 1192         |   56         | 119          | 2474         | 159          | 소멸위험지역 | \n",
       "| 1.6574162    | 390          | 414          | 2449         | 4487         | 142          | 3574         |  453         | 925          |  148         | 458          | 소멸안정지역 | \n",
       "| 1.1271693    | 111          | 131          |  803         | 1854         |  65          |   45         | 2131         | 201          |  388         | 498          | 소멸위기지역 | \n",
       "| 0.7186660    |  36          |  18          |  364         |  699         | 133          |  849         |   41         |  98          |  160         |  64          | 소멸위험지역 | \n",
       "\n",
       "\n"
      ],
      "text/plain": [
       "  소멸비율  관광여가오락 부동산 생활서비스 소매 숙박 음식 의료 학문교육\n",
       "1 2.5308015 194          253    1481       3059 128  3413  261 679     \n",
       "2 0.9663420  41           69     450        947  43  1242   68 155     \n",
       "3 0.5003123  52           52     383       1045 142  1192   56 119     \n",
       "4 1.6574162 390          414    2449       4487 142  3574  453 925     \n",
       "5 1.1271693 111          131     803       1854  65    45 2131 201     \n",
       "6 0.7186660  36           18     364        699 133   849   41  98     \n",
       "  외국인근로자 결혼이민자 소멸지역여부\n",
       "1 4107         267        소멸안정지역\n",
       "2  126         263        소멸위기지역\n",
       "3 2474         159        소멸위험지역\n",
       "4  148         458        소멸안정지역\n",
       "5  388         498        소멸위기지역\n",
       "6  160          64        소멸위험지역"
      ]
     },
     "metadata": {},
     "output_type": "display_data"
    }
   ],
   "source": [
    "소멸지역여부 <- train_data$소멸지역여부\n",
    "train2 <- cbind(training, 소멸지역여부)\n",
    "head(train2)"
   ]
  },
  {
   "cell_type": "code",
   "execution_count": 262,
   "metadata": {},
   "outputs": [],
   "source": [
    "rf_model2 <- randomForest(소멸지역여부 ~ 관광여가오락+부동산+생활서비스+소매+숙박+음식+의료+학문교육+외국인근로자+결혼이민자, data=train2)"
   ]
  },
  {
   "cell_type": "markdown",
   "metadata": {},
   "source": [
    ">  data_rf는 소멸비율을 종속변수로 잡고 rf_model2는 소멸지역여부를 종속변수로 잡고 랜덤포레스트로 돌렸을 경우 변수 우선순위 5개 변하지 않음을 보여준다"
   ]
  },
  {
   "cell_type": "code",
   "execution_count": 271,
   "metadata": {
    "scrolled": false
   },
   "outputs": [
    {
     "data": {
      "text/html": [
       "<table>\n",
       "<thead><tr><th></th><th scope=col>MeanDecreaseGini</th></tr></thead>\n",
       "<tbody>\n",
       "\t<tr><th scope=row>관광여가오락</th><td>107.59241</td></tr>\n",
       "\t<tr><th scope=row>부동산</th><td>161.40151</td></tr>\n",
       "\t<tr><th scope=row>생활서비스</th><td> 63.74944</td></tr>\n",
       "\t<tr><th scope=row>소매</th><td> 53.57613</td></tr>\n",
       "\t<tr><th scope=row>숙박</th><td> 50.99659</td></tr>\n",
       "\t<tr><th scope=row>음식</th><td> 35.26012</td></tr>\n",
       "\t<tr><th scope=row>의료</th><td> 34.28694</td></tr>\n",
       "\t<tr><th scope=row>학문교육</th><td>174.42567</td></tr>\n",
       "\t<tr><th scope=row>외국인근로자</th><td> 22.36759</td></tr>\n",
       "\t<tr><th scope=row>결혼이민자</th><td> 57.98686</td></tr>\n",
       "</tbody>\n",
       "</table>\n"
      ],
      "text/latex": [
       "\\begin{tabular}{r|l}\n",
       "  & MeanDecreaseGini\\\\\n",
       "\\hline\n",
       "\t관광여가오락 & 107.59241\\\\\n",
       "\t부동산 & 161.40151\\\\\n",
       "\t생활서비스 &  63.74944\\\\\n",
       "\t소매 &  53.57613\\\\\n",
       "\t숙박 &  50.99659\\\\\n",
       "\t음식 &  35.26012\\\\\n",
       "\t의료 &  34.28694\\\\\n",
       "\t학문교육 & 174.42567\\\\\n",
       "\t외국인근로자 &  22.36759\\\\\n",
       "\t결혼이민자 &  57.98686\\\\\n",
       "\\end{tabular}\n"
      ],
      "text/markdown": [
       "\n",
       "| <!--/--> | MeanDecreaseGini | \n",
       "|---|---|---|---|---|---|---|---|---|---|\n",
       "| 관광여가오락 | 107.59241 | \n",
       "| 부동산 | 161.40151 | \n",
       "| 생활서비스 |  63.74944 | \n",
       "| 소매 |  53.57613 | \n",
       "| 숙박 |  50.99659 | \n",
       "| 음식 |  35.26012 | \n",
       "| 의료 |  34.28694 | \n",
       "| 학문교육 | 174.42567 | \n",
       "| 외국인근로자 |  22.36759 | \n",
       "| 결혼이민자 |  57.98686 | \n",
       "\n",
       "\n"
      ],
      "text/plain": [
       "             MeanDecreaseGini\n",
       "관광여가오락 107.59241       \n",
       "부동산       161.40151       \n",
       "생활서비스    63.74944       \n",
       "소매          53.57613       \n",
       "숙박          50.99659       \n",
       "음식          35.26012       \n",
       "의료          34.28694       \n",
       "학문교육     174.42567       \n",
       "외국인근로자  22.36759       \n",
       "결혼이민자    57.98686       "
      ]
     },
     "metadata": {},
     "output_type": "display_data"
    },
    {
     "data": {
      "image/png": "[encoded data removed]",
      "text/plain": [
       "Plot with title \"rf_model2\""
      ]
     },
     "metadata": {},
     "output_type": "display_data"
    },
    {
     "data": {
      "image/png": "[encoded data removed]",
      "text/plain": [
       "Plot with title \"data_rf\""
      ]
     },
     "metadata": {},
     "output_type": "display_data"
    }
   ],
   "source": [
    "importance(rf_model2)\n",
    "varImpPlot(rf_model2)\n",
    "varImpPlot(data_rf)\n"
   ]
  },
  {
   "cell_type": "code",
   "execution_count": 264,
   "metadata": {},
   "outputs": [
    {
     "data": {
      "text/html": [
       "<table>\n",
       "<thead><tr><th scope=col>소멸비율</th><th scope=col>관광여가오락</th><th scope=col>부동산</th><th scope=col>생활서비스</th><th scope=col>소매</th><th scope=col>숙박</th><th scope=col>음식</th><th scope=col>의료</th><th scope=col>학문교육</th><th scope=col>외국인근로자</th><th scope=col>결혼이민자</th><th scope=col>소멸지역여부</th><th scope=col>rf_pred</th></tr></thead>\n",
       "<tbody>\n",
       "\t<tr><td>2.5308015   </td><td>194         </td><td>253         </td><td>1481        </td><td>3059        </td><td>128         </td><td>3413        </td><td> 261        </td><td>679         </td><td>4107        </td><td>267         </td><td>소멸안정지역</td><td>소멸안정지역</td></tr>\n",
       "\t<tr><td>0.9663420   </td><td> 41         </td><td> 69         </td><td> 450        </td><td> 947        </td><td> 43         </td><td>1242        </td><td>  68        </td><td>155         </td><td> 126        </td><td>263         </td><td>소멸위기지역</td><td>소멸위기지역</td></tr>\n",
       "\t<tr><td>0.5003123   </td><td> 52         </td><td> 52         </td><td> 383        </td><td>1045        </td><td>142         </td><td>1192        </td><td>  56        </td><td>119         </td><td>2474        </td><td>159         </td><td>소멸위험지역</td><td>소멸위험지역</td></tr>\n",
       "\t<tr><td>1.6574162   </td><td>390         </td><td>414         </td><td>2449        </td><td>4487        </td><td>142         </td><td>3574        </td><td> 453        </td><td>925         </td><td> 148        </td><td>458         </td><td>소멸안정지역</td><td>소멸안정지역</td></tr>\n",
       "\t<tr><td>1.1271693   </td><td>111         </td><td>131         </td><td> 803        </td><td>1854        </td><td> 65         </td><td>  45        </td><td>2131        </td><td>201         </td><td> 388        </td><td>498         </td><td>소멸위기지역</td><td>소멸위기지역</td></tr>\n",
       "\t<tr><td>0.7186660   </td><td> 36         </td><td> 18         </td><td> 364        </td><td> 699        </td><td>133         </td><td> 849        </td><td>  41        </td><td> 98         </td><td> 160        </td><td> 64         </td><td>소멸위험지역</td><td>소멸위험지역</td></tr>\n",
       "</tbody>\n",
       "</table>\n"
      ],
      "text/latex": [
       "\\begin{tabular}{r|lllllllllllll}\n",
       " 소멸비율 & 관광여가오락 & 부동산 & 생활서비스 & 소매 & 숙박 & 음식 & 의료 & 학문교육 & 외국인근로자 & 결혼이민자 & 소멸지역여부 & rf\\_pred\\\\\n",
       "\\hline\n",
       "\t 2.5308015    & 194          & 253          & 1481         & 3059         & 128          & 3413         &  261         & 679          & 4107         & 267          & 소멸안정지역 & 소멸안정지역\\\\\n",
       "\t 0.9663420    &  41          &  69          &  450         &  947         &  43          & 1242         &   68         & 155          &  126         & 263          & 소멸위기지역 & 소멸위기지역\\\\\n",
       "\t 0.5003123    &  52          &  52          &  383         & 1045         & 142          & 1192         &   56         & 119          & 2474         & 159          & 소멸위험지역 & 소멸위험지역\\\\\n",
       "\t 1.6574162    & 390          & 414          & 2449         & 4487         & 142          & 3574         &  453         & 925          &  148         & 458          & 소멸안정지역 & 소멸안정지역\\\\\n",
       "\t 1.1271693    & 111          & 131          &  803         & 1854         &  65          &   45         & 2131         & 201          &  388         & 498          & 소멸위기지역 & 소멸위기지역\\\\\n",
       "\t 0.7186660    &  36          &  18          &  364         &  699         & 133          &  849         &   41         &  98          &  160         &  64          & 소멸위험지역 & 소멸위험지역\\\\\n",
       "\\end{tabular}\n"
      ],
      "text/markdown": [
       "\n",
       "소멸비율 | 관광여가오락 | 부동산 | 생활서비스 | 소매 | 숙박 | 음식 | 의료 | 학문교육 | 외국인근로자 | 결혼이민자 | 소멸지역여부 | rf_pred | \n",
       "|---|---|---|---|---|---|\n",
       "| 2.5308015    | 194          | 253          | 1481         | 3059         | 128          | 3413         |  261         | 679          | 4107         | 267          | 소멸안정지역 | 소멸안정지역 | \n",
       "| 0.9663420    |  41          |  69          |  450         |  947         |  43          | 1242         |   68         | 155          |  126         | 263          | 소멸위기지역 | 소멸위기지역 | \n",
       "| 0.5003123    |  52          |  52          |  383         | 1045         | 142          | 1192         |   56         | 119          | 2474         | 159          | 소멸위험지역 | 소멸위험지역 | \n",
       "| 1.6574162    | 390          | 414          | 2449         | 4487         | 142          | 3574         |  453         | 925          |  148         | 458          | 소멸안정지역 | 소멸안정지역 | \n",
       "| 1.1271693    | 111          | 131          |  803         | 1854         |  65          |   45         | 2131         | 201          |  388         | 498          | 소멸위기지역 | 소멸위기지역 | \n",
       "| 0.7186660    |  36          |  18          |  364         |  699         | 133          |  849         |   41         |  98          |  160         |  64          | 소멸위험지역 | 소멸위험지역 | \n",
       "\n",
       "\n"
      ],
      "text/plain": [
       "  소멸비율  관광여가오락 부동산 생활서비스 소매 숙박 음식 의료 학문교육\n",
       "1 2.5308015 194          253    1481       3059 128  3413  261 679     \n",
       "2 0.9663420  41           69     450        947  43  1242   68 155     \n",
       "3 0.5003123  52           52     383       1045 142  1192   56 119     \n",
       "4 1.6574162 390          414    2449       4487 142  3574  453 925     \n",
       "5 1.1271693 111          131     803       1854  65    45 2131 201     \n",
       "6 0.7186660  36           18     364        699 133   849   41  98     \n",
       "  외국인근로자 결혼이민자 소멸지역여부 rf_pred     \n",
       "1 4107         267        소멸안정지역 소멸안정지역\n",
       "2  126         263        소멸위기지역 소멸위기지역\n",
       "3 2474         159        소멸위험지역 소멸위험지역\n",
       "4  148         458        소멸안정지역 소멸안정지역\n",
       "5  388         498        소멸위기지역 소멸위기지역\n",
       "6  160          64        소멸위험지역 소멸위험지역"
      ]
     },
     "metadata": {},
     "output_type": "display_data"
    }
   ],
   "source": [
    "#변수들간 정보들\n",
    "library(caret)\n",
    "train2$rf_pred <- predict(rf_model2, training, type=\"response\")\n",
    "head(train2)"
   ]
  },
  {
   "cell_type": "markdown",
   "metadata": {},
   "source": [
    "## 소멸지역여부를 종속변수로 잡았을 경우 예측값은 100%일치함을 보였다."
   ]
  },
  {
   "cell_type": "code",
   "execution_count": 266,
   "metadata": {},
   "outputs": [
    {
     "data": {
      "text/plain": [
       "              \n",
       "               소멸안정지역 소멸위기지역 소멸위험지역\n",
       "  소멸안정지역          529            0            0\n",
       "  소멸위기지역            0          289            0\n",
       "  소멸위험지역            0            0          364"
      ]
     },
     "metadata": {},
     "output_type": "display_data"
    }
   ],
   "source": [
    "table(train2$소멸지역여부, train2$rf_pred)"
   ]
  },
  {
   "cell_type": "markdown",
   "metadata": {},
   "source": [
    "## 랜덤포레스트 오차율 0.11"
   ]
  },
  {
   "cell_type": "code",
   "execution_count": 270,
   "metadata": {},
   "outputs": [
    {
     "data": {
      "text/html": [
       "0.11285131785243"
      ],
      "text/latex": [
       "0.11285131785243"
      ],
      "text/markdown": [
       "0.11285131785243"
      ],
      "text/plain": [
       "[1] 0.1128513"
      ]
     },
     "metadata": {},
     "output_type": "display_data"
    }
   ],
   "source": [
    "rmse(result2, rf_pred)"
   ]
  },
  {
   "cell_type": "markdown",
   "metadata": {},
   "source": [
    "# 7. 독립변수에 포함된 데이터 파악\n",
    "- 랜덤포레스트로 높은 예측값을 보이는 독립변수인 **학문교육, 부동산**에 포함된 중분류 상관도 파악"
   ]
  },
  {
   "cell_type": "code",
   "execution_count": 19,
   "metadata": {},
   "outputs": [],
   "source": [
    "study <- read.csv('C:/Users/DJA/Desktop/중분류소분류/분기별_전체_중분류_학문교육.csv')\n",
    "real_estate <- read.csv('C:/Users/DJA/Desktop/중분류소분류/분기별_전체_중분류_부동산.csv')"
   ]
  },
  {
   "cell_type": "code",
   "execution_count": 20,
   "metadata": {},
   "outputs": [
    {
     "data": {
      "text/html": [
       "<table>\n",
       "<thead><tr><th scope=col>지역</th><th scope=col>소멸비율</th><th scope=col>도서관독서실</th><th scope=col>유아교육</th><th scope=col>학문교육기타</th><th scope=col>학원기타</th><th scope=col>학원보습교습입시</th><th scope=col>학원어학</th><th scope=col>학원예능취미체육</th><th scope=col>학원음악미술무용</th><th scope=col>학원자격국가고시</th><th scope=col>학원창업취업취미</th><th scope=col>학원컴퓨터</th></tr></thead>\n",
       "<tbody>\n",
       "\t<tr><td>서울특별시 종로구   </td><td>1.806803            </td><td>67                  </td><td> 65                 </td><td>22                  </td><td>179                 </td><td> 78                 </td><td> 79                 </td><td>35                  </td><td>124                 </td><td>24                  </td><td>19                  </td><td>13                  </td></tr>\n",
       "\t<tr><td>서울특별시 중구     </td><td>1.868831            </td><td>55                  </td><td> 56                 </td><td>12                  </td><td>100                 </td><td> 53                 </td><td> 31                 </td><td>39                  </td><td> 72                 </td><td> 7                  </td><td>17                  </td><td> 5                  </td></tr>\n",
       "\t<tr><td>서울특별시 용산구   </td><td>2.027495            </td><td>38                  </td><td> 94                 </td><td>19                  </td><td>123                 </td><td> 73                 </td><td> 45                 </td><td>28                  </td><td> 68                 </td><td> 7                  </td><td> 2                  </td><td> 5                  </td></tr>\n",
       "\t<tr><td>서울특별시 성동구   </td><td>2.462853            </td><td>55                  </td><td>129                 </td><td>25                  </td><td>182                 </td><td>148                 </td><td> 69                 </td><td>37                  </td><td>109                 </td><td> 5                  </td><td> 3                  </td><td> 8                  </td></tr>\n",
       "\t<tr><td>서울특별시 동대문구 </td><td>2.062907            </td><td>95                  </td><td>151                 </td><td>20                  </td><td>258                 </td><td>212                 </td><td>106                 </td><td>63                  </td><td>132                 </td><td> 9                  </td><td> 7                  </td><td> 1                  </td></tr>\n",
       "\t<tr><td>서울특별시 중랑구   </td><td>2.255604            </td><td>32                  </td><td>165                 </td><td>28                  </td><td>203                 </td><td>196                 </td><td> 74                 </td><td>34                  </td><td> 93                 </td><td> 3                  </td><td> 6                  </td><td> 7                  </td></tr>\n",
       "</tbody>\n",
       "</table>\n"
      ],
      "text/latex": [
       "\\begin{tabular}{r|lllllllllllll}\n",
       " 지역 & 소멸비율 & 도서관독서실 & 유아교육 & 학문교육기타 & 학원기타 & 학원보습교습입시 & 학원어학 & 학원예능취미체육 & 학원음악미술무용 & 학원자격국가고시 & 학원창업취업취미 & 학원컴퓨터\\\\\n",
       "\\hline\n",
       "\t 서울특별시 종로구    & 1.806803             & 67                   &  65                  & 22                   & 179                  &  78                  &  79                  & 35                   & 124                  & 24                   & 19                   & 13                  \\\\\n",
       "\t 서울특별시 중구      & 1.868831             & 55                   &  56                  & 12                   & 100                  &  53                  &  31                  & 39                   &  72                  &  7                   & 17                   &  5                  \\\\\n",
       "\t 서울특별시 용산구    & 2.027495             & 38                   &  94                  & 19                   & 123                  &  73                  &  45                  & 28                   &  68                  &  7                   &  2                   &  5                  \\\\\n",
       "\t 서울특별시 성동구    & 2.462853             & 55                   & 129                  & 25                   & 182                  & 148                  &  69                  & 37                   & 109                  &  5                   &  3                   &  8                  \\\\\n",
       "\t 서울특별시 동대문구  & 2.062907             & 95                   & 151                  & 20                   & 258                  & 212                  & 106                  & 63                   & 132                  &  9                   &  7                   &  1                  \\\\\n",
       "\t 서울특별시 중랑구    & 2.255604             & 32                   & 165                  & 28                   & 203                  & 196                  &  74                  & 34                   &  93                  &  3                   &  6                   &  7                  \\\\\n",
       "\\end{tabular}\n"
      ],
      "text/markdown": [
       "\n",
       "지역 | 소멸비율 | 도서관독서실 | 유아교육 | 학문교육기타 | 학원기타 | 학원보습교습입시 | 학원어학 | 학원예능취미체육 | 학원음악미술무용 | 학원자격국가고시 | 학원창업취업취미 | 학원컴퓨터 | \n",
       "|---|---|---|---|---|---|\n",
       "| 서울특별시 종로구    | 1.806803             | 67                   |  65                  | 22                   | 179                  |  78                  |  79                  | 35                   | 124                  | 24                   | 19                   | 13                   | \n",
       "| 서울특별시 중구      | 1.868831             | 55                   |  56                  | 12                   | 100                  |  53                  |  31                  | 39                   |  72                  |  7                   | 17                   |  5                   | \n",
       "| 서울특별시 용산구    | 2.027495             | 38                   |  94                  | 19                   | 123                  |  73                  |  45                  | 28                   |  68                  |  7                   |  2                   |  5                   | \n",
       "| 서울특별시 성동구    | 2.462853             | 55                   | 129                  | 25                   | 182                  | 148                  |  69                  | 37                   | 109                  |  5                   |  3                   |  8                   | \n",
       "| 서울특별시 동대문구  | 2.062907             | 95                   | 151                  | 20                   | 258                  | 212                  | 106                  | 63                   | 132                  |  9                   |  7                   |  1                   | \n",
       "| 서울특별시 중랑구    | 2.255604             | 32                   | 165                  | 28                   | 203                  | 196                  |  74                  | 34                   |  93                  |  3                   |  6                   |  7                   | \n",
       "\n",
       "\n"
      ],
      "text/plain": [
       "  지역                 소멸비율 도서관독서실 유아교육 학문교육기타 학원기타\n",
       "1 서울특별시 종로구    1.806803 67            65      22           179     \n",
       "2 서울특별시 중구      1.868831 55            56      12           100     \n",
       "3 서울특별시 용산구    2.027495 38            94      19           123     \n",
       "4 서울특별시 성동구    2.462853 55           129      25           182     \n",
       "5 서울특별시 동대문구  2.062907 95           151      20           258     \n",
       "6 서울특별시 중랑구    2.255604 32           165      28           203     \n",
       "  학원보습교습입시 학원어학 학원예능취미체육 학원음악미술무용 학원자격국가고시\n",
       "1  78               79      35               124              24              \n",
       "2  53               31      39                72               7              \n",
       "3  73               45      28                68               7              \n",
       "4 148               69      37               109               5              \n",
       "5 212              106      63               132               9              \n",
       "6 196               74      34                93               3              \n",
       "  학원창업취업취미 학원컴퓨터\n",
       "1 19               13        \n",
       "2 17                5        \n",
       "3  2                5        \n",
       "4  3                8        \n",
       "5  7                1        \n",
       "6  6                7        "
      ]
     },
     "metadata": {},
     "output_type": "display_data"
    },
    {
     "data": {
      "text/html": [
       "<table>\n",
       "<thead><tr><th scope=col>지역</th><th scope=col>소멸비율</th><th scope=col>부동산관련서비스</th><th scope=col>부동산중개</th><th scope=col>분양</th><th scope=col>평가개발관리</th></tr></thead>\n",
       "<tbody>\n",
       "\t<tr><td>서울특별시 종로구   </td><td>1.806803            </td><td>0                   </td><td>306                 </td><td> 98                 </td><td>20                  </td></tr>\n",
       "\t<tr><td>서울특별시 중구     </td><td>1.868831            </td><td>1                   </td><td>405                 </td><td>137                 </td><td>18                  </td></tr>\n",
       "\t<tr><td>서울특별시 용산구   </td><td>2.027495            </td><td>0                   </td><td>358                 </td><td> 88                 </td><td>11                  </td></tr>\n",
       "\t<tr><td>서울특별시 성동구   </td><td>2.462853            </td><td>0                   </td><td>278                 </td><td> 62                 </td><td>13                  </td></tr>\n",
       "\t<tr><td>서울특별시 동대문구 </td><td>2.062907            </td><td>0                   </td><td>386                 </td><td> 49                 </td><td> 5                  </td></tr>\n",
       "\t<tr><td>서울특별시 중랑구   </td><td>2.255604            </td><td>0                   </td><td>260                 </td><td> 26                 </td><td> 6                  </td></tr>\n",
       "</tbody>\n",
       "</table>\n"
      ],
      "text/latex": [
       "\\begin{tabular}{r|llllll}\n",
       " 지역 & 소멸비율 & 부동산관련서비스 & 부동산중개 & 분양 & 평가개발관리\\\\\n",
       "\\hline\n",
       "\t 서울특별시 종로구    & 1.806803             & 0                    & 306                  &  98                  & 20                  \\\\\n",
       "\t 서울특별시 중구      & 1.868831             & 1                    & 405                  & 137                  & 18                  \\\\\n",
       "\t 서울특별시 용산구    & 2.027495             & 0                    & 358                  &  88                  & 11                  \\\\\n",
       "\t 서울특별시 성동구    & 2.462853             & 0                    & 278                  &  62                  & 13                  \\\\\n",
       "\t 서울특별시 동대문구  & 2.062907             & 0                    & 386                  &  49                  &  5                  \\\\\n",
       "\t 서울특별시 중랑구    & 2.255604             & 0                    & 260                  &  26                  &  6                  \\\\\n",
       "\\end{tabular}\n"
      ],
      "text/markdown": [
       "\n",
       "지역 | 소멸비율 | 부동산관련서비스 | 부동산중개 | 분양 | 평가개발관리 | \n",
       "|---|---|---|---|---|---|\n",
       "| 서울특별시 종로구    | 1.806803             | 0                    | 306                  |  98                  | 20                   | \n",
       "| 서울특별시 중구      | 1.868831             | 1                    | 405                  | 137                  | 18                   | \n",
       "| 서울특별시 용산구    | 2.027495             | 0                    | 358                  |  88                  | 11                   | \n",
       "| 서울특별시 성동구    | 2.462853             | 0                    | 278                  |  62                  | 13                   | \n",
       "| 서울특별시 동대문구  | 2.062907             | 0                    | 386                  |  49                  |  5                   | \n",
       "| 서울특별시 중랑구    | 2.255604             | 0                    | 260                  |  26                  |  6                   | \n",
       "\n",
       "\n"
      ],
      "text/plain": [
       "  지역                 소멸비율 부동산관련서비스 부동산중개 분양 평가개발관리\n",
       "1 서울특별시 종로구    1.806803 0                306         98  20          \n",
       "2 서울특별시 중구      1.868831 1                405        137  18          \n",
       "3 서울특별시 용산구    2.027495 0                358         88  11          \n",
       "4 서울특별시 성동구    2.462853 0                278         62  13          \n",
       "5 서울특별시 동대문구  2.062907 0                386         49   5          \n",
       "6 서울특별시 중랑구    2.255604 0                260         26   6          "
      ]
     },
     "metadata": {},
     "output_type": "display_data"
    }
   ],
   "source": [
    "head(study)\n",
    "head(real_estate)"
   ]
  },
  {
   "cell_type": "code",
   "execution_count": 21,
   "metadata": {},
   "outputs": [
    {
     "data": {
      "text/plain": [
       "\n",
       "Call:\n",
       " randomForest(formula = 소멸비율 ~ ., data = study2) \n",
       "               Type of random forest: regression\n",
       "                     Number of trees: 500\n",
       "No. of variables tried at each split: 3\n",
       "\n",
       "          Mean of squared residuals: 0.04448597\n",
       "                    % Var explained: 94.84"
      ]
     },
     "metadata": {},
     "output_type": "display_data"
    }
   ],
   "source": [
    "library(randomForest)\n",
    "study2 <- study[-1]\n",
    "real_estate2 <- real_estate[-1]\n",
    "\n",
    "study_rf <- randomForest(소멸비율 ~., data=study2)\n",
    "study_rf"
   ]
  },
  {
   "cell_type": "code",
   "execution_count": 22,
   "metadata": {},
   "outputs": [
    {
     "data": {
      "image/png": "[encoded data removed]",
      "text/plain": [
       "Plot with title \"study_rf\""
      ]
     },
     "metadata": {},
     "output_type": "display_data"
    }
   ],
   "source": [
    "plot(study_rf)"
   ]
  },
  {
   "cell_type": "code",
   "execution_count": 23,
   "metadata": {},
   "outputs": [
    {
     "data": {
      "image/png": "[encoded data removed]",
      "text/plain": [
       "Plot with title \"study_rf\""
      ]
     },
     "metadata": {},
     "output_type": "display_data"
    }
   ],
   "source": [
    "varImpPlot(study_rf)"
   ]
  },
  {
   "cell_type": "code",
   "execution_count": 24,
   "metadata": {},
   "outputs": [
    {
     "data": {
      "text/html": [
       "<table>\n",
       "<thead><tr><th></th><th scope=col>IncNodePurity</th></tr></thead>\n",
       "<tbody>\n",
       "\t<tr><th scope=row>도서관독서실</th><td>136.25313</td></tr>\n",
       "\t<tr><th scope=row>유아교육</th><td>318.66142</td></tr>\n",
       "\t<tr><th scope=row>학문교육기타</th><td> 38.77094</td></tr>\n",
       "\t<tr><th scope=row>학원기타</th><td>313.67192</td></tr>\n",
       "\t<tr><th scope=row>학원보습교습입시</th><td>201.82990</td></tr>\n",
       "\t<tr><th scope=row>학원어학</th><td>352.92611</td></tr>\n",
       "\t<tr><th scope=row>학원예능취미체육</th><td> 82.87910</td></tr>\n",
       "\t<tr><th scope=row>학원음악미술무용</th><td>127.66080</td></tr>\n",
       "\t<tr><th scope=row>학원자격국가고시</th><td> 40.19352</td></tr>\n",
       "\t<tr><th scope=row>학원창업취업취미</th><td> 38.14084</td></tr>\n",
       "\t<tr><th scope=row>학원컴퓨터</th><td> 36.39297</td></tr>\n",
       "</tbody>\n",
       "</table>\n"
      ],
      "text/latex": [
       "\\begin{tabular}{r|l}\n",
       "  & IncNodePurity\\\\\n",
       "\\hline\n",
       "\t도서관독서실 & 136.25313\\\\\n",
       "\t유아교육 & 318.66142\\\\\n",
       "\t학문교육기타 &  38.77094\\\\\n",
       "\t학원기타 & 313.67192\\\\\n",
       "\t학원보습교습입시 & 201.82990\\\\\n",
       "\t학원어학 & 352.92611\\\\\n",
       "\t학원예능취미체육 &  82.87910\\\\\n",
       "\t학원음악미술무용 & 127.66080\\\\\n",
       "\t학원자격국가고시 &  40.19352\\\\\n",
       "\t학원창업취업취미 &  38.14084\\\\\n",
       "\t학원컴퓨터 &  36.39297\\\\\n",
       "\\end{tabular}\n"
      ],
      "text/markdown": [
       "\n",
       "| <!--/--> | IncNodePurity | \n",
       "|---|---|---|---|---|---|---|---|---|---|---|\n",
       "| 도서관독서실 | 136.25313 | \n",
       "| 유아교육 | 318.66142 | \n",
       "| 학문교육기타 |  38.77094 | \n",
       "| 학원기타 | 313.67192 | \n",
       "| 학원보습교습입시 | 201.82990 | \n",
       "| 학원어학 | 352.92611 | \n",
       "| 학원예능취미체육 |  82.87910 | \n",
       "| 학원음악미술무용 | 127.66080 | \n",
       "| 학원자격국가고시 |  40.19352 | \n",
       "| 학원창업취업취미 |  38.14084 | \n",
       "| 학원컴퓨터 |  36.39297 | \n",
       "\n",
       "\n"
      ],
      "text/plain": [
       "                 IncNodePurity\n",
       "도서관독서실     136.25313    \n",
       "유아교육         318.66142    \n",
       "학문교육기타      38.77094    \n",
       "학원기타         313.67192    \n",
       "학원보습교습입시 201.82990    \n",
       "학원어학         352.92611    \n",
       "학원예능취미체육  82.87910    \n",
       "학원음악미술무용 127.66080    \n",
       "학원자격국가고시  40.19352    \n",
       "학원창업취업취미  38.14084    \n",
       "학원컴퓨터        36.39297    "
      ]
     },
     "metadata": {},
     "output_type": "display_data"
    }
   ],
   "source": [
    "importance(study_rf)"
   ]
  },
  {
   "cell_type": "code",
   "execution_count": 25,
   "metadata": {},
   "outputs": [
    {
     "data": {
      "text/plain": [
       "\n",
       "Call:\n",
       " randomForest(formula = 소멸비율 ~ ., data = real_estate2) \n",
       "               Type of random forest: regression\n",
       "                     Number of trees: 500\n",
       "No. of variables tried at each split: 1\n",
       "\n",
       "          Mean of squared residuals: 0.2226879\n",
       "                    % Var explained: 74.18"
      ]
     },
     "metadata": {},
     "output_type": "display_data"
    }
   ],
   "source": [
    "real_estate_rf <- randomForest(소멸비율 ~., data=real_estate2)\n",
    "real_estate_rf"
   ]
  },
  {
   "cell_type": "code",
   "execution_count": 26,
   "metadata": {},
   "outputs": [
    {
     "data": {
      "image/png": "[encoded data removed]",
      "text/plain": [
       "Plot with title \"real_estate_rf\""
      ]
     },
     "metadata": {},
     "output_type": "display_data"
    }
   ],
   "source": [
    "plot(real_estate_rf)"
   ]
  },
  {
   "cell_type": "code",
   "execution_count": 27,
   "metadata": {},
   "outputs": [
    {
     "data": {
      "image/png": "[encoded data removed]",
      "text/plain": [
       "Plot with title \"real_estate_rf\""
      ]
     },
     "metadata": {},
     "output_type": "display_data"
    }
   ],
   "source": [
    "varImpPlot(real_estate_rf)"
   ]
  },
  {
   "cell_type": "code",
   "execution_count": 28,
   "metadata": {},
   "outputs": [
    {
     "data": {
      "text/html": [
       "<table>\n",
       "<thead><tr><th></th><th scope=col>IncNodePurity</th></tr></thead>\n",
       "<tbody>\n",
       "\t<tr><th scope=row>부동산관련서비스</th><td> 31.00921</td></tr>\n",
       "\t<tr><th scope=row>부동산중개</th><td>488.56854</td></tr>\n",
       "\t<tr><th scope=row>분양</th><td>366.14896</td></tr>\n",
       "\t<tr><th scope=row>평가개발관리</th><td>264.78752</td></tr>\n",
       "</tbody>\n",
       "</table>\n"
      ],
      "text/latex": [
       "\\begin{tabular}{r|l}\n",
       "  & IncNodePurity\\\\\n",
       "\\hline\n",
       "\t부동산관련서비스 &  31.00921\\\\\n",
       "\t부동산중개 & 488.56854\\\\\n",
       "\t분양 & 366.14896\\\\\n",
       "\t평가개발관리 & 264.78752\\\\\n",
       "\\end{tabular}\n"
      ],
      "text/markdown": [
       "\n",
       "| <!--/--> | IncNodePurity | \n",
       "|---|---|---|---|\n",
       "| 부동산관련서비스 |  31.00921 | \n",
       "| 부동산중개 | 488.56854 | \n",
       "| 분양 | 366.14896 | \n",
       "| 평가개발관리 | 264.78752 | \n",
       "\n",
       "\n"
      ],
      "text/plain": [
       "                 IncNodePurity\n",
       "부동산관련서비스  31.00921    \n",
       "부동산중개       488.56854    \n",
       "분양             366.14896    \n",
       "평가개발관리     264.78752    "
      ]
     },
     "metadata": {},
     "output_type": "display_data"
    }
   ],
   "source": [
    "importance(real_estate_rf)"
   ]
  },
  {
   "cell_type": "markdown",
   "metadata": {},
   "source": [
    "# 8. K-평균 기법을 이용한 소멸위험지역 군집화\n",
    "- 군집화 기법 : K-means clustering method (비게층적 궁집분석)\n",
    "- K-means 알고리즘은 독립변수의 유사성에 따라 샘플과 평균간의 유클리디안 거리 측정 방식으로 여러 그룹으로 나누는 통계적 기법\n",
    "- 랜덤포레스트로 높은 예측값을 보이는 독립변수인 **학문교육, 부동산**을 가지고 소멸지역을 클러스터링"
   ]
  },
  {
   "cell_type": "code",
   "execution_count": 2,
   "metadata": {},
   "outputs": [
    {
     "data": {
      "text/html": [
       "<table>\n",
       "<thead><tr><th scope=col>지역</th><th scope=col>소멸비율</th><th scope=col>부동산</th><th scope=col>학문.교육</th><th scope=col>결과값</th></tr></thead>\n",
       "<tbody>\n",
       "\t<tr><td>경상북도 의성군 </td><td>0.3139632       </td><td>13              </td><td>61              </td><td>소멸위험지역    </td></tr>\n",
       "\t<tr><td>경상북도 의성군 </td><td>0.3156284       </td><td>14              </td><td>66              </td><td>소멸위험지역    </td></tr>\n",
       "\t<tr><td>경상북도 의성군 </td><td>0.3180173       </td><td>15              </td><td>62              </td><td>소멸위험지역    </td></tr>\n",
       "\t<tr><td>경상북도 의성군 </td><td>0.3230777       </td><td>15              </td><td>62              </td><td>소멸위험지역    </td></tr>\n",
       "\t<tr><td>전라남도 고흥군 </td><td>0.3326796       </td><td>17              </td><td>96              </td><td>소멸위험지역    </td></tr>\n",
       "\t<tr><td>전라남도 고흥군 </td><td>0.3329543       </td><td>17              </td><td>96              </td><td>소멸위험지역    </td></tr>\n",
       "</tbody>\n",
       "</table>\n"
      ],
      "text/latex": [
       "\\begin{tabular}{r|lllll}\n",
       " 지역 & 소멸비율 & 부동산 & 학문.교육 & 결과값\\\\\n",
       "\\hline\n",
       "\t 경상북도 의성군  & 0.3139632        & 13               & 61               & 소멸위험지역    \\\\\n",
       "\t 경상북도 의성군  & 0.3156284        & 14               & 66               & 소멸위험지역    \\\\\n",
       "\t 경상북도 의성군  & 0.3180173        & 15               & 62               & 소멸위험지역    \\\\\n",
       "\t 경상북도 의성군  & 0.3230777        & 15               & 62               & 소멸위험지역    \\\\\n",
       "\t 전라남도 고흥군  & 0.3326796        & 17               & 96               & 소멸위험지역    \\\\\n",
       "\t 전라남도 고흥군  & 0.3329543        & 17               & 96               & 소멸위험지역    \\\\\n",
       "\\end{tabular}\n"
      ],
      "text/markdown": [
       "\n",
       "지역 | 소멸비율 | 부동산 | 학문.교육 | 결과값 | \n",
       "|---|---|---|---|---|---|\n",
       "| 경상북도 의성군  | 0.3139632        | 13               | 61               | 소멸위험지역     | \n",
       "| 경상북도 의성군  | 0.3156284        | 14               | 66               | 소멸위험지역     | \n",
       "| 경상북도 의성군  | 0.3180173        | 15               | 62               | 소멸위험지역     | \n",
       "| 경상북도 의성군  | 0.3230777        | 15               | 62               | 소멸위험지역     | \n",
       "| 전라남도 고흥군  | 0.3326796        | 17               | 96               | 소멸위험지역     | \n",
       "| 전라남도 고흥군  | 0.3329543        | 17               | 96               | 소멸위험지역     | \n",
       "\n",
       "\n"
      ],
      "text/plain": [
       "  지역             소멸비율  부동산 학문.교육 결과값      \n",
       "1 경상북도 의성군  0.3139632 13     61        소멸위험지역\n",
       "2 경상북도 의성군  0.3156284 14     66        소멸위험지역\n",
       "3 경상북도 의성군  0.3180173 15     62        소멸위험지역\n",
       "4 경상북도 의성군  0.3230777 15     62        소멸위험지역\n",
       "5 전라남도 고흥군  0.3326796 17     96        소멸위험지역\n",
       "6 전라남도 고흥군  0.3329543 17     96        소멸위험지역"
      ]
     },
     "metadata": {},
     "output_type": "display_data"
    }
   ],
   "source": [
    "clust <- read.csv('C:/Users/DJA/Desktop/DataScience/소멸지역_군집분석.csv')\n",
    "head(clust)"
   ]
  },
  {
   "cell_type": "markdown",
   "metadata": {},
   "source": [
    "## 8-1) 최적의 군집 수 찾기\n",
    "- elbow line의 기울기가 가장 큰 그래프가 최적 군집수로 결정"
   ]
  },
  {
   "cell_type": "code",
   "execution_count": 3,
   "metadata": {},
   "outputs": [
    {
     "data": {
      "image/png": "[encoded data removed]",
      "text/plain": [
       "plot without title"
      ]
     },
     "metadata": {},
     "output_type": "display_data"
    }
   ],
   "source": [
    "wss <- 0; \n",
    "set.seed(1)\n",
    "for(i in 1:15) wss[i] <- kmeans(subset(clust, select=-c(지역, 결과값, 소멸비율)), centers=i)$tot.withinss\n",
    "plot(1:15, wss, type=\"b\", xlab=\"# of clusters\", ylab=\"Within group sum of squares\")"
   ]
  },
  {
   "cell_type": "code",
   "execution_count": 4,
   "metadata": {},
   "outputs": [],
   "source": [
    "km1 <- kmeans(subset(clust, select=-c(지역, 결과값, 소멸비율)), centers=3)"
   ]
  },
  {
   "cell_type": "code",
   "execution_count": 5,
   "metadata": {},
   "outputs": [
    {
     "data": {
      "text/html": [
       "<table>\n",
       "<thead><tr><th></th><th scope=col>부동산</th><th scope=col>학문.교육</th></tr></thead>\n",
       "<tbody>\n",
       "\t<tr><th scope=row>1</th><td>54.79032 </td><td>307.30645</td></tr>\n",
       "\t<tr><th scope=row>2</th><td>15.46281 </td><td> 49.95592</td></tr>\n",
       "\t<tr><th scope=row>3</th><td>47.82902 </td><td>121.06736</td></tr>\n",
       "</tbody>\n",
       "</table>\n"
      ],
      "text/latex": [
       "\\begin{tabular}{r|ll}\n",
       "  & 부동산 & 학문.교육\\\\\n",
       "\\hline\n",
       "\t1 & 54.79032  & 307.30645\\\\\n",
       "\t2 & 15.46281  &  49.95592\\\\\n",
       "\t3 & 47.82902  & 121.06736\\\\\n",
       "\\end{tabular}\n"
      ],
      "text/markdown": [
       "\n",
       "| <!--/--> | 부동산 | 학문.교육 | \n",
       "|---|---|---|\n",
       "| 1 | 54.79032  | 307.30645 | \n",
       "| 2 | 15.46281  |  49.95592 | \n",
       "| 3 | 47.82902  | 121.06736 | \n",
       "\n",
       "\n"
      ],
      "text/plain": [
       "  부동산   학문.교육\n",
       "1 54.79032 307.30645\n",
       "2 15.46281  49.95592\n",
       "3 47.82902 121.06736"
      ]
     },
     "metadata": {},
     "output_type": "display_data"
    },
    {
     "data": {
      "text/html": [
       "<ol class=list-inline>\n",
       "\t<li>402809.451612903</li>\n",
       "\t<li>168735.542699725</li>\n",
       "\t<li>371331.481865285</li>\n",
       "</ol>\n"
      ],
      "text/latex": [
       "\\begin{enumerate*}\n",
       "\\item 402809.451612903\n",
       "\\item 168735.542699725\n",
       "\\item 371331.481865285\n",
       "\\end{enumerate*}\n"
      ],
      "text/markdown": [
       "1. 402809.451612903\n",
       "2. 168735.542699725\n",
       "3. 371331.481865285\n",
       "\n",
       "\n"
      ],
      "text/plain": [
       "[1] 402809.5 168735.5 371331.5"
      ]
     },
     "metadata": {},
     "output_type": "display_data"
    }
   ],
   "source": [
    "head(km1$centers)\n",
    "head(km1$withinss)\n",
    "#head(km1$betweenss)"
   ]
  },
  {
   "cell_type": "code",
   "execution_count": 6,
   "metadata": {},
   "outputs": [
    {
     "data": {
      "text/html": [
       "<table>\n",
       "<thead><tr><th scope=col>지역</th><th scope=col>소멸비율</th><th scope=col>부동산</th><th scope=col>학문.교육</th><th scope=col>결과값</th><th scope=col>cluster1</th></tr></thead>\n",
       "<tbody>\n",
       "\t<tr><td>경상북도 의성군 </td><td>0.3139632       </td><td>13              </td><td>61              </td><td>소멸위험지역    </td><td>2               </td></tr>\n",
       "\t<tr><td>경상북도 의성군 </td><td>0.3156284       </td><td>14              </td><td>66              </td><td>소멸위험지역    </td><td>2               </td></tr>\n",
       "\t<tr><td>경상북도 의성군 </td><td>0.3180173       </td><td>15              </td><td>62              </td><td>소멸위험지역    </td><td>2               </td></tr>\n",
       "\t<tr><td>경상북도 의성군 </td><td>0.3230777       </td><td>15              </td><td>62              </td><td>소멸위험지역    </td><td>2               </td></tr>\n",
       "\t<tr><td>전라남도 고흥군 </td><td>0.3326796       </td><td>17              </td><td>96              </td><td>소멸위험지역    </td><td>3               </td></tr>\n",
       "\t<tr><td>전라남도 고흥군 </td><td>0.3329543       </td><td>17              </td><td>96              </td><td>소멸위험지역    </td><td>3               </td></tr>\n",
       "</tbody>\n",
       "</table>\n"
      ],
      "text/latex": [
       "\\begin{tabular}{r|llllll}\n",
       " 지역 & 소멸비율 & 부동산 & 학문.교육 & 결과값 & cluster1\\\\\n",
       "\\hline\n",
       "\t 경상북도 의성군  & 0.3139632        & 13               & 61               & 소멸위험지역     & 2               \\\\\n",
       "\t 경상북도 의성군  & 0.3156284        & 14               & 66               & 소멸위험지역     & 2               \\\\\n",
       "\t 경상북도 의성군  & 0.3180173        & 15               & 62               & 소멸위험지역     & 2               \\\\\n",
       "\t 경상북도 의성군  & 0.3230777        & 15               & 62               & 소멸위험지역     & 2               \\\\\n",
       "\t 전라남도 고흥군  & 0.3326796        & 17               & 96               & 소멸위험지역     & 3               \\\\\n",
       "\t 전라남도 고흥군  & 0.3329543        & 17               & 96               & 소멸위험지역     & 3               \\\\\n",
       "\\end{tabular}\n"
      ],
      "text/markdown": [
       "\n",
       "지역 | 소멸비율 | 부동산 | 학문.교육 | 결과값 | cluster1 | \n",
       "|---|---|---|---|---|---|\n",
       "| 경상북도 의성군  | 0.3139632        | 13               | 61               | 소멸위험지역     | 2                | \n",
       "| 경상북도 의성군  | 0.3156284        | 14               | 66               | 소멸위험지역     | 2                | \n",
       "| 경상북도 의성군  | 0.3180173        | 15               | 62               | 소멸위험지역     | 2                | \n",
       "| 경상북도 의성군  | 0.3230777        | 15               | 62               | 소멸위험지역     | 2                | \n",
       "| 전라남도 고흥군  | 0.3326796        | 17               | 96               | 소멸위험지역     | 3                | \n",
       "| 전라남도 고흥군  | 0.3329543        | 17               | 96               | 소멸위험지역     | 3                | \n",
       "\n",
       "\n"
      ],
      "text/plain": [
       "  지역             소멸비율  부동산 학문.교육 결과값       cluster1\n",
       "1 경상북도 의성군  0.3139632 13     61        소멸위험지역 2       \n",
       "2 경상북도 의성군  0.3156284 14     66        소멸위험지역 2       \n",
       "3 경상북도 의성군  0.3180173 15     62        소멸위험지역 2       \n",
       "4 경상북도 의성군  0.3230777 15     62        소멸위험지역 2       \n",
       "5 전라남도 고흥군  0.3326796 17     96        소멸위험지역 3       \n",
       "6 전라남도 고흥군  0.3329543 17     96        소멸위험지역 3       "
      ]
     },
     "metadata": {},
     "output_type": "display_data"
    }
   ],
   "source": [
    "clust$cluster1 <- as.factor(km1$cluster)\n",
    "head(clust)"
   ]
  },
  {
   "cell_type": "code",
   "execution_count": 7,
   "metadata": {},
   "outputs": [
    {
     "data": {
      "image/png": "[encoded data removed]",
      "text/plain": [
       "Plot with title \"cluster 3 : All variables\""
      ]
     },
     "metadata": {},
     "output_type": "display_data"
    }
   ],
   "source": [
    "library(cluster)\n",
    "library(ggplot2)\n",
    "library(gridExtra)\n",
    "library(scales)\n",
    "\n",
    "clusplot(subset(clust, select=-c(지역, 결과값, 소멸비율)), km1$cluster, main=\"cluster 3 : All variables\")"
   ]
  },
  {
   "cell_type": "code",
   "execution_count": 8,
   "metadata": {},
   "outputs": [
    {
     "data": {},
     "metadata": {},
     "output_type": "display_data"
    },
    {
     "data": {
      "image/png": "[encoded data removed]",
      "text/plain": [
       "plot without title"
      ]
     },
     "metadata": {},
     "output_type": "display_data"
    }
   ],
   "source": [
    "qplot(부동산, 학문.교육, colour=cluster1, data=clust)"
   ]
  },
  {
   "cell_type": "code",
   "execution_count": 9,
   "metadata": {},
   "outputs": [
    {
     "data": {},
     "metadata": {},
     "output_type": "display_data"
    },
    {
     "data": {
      "image/png": "[encoded data removed]",
      "text/plain": [
       "plot without title"
      ]
     },
     "metadata": {},
     "output_type": "display_data"
    }
   ],
   "source": [
    "p1 <- qplot(학문.교육, fill=cluster1, alpha=.5, data=clust, geom=\"density\") + scale_alpha(guide=\"none\")\n",
    "p1"
   ]
  },
  {
   "cell_type": "code",
   "execution_count": 10,
   "metadata": {},
   "outputs": [
    {
     "data": {},
     "metadata": {},
     "output_type": "display_data"
    },
    {
     "data": {
      "image/png": "[encoded data removed]",
      "text/plain": [
       "plot without title"
      ]
     },
     "metadata": {},
     "output_type": "display_data"
    }
   ],
   "source": [
    "p1 <- qplot(부동산, fill=cluster1, alpha=.5, data=clust, geom=\"density\") + scale_alpha(guide=\"none\")\n",
    "p1"
   ]
  },
  {
   "cell_type": "code",
   "execution_count": 20,
   "metadata": {},
   "outputs": [],
   "source": [
    "write.csv(clust, 'C:/Users/DJA/Desktop/DataScience/clust.csv')"
   ]
  },
  {
   "cell_type": "code",
   "execution_count": 21,
   "metadata": {},
   "outputs": [
    {
     "data": {
      "text/html": [
       "<table>\n",
       "<thead><tr><th scope=col>지역</th><th scope=col>소멸비율</th><th scope=col>부동산</th><th scope=col>학문.교육</th><th scope=col>결과값</th><th scope=col>cluster1</th></tr></thead>\n",
       "<tbody>\n",
       "\t<tr><td>경상북도 의성군 </td><td>0.3139632       </td><td>13              </td><td> 61             </td><td>소멸위험지역    </td><td>2               </td></tr>\n",
       "\t<tr><td>경상북도 의성군 </td><td>0.3156284       </td><td>14              </td><td> 66             </td><td>소멸위험지역    </td><td>2               </td></tr>\n",
       "\t<tr><td>경상북도 의성군 </td><td>0.3180173       </td><td>15              </td><td> 62             </td><td>소멸위험지역    </td><td>2               </td></tr>\n",
       "\t<tr><td>경상북도 의성군 </td><td>0.3230777       </td><td>15              </td><td> 62             </td><td>소멸위험지역    </td><td>2               </td></tr>\n",
       "\t<tr><td>전라남도 고흥군 </td><td>0.3326796       </td><td>17              </td><td> 96             </td><td>소멸위험지역    </td><td>3               </td></tr>\n",
       "\t<tr><td>전라남도 고흥군 </td><td>0.3329543       </td><td>17              </td><td> 96             </td><td>소멸위험지역    </td><td>3               </td></tr>\n",
       "\t<tr><td>경상북도 의성군 </td><td>0.3343386       </td><td>15              </td><td> 61             </td><td>소멸위험지역    </td><td>2               </td></tr>\n",
       "\t<tr><td>전라남도 고흥군 </td><td>0.3354076       </td><td>14              </td><td> 89             </td><td>소멸위험지역    </td><td>2               </td></tr>\n",
       "\t<tr><td>경상북도 의성군 </td><td>0.3361956       </td><td>14              </td><td> 58             </td><td>소멸위험지역    </td><td>2               </td></tr>\n",
       "\t<tr><td>전라남도 고흥군 </td><td>0.3388926       </td><td>14              </td><td> 89             </td><td>소멸위험지역    </td><td>2               </td></tr>\n",
       "\t<tr><td>경상북도 의성군 </td><td>0.3390656       </td><td>14              </td><td> 58             </td><td>소멸위험지역    </td><td>2               </td></tr>\n",
       "\t<tr><td>경상북도 의성군 </td><td>0.3394598       </td><td>14              </td><td> 58             </td><td>소멸위험지역    </td><td>2               </td></tr>\n",
       "\t<tr><td>경상북도 의성군 </td><td>0.3437643       </td><td> 6              </td><td> 52             </td><td>소멸위험지역    </td><td>2               </td></tr>\n",
       "\t<tr><td>경상북도 군위군 </td><td>0.3445397       </td><td>14              </td><td> 17             </td><td>소멸위험지역    </td><td>2               </td></tr>\n",
       "\t<tr><td>경상북도 군위군 </td><td>0.3447966       </td><td>12              </td><td> 15             </td><td>소멸위험지역    </td><td>2               </td></tr>\n",
       "\t<tr><td>전라남도 고흥군 </td><td>0.3459234       </td><td>14              </td><td> 86             </td><td>소멸위험지역    </td><td>2               </td></tr>\n",
       "\t<tr><td>경상남도 합천군 </td><td>0.3474908       </td><td>13              </td><td> 79             </td><td>소멸위험지역    </td><td>2               </td></tr>\n",
       "\t<tr><td>경상북도 군위군 </td><td>0.3481020       </td><td>14              </td><td> 23             </td><td>소멸위험지역    </td><td>2               </td></tr>\n",
       "\t<tr><td>경상남도 합천군 </td><td>0.3486807       </td><td>12              </td><td> 75             </td><td>소멸위험지역    </td><td>2               </td></tr>\n",
       "\t<tr><td>전라남도 고흥군 </td><td>0.3505847       </td><td>22              </td><td>103             </td><td>소멸위험지역    </td><td>3               </td></tr>\n",
       "\t<tr><td>경상남도 합천군 </td><td>0.3516944       </td><td> 8              </td><td> 68             </td><td>소멸위험지역    </td><td>2               </td></tr>\n",
       "\t<tr><td>경상북도 군위군 </td><td>0.3538694       </td><td>14              </td><td> 24             </td><td>소멸위험지역    </td><td>2               </td></tr>\n",
       "\t<tr><td>전라남도 고흥군 </td><td>0.3539192       </td><td>25              </td><td>120             </td><td>소멸위험지역    </td><td>3               </td></tr>\n",
       "\t<tr><td>경상북도 군위군 </td><td>0.3559399       </td><td>14              </td><td> 23             </td><td>소멸위험지역    </td><td>2               </td></tr>\n",
       "\t<tr><td>경상북도 군위군 </td><td>0.3567190       </td><td>14              </td><td> 24             </td><td>소멸위험지역    </td><td>2               </td></tr>\n",
       "\t<tr><td>경상남도 합천군 </td><td>0.3568455       </td><td>12              </td><td> 75             </td><td>소멸위험지역    </td><td>2               </td></tr>\n",
       "\t<tr><td>전라남도 고흥군 </td><td>0.3575033       </td><td>25              </td><td>121             </td><td>소멸위험지역    </td><td>3               </td></tr>\n",
       "\t<tr><td>전라남도 고흥군 </td><td>0.3607681       </td><td>18              </td><td>112             </td><td>소멸위험지역    </td><td>3               </td></tr>\n",
       "\t<tr><td>경상북도 군위군 </td><td>0.3612457       </td><td>14              </td><td> 23             </td><td>소멸위험지역    </td><td>2               </td></tr>\n",
       "\t<tr><td>경상남도 남해군 </td><td>0.3626950       </td><td>30              </td><td> 65             </td><td>소멸위험지역    </td><td>2               </td></tr>\n",
       "\t<tr><td>...</td><td>...</td><td>...</td><td>...</td><td>...</td><td>...</td></tr>\n",
       "\t<tr><td>강원도 정선군     </td><td>0.7580808         </td><td>28                </td><td> 82               </td><td>소멸위험지역      </td><td>2                 </td></tr>\n",
       "\t<tr><td>전라북도 정읍시   </td><td>0.7587822         </td><td>46                </td><td>446               </td><td>소멸위험지역      </td><td>1                 </td></tr>\n",
       "\t<tr><td>경상북도 울릉군   </td><td>0.7590200         </td><td> 0                </td><td>  6               </td><td>소멸위험지역      </td><td>2                 </td></tr>\n",
       "\t<tr><td>전라북도 남원시   </td><td>0.7598202         </td><td>30                </td><td>262               </td><td>소멸위험지역      </td><td>1                 </td></tr>\n",
       "\t<tr><td>전라북도 정읍시   </td><td>0.7600100         </td><td>53                </td><td>480               </td><td>소멸위험지역      </td><td>1                 </td></tr>\n",
       "\t<tr><td>강원도 평창군     </td><td>0.7615020         </td><td>84                </td><td> 67               </td><td>소멸위험지역      </td><td>3                 </td></tr>\n",
       "\t<tr><td>인천광역시 옹진군 </td><td>0.7615503         </td><td>17                </td><td> 18               </td><td>소멸위험지역      </td><td>2                 </td></tr>\n",
       "\t<tr><td>경상남도 밀양시   </td><td>0.7617209         </td><td>77                </td><td>318               </td><td>소멸위험지역      </td><td>1                 </td></tr>\n",
       "\t<tr><td>경상남도 밀양시   </td><td>0.7631370         </td><td>77                </td><td>319               </td><td>소멸위험지역      </td><td>1                 </td></tr>\n",
       "\t<tr><td>경상북도 영주시   </td><td>0.7653777         </td><td>70                </td><td>327               </td><td>소멸위험지역      </td><td>1                 </td></tr>\n",
       "\t<tr><td>인천광역시 옹진군 </td><td>0.7656941         </td><td>22                </td><td> 18               </td><td>소멸위험지역      </td><td>2                 </td></tr>\n",
       "\t<tr><td>인천광역시 옹진군 </td><td>0.7684093         </td><td>22                </td><td> 16               </td><td>소멸위험지역      </td><td>2                 </td></tr>\n",
       "\t<tr><td>전라남도 영암군   </td><td>0.7688227         </td><td>14                </td><td>100               </td><td>소멸위험지역      </td><td>3                 </td></tr>\n",
       "\t<tr><td>인천광역시 옹진군 </td><td>0.7688586         </td><td>22                </td><td> 17               </td><td>소멸위험지역      </td><td>2                 </td></tr>\n",
       "\t<tr><td>경상남도 밀양시   </td><td>0.7703982         </td><td>78                </td><td>323               </td><td>소멸위험지역      </td><td>1                 </td></tr>\n",
       "\t<tr><td>전라북도 정읍시   </td><td>0.7710421         </td><td>37                </td><td>348               </td><td>소멸위험지역      </td><td>1                 </td></tr>\n",
       "\t<tr><td>강원도 홍천군     </td><td>0.7770300         </td><td>96                </td><td>190               </td><td>소멸위험지역      </td><td>3                 </td></tr>\n",
       "\t<tr><td>인천광역시 옹진군 </td><td>0.7774547         </td><td>19                </td><td> 16               </td><td>소멸위험지역      </td><td>2                 </td></tr>\n",
       "\t<tr><td>전라남도 화순군   </td><td>0.7831920         </td><td>39                </td><td>234               </td><td>소멸위험지역      </td><td>1                 </td></tr>\n",
       "\t<tr><td>경상북도 영주시   </td><td>0.7836595         </td><td>68                </td><td>332               </td><td>소멸위험지역      </td><td>1                 </td></tr>\n",
       "\t<tr><td>강원도 홍천군     </td><td>0.7842590         </td><td>97                </td><td>187               </td><td>소멸위험지역      </td><td>3                 </td></tr>\n",
       "\t<tr><td>경상남도 밀양시   </td><td>0.7852879         </td><td>46                </td><td>274               </td><td>소멸위험지역      </td><td>1                 </td></tr>\n",
       "\t<tr><td>강원도 정선군     </td><td>0.7856177         </td><td>21                </td><td> 74               </td><td>소멸위험지역      </td><td>2                 </td></tr>\n",
       "\t<tr><td>전라남도 화순군   </td><td>0.7858226         </td><td>39                </td><td>234               </td><td>소멸위험지역      </td><td>1                 </td></tr>\n",
       "\t<tr><td>전라남도 영암군   </td><td>0.7878654         </td><td>25                </td><td>112               </td><td>소멸위험지역      </td><td>3                 </td></tr>\n",
       "\t<tr><td>경상북도 영주시   </td><td>0.7902295         </td><td>62                </td><td>357               </td><td>소멸위험지역      </td><td>1                 </td></tr>\n",
       "\t<tr><td>전라남도 화순군   </td><td>0.7924889         </td><td>47                </td><td>248               </td><td>소멸위험지역      </td><td>1                 </td></tr>\n",
       "\t<tr><td>충청남도 보령시   </td><td>0.7930743         </td><td>93                </td><td>320               </td><td>소멸위험지역      </td><td>1                 </td></tr>\n",
       "\t<tr><td>전라남도 영암군   </td><td>0.7947714         </td><td>25                </td><td>117               </td><td>소멸위험지역      </td><td>3                 </td></tr>\n",
       "\t<tr><td>전라남도 화순군   </td><td>0.7991300         </td><td>48                </td><td>254               </td><td>소멸위험지역      </td><td>1                 </td></tr>\n",
       "</tbody>\n",
       "</table>\n"
      ],
      "text/latex": [
       "\\begin{tabular}{r|llllll}\n",
       " 지역 & 소멸비율 & 부동산 & 학문.교육 & 결과값 & cluster1\\\\\n",
       "\\hline\n",
       "\t 경상북도 의성군  & 0.3139632        & 13               &  61              & 소멸위험지역     & 2               \\\\\n",
       "\t 경상북도 의성군  & 0.3156284        & 14               &  66              & 소멸위험지역     & 2               \\\\\n",
       "\t 경상북도 의성군  & 0.3180173        & 15               &  62              & 소멸위험지역     & 2               \\\\\n",
       "\t 경상북도 의성군  & 0.3230777        & 15               &  62              & 소멸위험지역     & 2               \\\\\n",
       "\t 전라남도 고흥군  & 0.3326796        & 17               &  96              & 소멸위험지역     & 3               \\\\\n",
       "\t 전라남도 고흥군  & 0.3329543        & 17               &  96              & 소멸위험지역     & 3               \\\\\n",
       "\t 경상북도 의성군  & 0.3343386        & 15               &  61              & 소멸위험지역     & 2               \\\\\n",
       "\t 전라남도 고흥군  & 0.3354076        & 14               &  89              & 소멸위험지역     & 2               \\\\\n",
       "\t 경상북도 의성군  & 0.3361956        & 14               &  58              & 소멸위험지역     & 2               \\\\\n",
       "\t 전라남도 고흥군  & 0.3388926        & 14               &  89              & 소멸위험지역     & 2               \\\\\n",
       "\t 경상북도 의성군  & 0.3390656        & 14               &  58              & 소멸위험지역     & 2               \\\\\n",
       "\t 경상북도 의성군  & 0.3394598        & 14               &  58              & 소멸위험지역     & 2               \\\\\n",
       "\t 경상북도 의성군  & 0.3437643        &  6               &  52              & 소멸위험지역     & 2               \\\\\n",
       "\t 경상북도 군위군  & 0.3445397        & 14               &  17              & 소멸위험지역     & 2               \\\\\n",
       "\t 경상북도 군위군  & 0.3447966        & 12               &  15              & 소멸위험지역     & 2               \\\\\n",
       "\t 전라남도 고흥군  & 0.3459234        & 14               &  86              & 소멸위험지역     & 2               \\\\\n",
       "\t 경상남도 합천군  & 0.3474908        & 13               &  79              & 소멸위험지역     & 2               \\\\\n",
       "\t 경상북도 군위군  & 0.3481020        & 14               &  23              & 소멸위험지역     & 2               \\\\\n",
       "\t 경상남도 합천군  & 0.3486807        & 12               &  75              & 소멸위험지역     & 2               \\\\\n",
       "\t 전라남도 고흥군  & 0.3505847        & 22               & 103              & 소멸위험지역     & 3               \\\\\n",
       "\t 경상남도 합천군  & 0.3516944        &  8               &  68              & 소멸위험지역     & 2               \\\\\n",
       "\t 경상북도 군위군  & 0.3538694        & 14               &  24              & 소멸위험지역     & 2               \\\\\n",
       "\t 전라남도 고흥군  & 0.3539192        & 25               & 120              & 소멸위험지역     & 3               \\\\\n",
       "\t 경상북도 군위군  & 0.3559399        & 14               &  23              & 소멸위험지역     & 2               \\\\\n",
       "\t 경상북도 군위군  & 0.3567190        & 14               &  24              & 소멸위험지역     & 2               \\\\\n",
       "\t 경상남도 합천군  & 0.3568455        & 12               &  75              & 소멸위험지역     & 2               \\\\\n",
       "\t 전라남도 고흥군  & 0.3575033        & 25               & 121              & 소멸위험지역     & 3               \\\\\n",
       "\t 전라남도 고흥군  & 0.3607681        & 18               & 112              & 소멸위험지역     & 3               \\\\\n",
       "\t 경상북도 군위군  & 0.3612457        & 14               &  23              & 소멸위험지역     & 2               \\\\\n",
       "\t 경상남도 남해군  & 0.3626950        & 30               &  65              & 소멸위험지역     & 2               \\\\\n",
       "\t ... & ... & ... & ... & ... & ...\\\\\n",
       "\t 강원도 정선군      & 0.7580808          & 28                 &  82                & 소멸위험지역       & 2                 \\\\\n",
       "\t 전라북도 정읍시    & 0.7587822          & 46                 & 446                & 소멸위험지역       & 1                 \\\\\n",
       "\t 경상북도 울릉군    & 0.7590200          &  0                 &   6                & 소멸위험지역       & 2                 \\\\\n",
       "\t 전라북도 남원시    & 0.7598202          & 30                 & 262                & 소멸위험지역       & 1                 \\\\\n",
       "\t 전라북도 정읍시    & 0.7600100          & 53                 & 480                & 소멸위험지역       & 1                 \\\\\n",
       "\t 강원도 평창군      & 0.7615020          & 84                 &  67                & 소멸위험지역       & 3                 \\\\\n",
       "\t 인천광역시 옹진군  & 0.7615503          & 17                 &  18                & 소멸위험지역       & 2                 \\\\\n",
       "\t 경상남도 밀양시    & 0.7617209          & 77                 & 318                & 소멸위험지역       & 1                 \\\\\n",
       "\t 경상남도 밀양시    & 0.7631370          & 77                 & 319                & 소멸위험지역       & 1                 \\\\\n",
       "\t 경상북도 영주시    & 0.7653777          & 70                 & 327                & 소멸위험지역       & 1                 \\\\\n",
       "\t 인천광역시 옹진군  & 0.7656941          & 22                 &  18                & 소멸위험지역       & 2                 \\\\\n",
       "\t 인천광역시 옹진군  & 0.7684093          & 22                 &  16                & 소멸위험지역       & 2                 \\\\\n",
       "\t 전라남도 영암군    & 0.7688227          & 14                 & 100                & 소멸위험지역       & 3                 \\\\\n",
       "\t 인천광역시 옹진군  & 0.7688586          & 22                 &  17                & 소멸위험지역       & 2                 \\\\\n",
       "\t 경상남도 밀양시    & 0.7703982          & 78                 & 323                & 소멸위험지역       & 1                 \\\\\n",
       "\t 전라북도 정읍시    & 0.7710421          & 37                 & 348                & 소멸위험지역       & 1                 \\\\\n",
       "\t 강원도 홍천군      & 0.7770300          & 96                 & 190                & 소멸위험지역       & 3                 \\\\\n",
       "\t 인천광역시 옹진군  & 0.7774547          & 19                 &  16                & 소멸위험지역       & 2                 \\\\\n",
       "\t 전라남도 화순군    & 0.7831920          & 39                 & 234                & 소멸위험지역       & 1                 \\\\\n",
       "\t 경상북도 영주시    & 0.7836595          & 68                 & 332                & 소멸위험지역       & 1                 \\\\\n",
       "\t 강원도 홍천군      & 0.7842590          & 97                 & 187                & 소멸위험지역       & 3                 \\\\\n",
       "\t 경상남도 밀양시    & 0.7852879          & 46                 & 274                & 소멸위험지역       & 1                 \\\\\n",
       "\t 강원도 정선군      & 0.7856177          & 21                 &  74                & 소멸위험지역       & 2                 \\\\\n",
       "\t 전라남도 화순군    & 0.7858226          & 39                 & 234                & 소멸위험지역       & 1                 \\\\\n",
       "\t 전라남도 영암군    & 0.7878654          & 25                 & 112                & 소멸위험지역       & 3                 \\\\\n",
       "\t 경상북도 영주시    & 0.7902295          & 62                 & 357                & 소멸위험지역       & 1                 \\\\\n",
       "\t 전라남도 화순군    & 0.7924889          & 47                 & 248                & 소멸위험지역       & 1                 \\\\\n",
       "\t 충청남도 보령시    & 0.7930743          & 93                 & 320                & 소멸위험지역       & 1                 \\\\\n",
       "\t 전라남도 영암군    & 0.7947714          & 25                 & 117                & 소멸위험지역       & 3                 \\\\\n",
       "\t 전라남도 화순군    & 0.7991300          & 48                 & 254                & 소멸위험지역       & 1                 \\\\\n",
       "\\end{tabular}\n"
      ],
      "text/markdown": [
       "\n",
       "지역 | 소멸비율 | 부동산 | 학문.교육 | 결과값 | cluster1 | \n",
       "|---|---|---|---|---|---|---|---|---|---|---|---|---|---|---|---|---|---|---|---|---|---|---|---|---|---|---|---|---|---|---|---|---|---|---|---|---|---|---|---|---|---|---|---|---|---|---|---|---|---|---|---|---|---|---|---|---|---|---|---|---|\n",
       "| 경상북도 의성군  | 0.3139632        | 13               |  61              | 소멸위험지역     | 2                | \n",
       "| 경상북도 의성군  | 0.3156284        | 14               |  66              | 소멸위험지역     | 2                | \n",
       "| 경상북도 의성군  | 0.3180173        | 15               |  62              | 소멸위험지역     | 2                | \n",
       "| 경상북도 의성군  | 0.3230777        | 15               |  62              | 소멸위험지역     | 2                | \n",
       "| 전라남도 고흥군  | 0.3326796        | 17               |  96              | 소멸위험지역     | 3                | \n",
       "| 전라남도 고흥군  | 0.3329543        | 17               |  96              | 소멸위험지역     | 3                | \n",
       "| 경상북도 의성군  | 0.3343386        | 15               |  61              | 소멸위험지역     | 2                | \n",
       "| 전라남도 고흥군  | 0.3354076        | 14               |  89              | 소멸위험지역     | 2                | \n",
       "| 경상북도 의성군  | 0.3361956        | 14               |  58              | 소멸위험지역     | 2                | \n",
       "| 전라남도 고흥군  | 0.3388926        | 14               |  89              | 소멸위험지역     | 2                | \n",
       "| 경상북도 의성군  | 0.3390656        | 14               |  58              | 소멸위험지역     | 2                | \n",
       "| 경상북도 의성군  | 0.3394598        | 14               |  58              | 소멸위험지역     | 2                | \n",
       "| 경상북도 의성군  | 0.3437643        |  6               |  52              | 소멸위험지역     | 2                | \n",
       "| 경상북도 군위군  | 0.3445397        | 14               |  17              | 소멸위험지역     | 2                | \n",
       "| 경상북도 군위군  | 0.3447966        | 12               |  15              | 소멸위험지역     | 2                | \n",
       "| 전라남도 고흥군  | 0.3459234        | 14               |  86              | 소멸위험지역     | 2                | \n",
       "| 경상남도 합천군  | 0.3474908        | 13               |  79              | 소멸위험지역     | 2                | \n",
       "| 경상북도 군위군  | 0.3481020        | 14               |  23              | 소멸위험지역     | 2                | \n",
       "| 경상남도 합천군  | 0.3486807        | 12               |  75              | 소멸위험지역     | 2                | \n",
       "| 전라남도 고흥군  | 0.3505847        | 22               | 103              | 소멸위험지역     | 3                | \n",
       "| 경상남도 합천군  | 0.3516944        |  8               |  68              | 소멸위험지역     | 2                | \n",
       "| 경상북도 군위군  | 0.3538694        | 14               |  24              | 소멸위험지역     | 2                | \n",
       "| 전라남도 고흥군  | 0.3539192        | 25               | 120              | 소멸위험지역     | 3                | \n",
       "| 경상북도 군위군  | 0.3559399        | 14               |  23              | 소멸위험지역     | 2                | \n",
       "| 경상북도 군위군  | 0.3567190        | 14               |  24              | 소멸위험지역     | 2                | \n",
       "| 경상남도 합천군  | 0.3568455        | 12               |  75              | 소멸위험지역     | 2                | \n",
       "| 전라남도 고흥군  | 0.3575033        | 25               | 121              | 소멸위험지역     | 3                | \n",
       "| 전라남도 고흥군  | 0.3607681        | 18               | 112              | 소멸위험지역     | 3                | \n",
       "| 경상북도 군위군  | 0.3612457        | 14               |  23              | 소멸위험지역     | 2                | \n",
       "| 경상남도 남해군  | 0.3626950        | 30               |  65              | 소멸위험지역     | 2                | \n",
       "| ... | ... | ... | ... | ... | ... | \n",
       "| 강원도 정선군      | 0.7580808          | 28                 |  82                | 소멸위험지역       | 2                  | \n",
       "| 전라북도 정읍시    | 0.7587822          | 46                 | 446                | 소멸위험지역       | 1                  | \n",
       "| 경상북도 울릉군    | 0.7590200          |  0                 |   6                | 소멸위험지역       | 2                  | \n",
       "| 전라북도 남원시    | 0.7598202          | 30                 | 262                | 소멸위험지역       | 1                  | \n",
       "| 전라북도 정읍시    | 0.7600100          | 53                 | 480                | 소멸위험지역       | 1                  | \n",
       "| 강원도 평창군      | 0.7615020          | 84                 |  67                | 소멸위험지역       | 3                  | \n",
       "| 인천광역시 옹진군  | 0.7615503          | 17                 |  18                | 소멸위험지역       | 2                  | \n",
       "| 경상남도 밀양시    | 0.7617209          | 77                 | 318                | 소멸위험지역       | 1                  | \n",
       "| 경상남도 밀양시    | 0.7631370          | 77                 | 319                | 소멸위험지역       | 1                  | \n",
       "| 경상북도 영주시    | 0.7653777          | 70                 | 327                | 소멸위험지역       | 1                  | \n",
       "| 인천광역시 옹진군  | 0.7656941          | 22                 |  18                | 소멸위험지역       | 2                  | \n",
       "| 인천광역시 옹진군  | 0.7684093          | 22                 |  16                | 소멸위험지역       | 2                  | \n",
       "| 전라남도 영암군    | 0.7688227          | 14                 | 100                | 소멸위험지역       | 3                  | \n",
       "| 인천광역시 옹진군  | 0.7688586          | 22                 |  17                | 소멸위험지역       | 2                  | \n",
       "| 경상남도 밀양시    | 0.7703982          | 78                 | 323                | 소멸위험지역       | 1                  | \n",
       "| 전라북도 정읍시    | 0.7710421          | 37                 | 348                | 소멸위험지역       | 1                  | \n",
       "| 강원도 홍천군      | 0.7770300          | 96                 | 190                | 소멸위험지역       | 3                  | \n",
       "| 인천광역시 옹진군  | 0.7774547          | 19                 |  16                | 소멸위험지역       | 2                  | \n",
       "| 전라남도 화순군    | 0.7831920          | 39                 | 234                | 소멸위험지역       | 1                  | \n",
       "| 경상북도 영주시    | 0.7836595          | 68                 | 332                | 소멸위험지역       | 1                  | \n",
       "| 강원도 홍천군      | 0.7842590          | 97                 | 187                | 소멸위험지역       | 3                  | \n",
       "| 경상남도 밀양시    | 0.7852879          | 46                 | 274                | 소멸위험지역       | 1                  | \n",
       "| 강원도 정선군      | 0.7856177          | 21                 |  74                | 소멸위험지역       | 2                  | \n",
       "| 전라남도 화순군    | 0.7858226          | 39                 | 234                | 소멸위험지역       | 1                  | \n",
       "| 전라남도 영암군    | 0.7878654          | 25                 | 112                | 소멸위험지역       | 3                  | \n",
       "| 경상북도 영주시    | 0.7902295          | 62                 | 357                | 소멸위험지역       | 1                  | \n",
       "| 전라남도 화순군    | 0.7924889          | 47                 | 248                | 소멸위험지역       | 1                  | \n",
       "| 충청남도 보령시    | 0.7930743          | 93                 | 320                | 소멸위험지역       | 1                  | \n",
       "| 전라남도 영암군    | 0.7947714          | 25                 | 117                | 소멸위험지역       | 3                  | \n",
       "| 전라남도 화순군    | 0.7991300          | 48                 | 254                | 소멸위험지역       | 1                  | \n",
       "\n",
       "\n"
      ],
      "text/plain": [
       "    지역               소멸비율  부동산 학문.교육 결과값       cluster1\n",
       "1   경상북도 의성군    0.3139632 13      61       소멸위험지역 2       \n",
       "2   경상북도 의성군    0.3156284 14      66       소멸위험지역 2       \n",
       "3   경상북도 의성군    0.3180173 15      62       소멸위험지역 2       \n",
       "4   경상북도 의성군    0.3230777 15      62       소멸위험지역 2       \n",
       "5   전라남도 고흥군    0.3326796 17      96       소멸위험지역 3       \n",
       "6   전라남도 고흥군    0.3329543 17      96       소멸위험지역 3       \n",
       "7   경상북도 의성군    0.3343386 15      61       소멸위험지역 2       \n",
       "8   전라남도 고흥군    0.3354076 14      89       소멸위험지역 2       \n",
       "9   경상북도 의성군    0.3361956 14      58       소멸위험지역 2       \n",
       "10  전라남도 고흥군    0.3388926 14      89       소멸위험지역 2       \n",
       "11  경상북도 의성군    0.3390656 14      58       소멸위험지역 2       \n",
       "12  경상북도 의성군    0.3394598 14      58       소멸위험지역 2       \n",
       "13  경상북도 의성군    0.3437643  6      52       소멸위험지역 2       \n",
       "14  경상북도 군위군    0.3445397 14      17       소멸위험지역 2       \n",
       "15  경상북도 군위군    0.3447966 12      15       소멸위험지역 2       \n",
       "16  전라남도 고흥군    0.3459234 14      86       소멸위험지역 2       \n",
       "17  경상남도 합천군    0.3474908 13      79       소멸위험지역 2       \n",
       "18  경상북도 군위군    0.3481020 14      23       소멸위험지역 2       \n",
       "19  경상남도 합천군    0.3486807 12      75       소멸위험지역 2       \n",
       "20  전라남도 고흥군    0.3505847 22     103       소멸위험지역 3       \n",
       "21  경상남도 합천군    0.3516944  8      68       소멸위험지역 2       \n",
       "22  경상북도 군위군    0.3538694 14      24       소멸위험지역 2       \n",
       "23  전라남도 고흥군    0.3539192 25     120       소멸위험지역 3       \n",
       "24  경상북도 군위군    0.3559399 14      23       소멸위험지역 2       \n",
       "25  경상북도 군위군    0.3567190 14      24       소멸위험지역 2       \n",
       "26  경상남도 합천군    0.3568455 12      75       소멸위험지역 2       \n",
       "27  전라남도 고흥군    0.3575033 25     121       소멸위험지역 3       \n",
       "28  전라남도 고흥군    0.3607681 18     112       소멸위험지역 3       \n",
       "29  경상북도 군위군    0.3612457 14      23       소멸위험지역 2       \n",
       "30  경상남도 남해군    0.3626950 30      65       소멸위험지역 2       \n",
       "... ...                ...       ...    ...       ...          ...     \n",
       "589 강원도 정선군      0.7580808 28      82       소멸위험지역 2       \n",
       "590 전라북도 정읍시    0.7587822 46     446       소멸위험지역 1       \n",
       "591 경상북도 울릉군    0.7590200  0       6       소멸위험지역 2       \n",
       "592 전라북도 남원시    0.7598202 30     262       소멸위험지역 1       \n",
       "593 전라북도 정읍시    0.7600100 53     480       소멸위험지역 1       \n",
       "594 강원도 평창군      0.7615020 84      67       소멸위험지역 3       \n",
       "595 인천광역시 옹진군  0.7615503 17      18       소멸위험지역 2       \n",
       "596 경상남도 밀양시    0.7617209 77     318       소멸위험지역 1       \n",
       "597 경상남도 밀양시    0.7631370 77     319       소멸위험지역 1       \n",
       "598 경상북도 영주시    0.7653777 70     327       소멸위험지역 1       \n",
       "599 인천광역시 옹진군  0.7656941 22      18       소멸위험지역 2       \n",
       "600 인천광역시 옹진군  0.7684093 22      16       소멸위험지역 2       \n",
       "601 전라남도 영암군    0.7688227 14     100       소멸위험지역 3       \n",
       "602 인천광역시 옹진군  0.7688586 22      17       소멸위험지역 2       \n",
       "603 경상남도 밀양시    0.7703982 78     323       소멸위험지역 1       \n",
       "604 전라북도 정읍시    0.7710421 37     348       소멸위험지역 1       \n",
       "605 강원도 홍천군      0.7770300 96     190       소멸위험지역 3       \n",
       "606 인천광역시 옹진군  0.7774547 19      16       소멸위험지역 2       \n",
       "607 전라남도 화순군    0.7831920 39     234       소멸위험지역 1       \n",
       "608 경상북도 영주시    0.7836595 68     332       소멸위험지역 1       \n",
       "609 강원도 홍천군      0.7842590 97     187       소멸위험지역 3       \n",
       "610 경상남도 밀양시    0.7852879 46     274       소멸위험지역 1       \n",
       "611 강원도 정선군      0.7856177 21      74       소멸위험지역 2       \n",
       "612 전라남도 화순군    0.7858226 39     234       소멸위험지역 1       \n",
       "613 전라남도 영암군    0.7878654 25     112       소멸위험지역 3       \n",
       "614 경상북도 영주시    0.7902295 62     357       소멸위험지역 1       \n",
       "615 전라남도 화순군    0.7924889 47     248       소멸위험지역 1       \n",
       "616 충청남도 보령시    0.7930743 93     320       소멸위험지역 1       \n",
       "617 전라남도 영암군    0.7947714 25     117       소멸위험지역 3       \n",
       "618 전라남도 화순군    0.7991300 48     254       소멸위험지역 1       "
      ]
     },
     "metadata": {},
     "output_type": "display_data"
    }
   ],
   "source": [
    "clust"
   ]
  }
 ],
 "metadata": {
  "kernelspec": {
   "display_name": "R",
   "language": "R",
   "name": "ir"
  },
  "language_info": {
   "codemirror_mode": "r",
   "file_extension": ".r",
   "mimetype": "text/x-r-source",
   "name": "R",
   "pygments_lexer": "r",
   "version": "3.4.3"
  }
 },
 "nbformat": 4,
 "nbformat_minor": 2
}
